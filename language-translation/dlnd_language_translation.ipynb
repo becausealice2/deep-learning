{
 "cells": [
  {
   "cell_type": "markdown",
   "metadata": {
    "collapsed": true
   },
   "source": [
    "# Language Translation\n",
    "In this project, you’re going to take a peek into the realm of neural network machine translation.  You’ll be training a sequence to sequence model on a dataset of English and French sentences that can translate new sentences from English to French.\n",
    "## Get the Data\n",
    "Since translating the whole language of English to French will take lots of time to train, we have provided you with a small portion of the English corpus."
   ]
  },
  {
   "cell_type": "code",
   "execution_count": 1,
   "metadata": {
    "collapsed": true
   },
   "outputs": [],
   "source": [
    "\"\"\"\n",
    "DON'T MODIFY ANYTHING IN THIS CELL\n",
    "\"\"\"\n",
    "import helper\n",
    "import problem_unittests as tests\n",
    "\n",
    "source_path = 'data/small_vocab_en'\n",
    "target_path = 'data/small_vocab_fr'\n",
    "source_text = helper.load_data(source_path)\n",
    "target_text = helper.load_data(target_path)"
   ]
  },
  {
   "cell_type": "markdown",
   "metadata": {},
   "source": [
    "## Explore the Data\n",
    "Play around with view_sentence_range to view different parts of the data."
   ]
  },
  {
   "cell_type": "code",
   "execution_count": 2,
   "metadata": {},
   "outputs": [
    {
     "name": "stdout",
     "output_type": "stream",
     "text": [
      "Dataset Stats\n",
      "Roughly the number of unique words: 227\n",
      "Number of sentences: 137861\n",
      "Average number of words in a sentence: 13.225277634719028\n",
      "\n",
      "English sentences 0 to 10:\n",
      "new jersey is sometimes quiet during autumn , and it is snowy in april .\n",
      "the united states is usually chilly during july , and it is usually freezing in november .\n",
      "california is usually quiet during march , and it is usually hot in june .\n",
      "the united states is sometimes mild during june , and it is cold in september .\n",
      "your least liked fruit is the grape , but my least liked is the apple .\n",
      "his favorite fruit is the orange , but my favorite is the grape .\n",
      "paris is relaxing during december , but it is usually chilly in july .\n",
      "new jersey is busy during spring , and it is never hot in march .\n",
      "our least liked fruit is the lemon , but my least liked is the grape .\n",
      "the united states is sometimes busy during january , and it is sometimes warm in november .\n",
      "\n",
      "French sentences 0 to 10:\n",
      "new jersey est parfois calme pendant l' automne , et il est neigeux en avril .\n",
      "les états-unis est généralement froid en juillet , et il gèle habituellement en novembre .\n",
      "california est généralement calme en mars , et il est généralement chaud en juin .\n",
      "les états-unis est parfois légère en juin , et il fait froid en septembre .\n",
      "votre moins aimé fruit est le raisin , mais mon moins aimé est la pomme .\n",
      "son fruit préféré est l'orange , mais mon préféré est le raisin .\n",
      "paris est relaxant en décembre , mais il est généralement froid en juillet .\n",
      "new jersey est occupé au printemps , et il est jamais chaude en mars .\n",
      "notre fruit est moins aimé le citron , mais mon moins aimé est le raisin .\n",
      "les états-unis est parfois occupé en janvier , et il est parfois chaud en novembre .\n"
     ]
    }
   ],
   "source": [
    "view_sentence_range = (0, 10)\n",
    "\n",
    "\"\"\"\n",
    "DON'T MODIFY ANYTHING IN THIS CELL\n",
    "\"\"\"\n",
    "import numpy as np\n",
    "\n",
    "print('Dataset Stats')\n",
    "print('Roughly the number of unique words: {}'.format(len({word: None for word in source_text.split()})))\n",
    "\n",
    "sentences = source_text.split('\\n')\n",
    "word_counts = [len(sentence.split()) for sentence in sentences]\n",
    "print('Number of sentences: {}'.format(len(sentences)))\n",
    "print('Average number of words in a sentence: {}'.format(np.average(word_counts)))\n",
    "\n",
    "print()\n",
    "print('English sentences {} to {}:'.format(*view_sentence_range))\n",
    "print('\\n'.join(source_text.split('\\n')[view_sentence_range[0]:view_sentence_range[1]]))\n",
    "print()\n",
    "print('French sentences {} to {}:'.format(*view_sentence_range))\n",
    "print('\\n'.join(target_text.split('\\n')[view_sentence_range[0]:view_sentence_range[1]]))"
   ]
  },
  {
   "cell_type": "markdown",
   "metadata": {},
   "source": [
    "## Implement Preprocessing Function\n",
    "### Text to Word Ids\n",
    "As you did with other RNNs, you must turn the text into a number so the computer can understand it. In the function `text_to_ids()`, you'll turn `source_text` and `target_text` from words to ids.  However, you need to add the `<EOS>` word id at the end of `target_text`.  This will help the neural network predict when the sentence should end.\n",
    "\n",
    "You can get the `<EOS>` word id by doing:\n",
    "```python\n",
    "target_vocab_to_int['<EOS>']\n",
    "```\n",
    "You can get other word ids using `source_vocab_to_int` and `target_vocab_to_int`."
   ]
  },
  {
   "cell_type": "code",
   "execution_count": 3,
   "metadata": {},
   "outputs": [
    {
     "name": "stdout",
     "output_type": "stream",
     "text": [
      "Tests Passed\n"
     ]
    }
   ],
   "source": [
    "def text_to_ids(source_text, target_text, source_vocab_to_int, target_vocab_to_int):\n",
    "    \"\"\"\n",
    "    Convert source and target text to proper word ids\n",
    "    :param source_text: String that contains all the source text.\n",
    "    :param target_text: String that contains all the target text.\n",
    "    :param source_vocab_to_int: Dictionary to go from the source words to an id\n",
    "    :param target_vocab_to_int: Dictionary to go from the target words to an id\n",
    "    :return: A tuple of lists (source_id_text, target_id_text)\n",
    "    \"\"\"\n",
    "    # TODO: Implement Function\n",
    "    \n",
    "    s_sentence = [sentence for sentence in source_text.split('\\n')]\n",
    "    t_sentence = [sentence+\" <EOS>\" for sentence in target_text.split('\\n')]\n",
    "    \n",
    "    source_id_text = [[source_vocab_to_int[vocab] for vocab in sentence.split()] for sentence in s_sentence]\n",
    "    target_id_text = [[target_vocab_to_int[vocab] for vocab in sentence.split()] for sentence in t_sentence]\n",
    "    \n",
    "    return source_id_text, target_id_text\n",
    "\n",
    "\"\"\"\n",
    "DON'T MODIFY ANYTHING IN THIS CELL THAT IS BELOW THIS LINE\n",
    "\"\"\"\n",
    "tests.test_text_to_ids(text_to_ids)"
   ]
  },
  {
   "cell_type": "markdown",
   "metadata": {},
   "source": [
    "### Preprocess all the data and save it\n",
    "Running the code cell below will preprocess all the data and save it to file."
   ]
  },
  {
   "cell_type": "code",
   "execution_count": 4,
   "metadata": {
    "collapsed": true
   },
   "outputs": [],
   "source": [
    "\"\"\"\n",
    "DON'T MODIFY ANYTHING IN THIS CELL\n",
    "\"\"\"\n",
    "helper.preprocess_and_save_data(source_path, target_path, text_to_ids)"
   ]
  },
  {
   "cell_type": "markdown",
   "metadata": {},
   "source": [
    "# Check Point\n",
    "This is your first checkpoint. If you ever decide to come back to this notebook or have to restart the notebook, you can start from here. The preprocessed data has been saved to disk."
   ]
  },
  {
   "cell_type": "code",
   "execution_count": 5,
   "metadata": {
    "collapsed": true
   },
   "outputs": [],
   "source": [
    "\"\"\"\n",
    "DON'T MODIFY ANYTHING IN THIS CELL\n",
    "\"\"\"\n",
    "import numpy as np\n",
    "import helper\n",
    "\n",
    "(source_int_text, target_int_text), (source_vocab_to_int, target_vocab_to_int), _ = helper.load_preprocess()"
   ]
  },
  {
   "cell_type": "markdown",
   "metadata": {},
   "source": [
    "### Check the Version of TensorFlow and Access to GPU\n",
    "This will check to make sure you have the correct version of TensorFlow and access to a GPU"
   ]
  },
  {
   "cell_type": "code",
   "execution_count": 6,
   "metadata": {},
   "outputs": [
    {
     "name": "stdout",
     "output_type": "stream",
     "text": [
      "TensorFlow Version: 1.1.0\n"
     ]
    },
    {
     "name": "stderr",
     "output_type": "stream",
     "text": [
      "C:\\Users\\Alice\\Anaconda3\\envs\\tensorflow\\lib\\site-packages\\ipykernel_launcher.py:15: UserWarning: No GPU found. Please use a GPU to train your neural network.\n",
      "  from ipykernel import kernelapp as app\n"
     ]
    }
   ],
   "source": [
    "\"\"\"\n",
    "DON'T MODIFY ANYTHING IN THIS CELL\n",
    "\"\"\"\n",
    "from distutils.version import LooseVersion\n",
    "import warnings\n",
    "import tensorflow as tf\n",
    "from tensorflow.python.layers.core import Dense\n",
    "\n",
    "# Check TensorFlow Version\n",
    "assert LooseVersion(tf.__version__) >= LooseVersion('1.1'), 'Please use TensorFlow version 1.1 or newer'\n",
    "print('TensorFlow Version: {}'.format(tf.__version__))\n",
    "\n",
    "# Check for a GPU\n",
    "if not tf.test.gpu_device_name():\n",
    "    warnings.warn('No GPU found. Please use a GPU to train your neural network.')\n",
    "else:\n",
    "    print('Default GPU Device: {}'.format(tf.test.gpu_device_name()))"
   ]
  },
  {
   "cell_type": "markdown",
   "metadata": {},
   "source": [
    "## Build the Neural Network\n",
    "You'll build the components necessary to build a Sequence-to-Sequence model by implementing the following functions below:\n",
    "- `model_inputs`\n",
    "- `process_decoder_input`\n",
    "- `encoding_layer`\n",
    "- `decoding_layer_train`\n",
    "- `decoding_layer_infer`\n",
    "- `decoding_layer`\n",
    "- `seq2seq_model`\n",
    "\n",
    "### Input\n",
    "Implement the `model_inputs()` function to create TF Placeholders for the Neural Network. It should create the following placeholders:\n",
    "\n",
    "- Input text placeholder named \"input\" using the TF Placeholder name parameter with rank 2.\n",
    "- Targets placeholder with rank 2.\n",
    "- Learning rate placeholder with rank 0.\n",
    "- Keep probability placeholder named \"keep_prob\" using the TF Placeholder name parameter with rank 0.\n",
    "- Target sequence length placeholder named \"target_sequence_length\" with rank 1\n",
    "- Max target sequence length tensor named \"max_target_len\" getting its value from applying tf.reduce_max on the target_sequence_length placeholder. Rank 0.\n",
    "- Source sequence length placeholder named \"source_sequence_length\" with rank 1\n",
    "\n",
    "Return the placeholders in the following the tuple (input, targets, learning rate, keep probability, target sequence length, max target sequence length, source sequence length)"
   ]
  },
  {
   "cell_type": "code",
   "execution_count": 80,
   "metadata": {},
   "outputs": [
    {
     "name": "stdout",
     "output_type": "stream",
     "text": [
      "Tests Passed\n"
     ]
    }
   ],
   "source": [
    "def model_inputs():\n",
    "    \"\"\"\n",
    "    Create TF Placeholders for input, targets, learning rate, and lengths of source and target sequences.\n",
    "    :return: Tuple (input, targets, learning rate, keep probability, target sequence length,\n",
    "    max target sequence length, source sequence length)\n",
    "    \"\"\"\n",
    "    # TODO: Implement Function\n",
    "    input_ = tf.placeholder(tf.int32, [None, None], name=\"input\")\n",
    "    targets = tf.placeholder(tf.int32, [None, None], name=\"targets\")\n",
    "    learning_rate = tf.placeholder(tf.float32, name=\"learning_rate\")\n",
    "    keep_prob = tf.placeholder(tf.float32, name=\"keep_prob\")\n",
    "    target_seq_len = tf.placeholder(tf.int32, (None,), name=\"target_sequence_length\")\n",
    "    max_target_len = tf.reduce_max(target_seq_len, name=\"max_target_len\")\n",
    "    source_seq_len = tf.placeholder(tf.int32, (None,), name=\"source_sequence_length\")\n",
    "    return input_, targets, learning_rate, keep_prob, target_seq_len, max_target_len, source_seq_len\n",
    "\n",
    "\n",
    "\"\"\"\n",
    "DON'T MODIFY ANYTHING IN THIS CELL THAT IS BELOW THIS LINE\n",
    "\"\"\"\n",
    "tests.test_model_inputs(model_inputs)"
   ]
  },
  {
   "cell_type": "markdown",
   "metadata": {},
   "source": [
    "### Process Decoder Input\n",
    "Implement `process_decoder_input` by removing the last word id from each batch in `target_data` and concat the GO ID to the begining of each batch."
   ]
  },
  {
   "cell_type": "code",
   "execution_count": 60,
   "metadata": {},
   "outputs": [
    {
     "name": "stdout",
     "output_type": "stream",
     "text": [
      "Tests Passed\n"
     ]
    }
   ],
   "source": [
    "def process_decoder_input(target_data, target_vocab_to_int, batch_size):\n",
    "    \"\"\"\n",
    "    Preprocess target data for encoding\n",
    "    :param target_data: Target Placehoder\n",
    "    :param target_vocab_to_int: Dictionary to go from the target words to an id\n",
    "    :param batch_size: Batch Size\n",
    "    :return: Preprocessed target data\n",
    "    \"\"\"\n",
    "    # TODO: Implement Function\n",
    "    ending = tf.strided_slice(target_data, [0, 0], [batch_size, -1], [1, 1])\n",
    "    dec_input = tf.concat([tf.fill([batch_size, 1], target_vocab_to_int['<GO>']), ending], 1)\n",
    "\n",
    "    return dec_input\n",
    "\n",
    "\"\"\"\n",
    "DON'T MODIFY ANYTHING IN THIS CELL THAT IS BELOW THIS LINE\n",
    "\"\"\"\n",
    "tests.test_process_encoding_input(process_decoder_input)"
   ]
  },
  {
   "cell_type": "markdown",
   "metadata": {},
   "source": [
    "### Encoding\n",
    "Implement `encoding_layer()` to create a Encoder RNN layer:\n",
    " * Embed the encoder input using [`tf.contrib.layers.embed_sequence`](https://www.tensorflow.org/api_docs/python/tf/contrib/layers/embed_sequence)\n",
    " * Construct a [stacked](https://github.com/tensorflow/tensorflow/blob/6947f65a374ebf29e74bb71e36fd82760056d82c/tensorflow/docs_src/tutorials/recurrent.md#stacking-multiple-lstms) [`tf.contrib.rnn.LSTMCell`](https://www.tensorflow.org/api_docs/python/tf/contrib/rnn/LSTMCell) wrapped in a [`tf.contrib.rnn.DropoutWrapper`](https://www.tensorflow.org/api_docs/python/tf/contrib/rnn/DropoutWrapper)\n",
    " * Pass cell and embedded input to [`tf.nn.dynamic_rnn()`](https://www.tensorflow.org/api_docs/python/tf/nn/dynamic_rnn)"
   ]
  },
  {
   "cell_type": "code",
   "execution_count": 61,
   "metadata": {
    "scrolled": false
   },
   "outputs": [
    {
     "name": "stdout",
     "output_type": "stream",
     "text": [
      "Tests Passed\n"
     ]
    }
   ],
   "source": [
    "from imp import reload\n",
    "reload(tests)\n",
    "\n",
    "def encoding_layer(rnn_inputs, rnn_size, num_layers, keep_prob, \n",
    "                   source_sequence_length, source_vocab_size, \n",
    "                   encoding_embedding_size):\n",
    "    \"\"\"\n",
    "    Create encoding layer\n",
    "    :param rnn_inputs: Inputs for the RNN\n",
    "    :param rnn_size: RNN Size\n",
    "    :param num_layers: Number of layers\n",
    "    :param keep_prob: Dropout keep probability\n",
    "    :param source_sequence_length: a list of the lengths of each sequence in the batch\n",
    "    :param source_vocab_size: vocabulary size of source data\n",
    "    :param encoding_embedding_size: embedding size of source data\n",
    "    :return: tuple (RNN output, RNN state)\n",
    "    \"\"\"\n",
    "    # TODO: Implement Function\n",
    "    # Encoder embedding\n",
    "    enc_embed_input = tf.contrib.layers.embed_sequence(rnn_inputs,\n",
    "                                                       source_vocab_size,\n",
    "                                                       encoding_embedding_size)\n",
    "\n",
    "    # RNN cell\n",
    "    def make_cell(rnn_size):\n",
    "        enc_cell = tf.contrib.rnn.LSTMCell(rnn_size,\n",
    "                                           initializer=tf.random_uniform_initializer(-0.1, 0.1, seed=2))\n",
    "        return enc_cell\n",
    "\n",
    "    enc_cell = tf.contrib.rnn.MultiRNNCell([make_cell(rnn_size) for _ in range(num_layers)])\n",
    "    \n",
    "    enc_output, enc_state = tf.nn.dynamic_rnn(enc_cell,\n",
    "                                              enc_embed_input,\n",
    "                                              sequence_length=source_sequence_length,\n",
    "                                              dtype=tf.float32)\n",
    "    \n",
    "    return enc_output, enc_state\n",
    "\n",
    "\"\"\"\n",
    "DON'T MODIFY ANYTHING IN THIS CELL THAT IS BELOW THIS LINE\n",
    "\"\"\"\n",
    "tests.test_encoding_layer(encoding_layer)"
   ]
  },
  {
   "cell_type": "markdown",
   "metadata": {},
   "source": [
    "### Decoding - Training\n",
    "Create a training decoding layer:\n",
    "* Create a [`tf.contrib.seq2seq.TrainingHelper`](https://www.tensorflow.org/api_docs/python/tf/contrib/seq2seq/TrainingHelper) \n",
    "* Create a [`tf.contrib.seq2seq.BasicDecoder`](https://www.tensorflow.org/api_docs/python/tf/contrib/seq2seq/BasicDecoder)\n",
    "* Obtain the decoder outputs from [`tf.contrib.seq2seq.dynamic_decode`](https://www.tensorflow.org/api_docs/python/tf/contrib/seq2seq/dynamic_decode)"
   ]
  },
  {
   "cell_type": "code",
   "execution_count": 76,
   "metadata": {},
   "outputs": [
    {
     "name": "stdout",
     "output_type": "stream",
     "text": [
      "Tests Passed\n"
     ]
    }
   ],
   "source": [
    "def decoding_layer_train(encoder_state, dec_cell, dec_embed_input, \n",
    "                         target_sequence_length, max_summary_length, \n",
    "                         output_layer, keep_prob):\n",
    "    \"\"\"\n",
    "    Create a decoding layer for training\n",
    "    :param encoder_state: Encoder State\n",
    "    :param dec_cell: Decoder RNN Cell\n",
    "    :param dec_embed_input: Decoder embedded input\n",
    "    :param target_sequence_length: The lengths of each sequence in the target batch\n",
    "    :param max_summary_length: The length of the longest sequence in the batch\n",
    "    :param output_layer: Function to apply the output layer\n",
    "    :param keep_prob: Dropout keep probability\n",
    "    :return: BasicDecoderOutput containing training logits and sample_id\n",
    "    \"\"\"\n",
    "    # TODO: Implement Function\n",
    "    dec_cell = tf.contrib.rnn.DropoutWrapper(dec_cell,output_keep_prob=keep_prob)\n",
    "    \n",
    "    # Helper for the training process. Used by BasicDecoder to read inputs.\n",
    "    training_helper = tf.contrib.seq2seq.TrainingHelper(inputs=dec_embed_input,\n",
    "                                                        sequence_length=target_sequence_length)\n",
    "\n",
    "    # Basic decoder\n",
    "    training_decoder = tf.contrib.seq2seq.BasicDecoder(dec_cell,\n",
    "                                                       training_helper,\n",
    "                                                       encoder_state,\n",
    "                                                       output_layer) \n",
    "\n",
    "    # Perform dynamic decoding using the decoder\n",
    "    training_decoder_output, _ = tf.contrib.seq2seq.dynamic_decode(training_decoder,\n",
    "                                                                   output_time_major=False,\n",
    "                                                                   impute_finished=True,\n",
    "                                                                   maximum_iterations=max_summary_length)\n",
    "    \n",
    "    return training_decoder_output\n",
    "\n",
    "\n",
    "\"\"\"\n",
    "DON'T MODIFY ANYTHING IN THIS CELL THAT IS BELOW THIS LINE\n",
    "\"\"\"\n",
    "tests.test_decoding_layer_train(decoding_layer_train)"
   ]
  },
  {
   "cell_type": "markdown",
   "metadata": {},
   "source": [
    "### Decoding - Inference\n",
    "Create inference decoder:\n",
    "* Create a [`tf.contrib.seq2seq.GreedyEmbeddingHelper`](https://www.tensorflow.org/api_docs/python/tf/contrib/seq2seq/GreedyEmbeddingHelper)\n",
    "* Create a [`tf.contrib.seq2seq.BasicDecoder`](https://www.tensorflow.org/api_docs/python/tf/contrib/seq2seq/BasicDecoder)\n",
    "* Obtain the decoder outputs from [`tf.contrib.seq2seq.dynamic_decode`](https://www.tensorflow.org/api_docs/python/tf/contrib/seq2seq/dynamic_decode)"
   ]
  },
  {
   "cell_type": "code",
   "execution_count": 70,
   "metadata": {
    "scrolled": true
   },
   "outputs": [
    {
     "name": "stdout",
     "output_type": "stream",
     "text": [
      "Tests Passed\n"
     ]
    }
   ],
   "source": [
    "def decoding_layer_infer(encoder_state, dec_cell, dec_embeddings, start_of_sequence_id,\n",
    "                         end_of_sequence_id, max_target_sequence_length,\n",
    "                         vocab_size, output_layer, batch_size, keep_prob):\n",
    "    \"\"\"\n",
    "    Create a decoding layer for inference\n",
    "    :param encoder_state: Encoder state\n",
    "    :param dec_cell: Decoder RNN Cell\n",
    "    :param dec_embeddings: Decoder embeddings\n",
    "    :param start_of_sequence_id: GO ID\n",
    "    :param end_of_sequence_id: EOS Id\n",
    "    :param max_target_sequence_length: Maximum length of target sequences\n",
    "    :param vocab_size: Size of decoder/target vocabulary\n",
    "    :param decoding_scope: TenorFlow Variable Scope for decoding\n",
    "    :param output_layer: Function to apply the output layer\n",
    "    :param batch_size: Batch size\n",
    "    :param keep_prob: Dropout keep probability\n",
    "    :return: BasicDecoderOutput containing inference logits and sample_id\n",
    "    \"\"\"\n",
    "    # TODO: Implement Function\n",
    "    dec_cell = tf.contrib.rnn.DropoutWrapper(dec_cell,output_keep_prob=keep_prob)\n",
    "    start_tokens = tf.tile(tf.constant([start_of_sequence_id], dtype=tf.int32), [batch_size], name='start_tokens')\n",
    "    # Helper for the inference process.\n",
    "    inference_helper = tf.contrib.seq2seq.GreedyEmbeddingHelper(dec_embeddings,\n",
    "                                                                start_tokens,\n",
    "                                                                end_of_sequence_id)\n",
    "\n",
    "    # Basic decoder\n",
    "    inference_decoder = tf.contrib.seq2seq.BasicDecoder(dec_cell,\n",
    "                                                        inference_helper,\n",
    "                                                        encoder_state,\n",
    "                                                        output_layer)\n",
    "\n",
    "    # Perform dynamic decoding using the decoder\n",
    "    inference_decoder_output, _ = tf.contrib.seq2seq.dynamic_decode(inference_decoder,\n",
    "                                                                    output_time_major=False,\n",
    "                                                                    impute_finished=True,\n",
    "                                                                    maximum_iterations=max_target_sequence_length)\n",
    "    \n",
    "    return inference_decoder_output\n",
    "\n",
    "\"\"\"\n",
    "DON'T MODIFY ANYTHING IN THIS CELL THAT IS BELOW THIS LINE\n",
    "\"\"\"\n",
    "tests.test_decoding_layer_infer(decoding_layer_infer)"
   ]
  },
  {
   "cell_type": "markdown",
   "metadata": {},
   "source": [
    "### Build the Decoding Layer\n",
    "Implement `decoding_layer()` to create a Decoder RNN layer.\n",
    "\n",
    "* Embed the target sequences\n",
    "* Construct the decoder LSTM cell (just like you constructed the encoder cell above)\n",
    "* Create an output layer to map the outputs of the decoder to the elements of our vocabulary\n",
    "* Use the your `decoding_layer_train(encoder_state, dec_cell, dec_embed_input, target_sequence_length, max_target_sequence_length, output_layer, keep_prob)` function to get the training logits.\n",
    "* Use your `decoding_layer_infer(encoder_state, dec_cell, dec_embeddings, start_of_sequence_id, end_of_sequence_id, max_target_sequence_length, vocab_size, output_layer, batch_size, keep_prob)` function to get the inference logits.\n",
    "\n",
    "Note: You'll need to use [tf.variable_scope](https://www.tensorflow.org/api_docs/python/tf/variable_scope) to share variables between training and inference."
   ]
  },
  {
   "cell_type": "code",
   "execution_count": 72,
   "metadata": {},
   "outputs": [
    {
     "name": "stdout",
     "output_type": "stream",
     "text": [
      "Tests Passed\n"
     ]
    }
   ],
   "source": [
    "def decoding_layer(dec_input, encoder_state,\n",
    "                   target_sequence_length, max_target_sequence_length,\n",
    "                   rnn_size,\n",
    "                   num_layers, target_vocab_to_int, target_vocab_size,\n",
    "                   batch_size, keep_prob, decoding_embedding_size):\n",
    "    \"\"\"\n",
    "    Create decoding layer\n",
    "    :param dec_input: Decoder input\n",
    "    :param encoder_state: Encoder state\n",
    "    :param target_sequence_length: The lengths of each sequence in the target batch\n",
    "    :param max_target_sequence_length: Maximum length of target sequences\n",
    "    :param rnn_size: RNN Size\n",
    "    :param num_layers: Number of layers\n",
    "    :param target_vocab_to_int: Dictionary to go from the target words to an id\n",
    "    :param target_vocab_size: Size of target vocabulary\n",
    "    :param batch_size: The size of the batch\n",
    "    :param keep_prob: Dropout keep probability\n",
    "    :param decoding_embedding_size: Decoding embedding size\n",
    "    :return: Tuple of (Training BasicDecoderOutput, Inference BasicDecoderOutput)\n",
    "    \"\"\"\n",
    "    # TODO: Implement Function  \n",
    "    dec_embeddings = tf.Variable(tf.random_uniform([target_vocab_size, decoding_embedding_size]))\n",
    "    dec_embed_input = tf.nn.embedding_lookup(dec_embeddings, dec_input)\n",
    "\n",
    "    # RNN cell\n",
    "    def make_cell(rnn_size):\n",
    "        dec_cell = tf.contrib.rnn.LSTMCell(rnn_size, initializer=tf.random_uniform_initializer(-0.1, 0.1, seed=2))\n",
    "        return dec_cell\n",
    "    dec_cell = tf.contrib.rnn.MultiRNNCell([make_cell(rnn_size) for _ in range(num_layers)])\n",
    "    output_layer = Dense(target_vocab_size, kernel_initializer = tf.truncated_normal_initializer(mean = 0.0, stddev=0.1))\n",
    "    \n",
    "    with tf.variable_scope(\"decode\"):\n",
    "        training_logits = decoding_layer_train(encoder_state,\n",
    "                                               dec_cell,\n",
    "                                               dec_embed_input,\n",
    "                                               target_sequence_length,\n",
    "                                               max_target_sequence_length,\n",
    "                                               output_layer,\n",
    "                                               keep_prob)\n",
    "           \n",
    "    with tf.variable_scope(\"decode\", reuse=True):\n",
    "        start_of_sequence_id = target_vocab_to_int['<GO>']\n",
    "        end_of_sequence_id = target_vocab_to_int['<EOS>']\n",
    "        inference_logits = decoding_layer_infer(encoder_state,\n",
    "                                                dec_cell,\n",
    "                                                dec_embeddings,\n",
    "                                                start_of_sequence_id,\n",
    "                                                end_of_sequence_id,\n",
    "                                                max_target_sequence_length,\n",
    "                                                target_vocab_size,\n",
    "                                                output_layer,\n",
    "                                                batch_size,\n",
    "                                                keep_prob)\n",
    "        \n",
    "    return training_logits, inference_logits\n",
    "\n",
    "\n",
    "\n",
    "\"\"\"\n",
    "DON'T MODIFY ANYTHING IN THIS CELL THAT IS BELOW THIS LINE\n",
    "\"\"\"\n",
    "tests.test_decoding_layer(decoding_layer)"
   ]
  },
  {
   "cell_type": "markdown",
   "metadata": {},
   "source": [
    "### Build the Neural Network\n",
    "Apply the functions you implemented above to:\n",
    "\n",
    "- Encode the input using your `encoding_layer(rnn_inputs, rnn_size, num_layers, keep_prob,  source_sequence_length, source_vocab_size, encoding_embedding_size)`.\n",
    "- Process target data using your `process_decoder_input(target_data, target_vocab_to_int, batch_size)` function.\n",
    "- Decode the encoded input using your `decoding_layer(dec_input, enc_state, target_sequence_length, max_target_sentence_length, rnn_size, num_layers, target_vocab_to_int, target_vocab_size, batch_size, keep_prob, dec_embedding_size)` function."
   ]
  },
  {
   "cell_type": "code",
   "execution_count": 77,
   "metadata": {},
   "outputs": [
    {
     "name": "stdout",
     "output_type": "stream",
     "text": [
      "Tests Passed\n"
     ]
    }
   ],
   "source": [
    "def seq2seq_model(input_data, target_data, keep_prob, batch_size,\n",
    "                  source_sequence_length, target_sequence_length,\n",
    "                  max_target_sentence_length,\n",
    "                  source_vocab_size, target_vocab_size,\n",
    "                  enc_embedding_size, dec_embedding_size,\n",
    "                  rnn_size, num_layers, target_vocab_to_int):\n",
    "    \"\"\"\n",
    "    Build the Sequence-to-Sequence part of the neural network\n",
    "    :param input_data: Input placeholder\n",
    "    :param target_data: Target placeholder\n",
    "    :param keep_prob: Dropout keep probability placeholder\n",
    "    :param batch_size: Batch Size\n",
    "    :param source_sequence_length: Sequence Lengths of source sequences in the batch\n",
    "    :param target_sequence_length: Sequence Lengths of target sequences in the batch\n",
    "    :param source_vocab_size: Source vocabulary size\n",
    "    :param target_vocab_size: Target vocabulary size\n",
    "    :param enc_embedding_size: Decoder embedding size\n",
    "    :param dec_embedding_size: Encoder embedding size\n",
    "    :param rnn_size: RNN Size\n",
    "    :param num_layers: Number of layers\n",
    "    :param target_vocab_to_int: Dictionary to go from the target words to an id\n",
    "    :return: Tuple of (Training BasicDecoderOutput, Inference BasicDecoderOutput)\n",
    "    \"\"\"\n",
    "    # TODO: Implement Function\n",
    "    enc_output, enc_state = encoding_layer(input_data,\n",
    "                                           rnn_size,\n",
    "                                           num_layers,\n",
    "                                           keep_prob,\n",
    "                                           source_sequence_length,\n",
    "                                           source_vocab_size,\n",
    "                                           enc_embedding_size)    \n",
    "    \n",
    "    dec_input = process_decoder_input(target_data, target_vocab_to_int, batch_size)\n",
    "#   max_target_sequence_length = tf.reduce_max(target_sequence_length)\n",
    "    \n",
    "    training_decoder_output, inference_decoder_output = decoding_layer(dec_input,\n",
    "                                                                       enc_state,\n",
    "                                                                       target_sequence_length,\n",
    "                                                                       max_target_sentence_length,\n",
    "                                                                       rnn_size,\n",
    "                                                                       num_layers,\n",
    "                                                                       target_vocab_to_int,\n",
    "                                                                       target_vocab_size,\n",
    "                                                                       batch_size,\n",
    "                                                                       keep_prob,\n",
    "                                                                       dec_embedding_size) \n",
    "    \n",
    "    return training_decoder_output, inference_decoder_output\n",
    "\n",
    "\"\"\"\n",
    "DON'T MODIFY ANYTHING IN THIS CELL THAT IS BELOW THIS LINE\n",
    "\"\"\"\n",
    "tests.test_seq2seq_model(seq2seq_model)"
   ]
  },
  {
   "cell_type": "markdown",
   "metadata": {},
   "source": [
    "## Neural Network Training\n",
    "### Hyperparameters\n",
    "Tune the following parameters:\n",
    "\n",
    "- Set `epochs` to the number of epochs.\n",
    "- Set `batch_size` to the batch size.\n",
    "- Set `rnn_size` to the size of the RNNs.\n",
    "- Set `num_layers` to the number of layers.\n",
    "- Set `encoding_embedding_size` to the size of the embedding for the encoder.\n",
    "- Set `decoding_embedding_size` to the size of the embedding for the decoder.\n",
    "- Set `learning_rate` to the learning rate.\n",
    "- Set `keep_probability` to the Dropout keep probability\n",
    "- Set `display_step` to state how many steps between each debug output statement"
   ]
  },
  {
   "cell_type": "code",
   "execution_count": 84,
   "metadata": {
    "collapsed": true
   },
   "outputs": [],
   "source": [
    "# Number of Epochs\n",
    "epochs = 10\n",
    "# Batch Size\n",
    "batch_size = 256\n",
    "# RNN Size\n",
    "rnn_size = 50\n",
    "# Number of Layers\n",
    "num_layers = 2\n",
    "# Embedding Size\n",
    "encoding_embedding_size = 15\n",
    "decoding_embedding_size = 15\n",
    "# Learning Rate\n",
    "learning_rate = .01\n",
    "# Dropout Keep Probability\n",
    "keep_probability = .1\n",
    "display_step = 10"
   ]
  },
  {
   "cell_type": "markdown",
   "metadata": {},
   "source": [
    "### Build the Graph\n",
    "Build the graph using the neural network you implemented."
   ]
  },
  {
   "cell_type": "code",
   "execution_count": 81,
   "metadata": {},
   "outputs": [],
   "source": [
    "\"\"\"\n",
    "DON'T MODIFY ANYTHING IN THIS CELL\n",
    "\"\"\"\n",
    "save_path = 'checkpoints/dev'\n",
    "(source_int_text, target_int_text), (source_vocab_to_int, target_vocab_to_int), _ = helper.load_preprocess()\n",
    "max_target_sentence_length = max([len(sentence) for sentence in source_int_text])\n",
    "\n",
    "train_graph = tf.Graph()\n",
    "with train_graph.as_default():\n",
    "    input_data, targets, lr, keep_prob, target_sequence_length, max_target_sequence_length, source_sequence_length = model_inputs()\n",
    "\n",
    "    #sequence_length = tf.placeholder_with_default(max_target_sentence_length, None, name='sequence_length')\n",
    "    input_shape = tf.shape(input_data)\n",
    "\n",
    "    train_logits, inference_logits = seq2seq_model(tf.reverse(input_data, [-1]),\n",
    "                                                   targets,\n",
    "                                                   keep_prob,\n",
    "                                                   batch_size,\n",
    "                                                   source_sequence_length,\n",
    "                                                   target_sequence_length,\n",
    "                                                   max_target_sequence_length,\n",
    "                                                   len(source_vocab_to_int),\n",
    "                                                   len(target_vocab_to_int),\n",
    "                                                   encoding_embedding_size,\n",
    "                                                   decoding_embedding_size,\n",
    "                                                   rnn_size,\n",
    "                                                   num_layers,\n",
    "                                                   target_vocab_to_int)\n",
    "\n",
    "\n",
    "    training_logits = tf.identity(train_logits.rnn_output, name='logits')\n",
    "    inference_logits = tf.identity(inference_logits.sample_id, name='predictions')\n",
    "\n",
    "    masks = tf.sequence_mask(target_sequence_length, max_target_sequence_length, dtype=tf.float32, name='masks')\n",
    "\n",
    "    with tf.name_scope(\"optimization\"):\n",
    "        # Loss function\n",
    "        cost = tf.contrib.seq2seq.sequence_loss(\n",
    "            training_logits,\n",
    "            targets,\n",
    "            masks)\n",
    "\n",
    "        # Optimizer\n",
    "        optimizer = tf.train.AdamOptimizer(lr)\n",
    "\n",
    "        # Gradient Clipping\n",
    "        gradients = optimizer.compute_gradients(cost)\n",
    "        capped_gradients = [(tf.clip_by_value(grad, -1., 1.), var) for grad, var in gradients if grad is not None]\n",
    "        train_op = optimizer.apply_gradients(capped_gradients)\n"
   ]
  },
  {
   "cell_type": "markdown",
   "metadata": {},
   "source": [
    "Batch and pad the source and target sequences"
   ]
  },
  {
   "cell_type": "code",
   "execution_count": 82,
   "metadata": {
    "collapsed": true
   },
   "outputs": [],
   "source": [
    "\"\"\"\n",
    "DON'T MODIFY ANYTHING IN THIS CELL\n",
    "\"\"\"\n",
    "def pad_sentence_batch(sentence_batch, pad_int):\n",
    "    \"\"\"Pad sentences with <PAD> so that each sentence of a batch has the same length\"\"\"\n",
    "    max_sentence = max([len(sentence) for sentence in sentence_batch])\n",
    "    return [sentence + [pad_int] * (max_sentence - len(sentence)) for sentence in sentence_batch]\n",
    "\n",
    "\n",
    "def get_batches(sources, targets, batch_size, source_pad_int, target_pad_int):\n",
    "    \"\"\"Batch targets, sources, and the lengths of their sentences together\"\"\"\n",
    "    for batch_i in range(0, len(sources)//batch_size):\n",
    "        start_i = batch_i * batch_size\n",
    "\n",
    "        # Slice the right amount for the batch\n",
    "        sources_batch = sources[start_i:start_i + batch_size]\n",
    "        targets_batch = targets[start_i:start_i + batch_size]\n",
    "\n",
    "        # Pad\n",
    "        pad_sources_batch = np.array(pad_sentence_batch(sources_batch, source_pad_int))\n",
    "        pad_targets_batch = np.array(pad_sentence_batch(targets_batch, target_pad_int))\n",
    "\n",
    "        # Need the lengths for the _lengths parameters\n",
    "        pad_targets_lengths = []\n",
    "        for target in pad_targets_batch:\n",
    "            pad_targets_lengths.append(len(target))\n",
    "\n",
    "        pad_source_lengths = []\n",
    "        for source in pad_sources_batch:\n",
    "            pad_source_lengths.append(len(source))\n",
    "\n",
    "        yield pad_sources_batch, pad_targets_batch, pad_source_lengths, pad_targets_lengths\n"
   ]
  },
  {
   "cell_type": "markdown",
   "metadata": {},
   "source": [
    "### Train\n",
    "Train the neural network on the preprocessed data. If you have a hard time getting a good loss, check the forms to see if anyone is having the same problem."
   ]
  },
  {
   "cell_type": "code",
   "execution_count": 83,
   "metadata": {
    "scrolled": true
   },
   "outputs": [
    {
     "name": "stdout",
     "output_type": "stream",
     "text": [
      "Epoch   0 Batch   10/538 - Train Accuracy: 0.2736, Validation Accuracy: 0.3590, Loss: 4.2191\n",
      "Epoch   0 Batch   20/538 - Train Accuracy: 0.3350, Validation Accuracy: 0.3787, Loss: 3.5482\n",
      "Epoch   0 Batch   30/538 - Train Accuracy: 0.3240, Validation Accuracy: 0.3910, Loss: 3.3998\n",
      "Epoch   0 Batch   40/538 - Train Accuracy: 0.4039, Validation Accuracy: 0.4102, Loss: 3.0243\n",
      "Epoch   0 Batch   50/538 - Train Accuracy: 0.3627, Validation Accuracy: 0.4183, Loss: 3.1702\n",
      "Epoch   0 Batch   60/538 - Train Accuracy: 0.3182, Validation Accuracy: 0.3885, Loss: 3.1149\n",
      "Epoch   0 Batch   70/538 - Train Accuracy: 0.3679, Validation Accuracy: 0.4047, Loss: 2.9200\n",
      "Epoch   0 Batch   80/538 - Train Accuracy: 0.3246, Validation Accuracy: 0.3960, Loss: 2.9677\n",
      "Epoch   0 Batch   90/538 - Train Accuracy: 0.3627, Validation Accuracy: 0.3928, Loss: 2.7685\n",
      "Epoch   0 Batch  100/538 - Train Accuracy: 0.3102, Validation Accuracy: 0.3624, Loss: 2.7374\n",
      "Epoch   0 Batch  110/538 - Train Accuracy: 0.2977, Validation Accuracy: 0.3565, Loss: 2.6794\n",
      "Epoch   0 Batch  120/538 - Train Accuracy: 0.3189, Validation Accuracy: 0.3768, Loss: 2.5936\n",
      "Epoch   0 Batch  130/538 - Train Accuracy: 0.3854, Validation Accuracy: 0.4116, Loss: 2.4430\n",
      "Epoch   0 Batch  140/538 - Train Accuracy: 0.3199, Validation Accuracy: 0.3695, Loss: 2.4779\n",
      "Epoch   0 Batch  150/538 - Train Accuracy: 0.3131, Validation Accuracy: 0.3654, Loss: 2.4220\n",
      "Epoch   0 Batch  160/538 - Train Accuracy: 0.3428, Validation Accuracy: 0.3727, Loss: 2.2492\n",
      "Epoch   0 Batch  170/538 - Train Accuracy: 0.2775, Validation Accuracy: 0.3363, Loss: 2.2630\n",
      "Epoch   0 Batch  180/538 - Train Accuracy: 0.3307, Validation Accuracy: 0.3612, Loss: 2.2028\n",
      "Epoch   0 Batch  190/538 - Train Accuracy: 0.2675, Validation Accuracy: 0.3189, Loss: 2.1691\n",
      "Epoch   0 Batch  200/538 - Train Accuracy: 0.2762, Validation Accuracy: 0.3340, Loss: 2.1975\n",
      "Epoch   0 Batch  210/538 - Train Accuracy: 0.3125, Validation Accuracy: 0.3356, Loss: 2.0725\n",
      "Epoch   0 Batch  220/538 - Train Accuracy: 0.3110, Validation Accuracy: 0.3326, Loss: 2.0989\n",
      "Epoch   0 Batch  230/538 - Train Accuracy: 0.2525, Validation Accuracy: 0.2995, Loss: 2.1304\n",
      "Epoch   0 Batch  240/538 - Train Accuracy: 0.2455, Validation Accuracy: 0.2871, Loss: 2.0969\n",
      "Epoch   0 Batch  250/538 - Train Accuracy: 0.2373, Validation Accuracy: 0.2892, Loss: 2.0884\n",
      "Epoch   0 Batch  260/538 - Train Accuracy: 0.3114, Validation Accuracy: 0.3494, Loss: 2.0133\n",
      "Epoch   0 Batch  270/538 - Train Accuracy: 0.2621, Validation Accuracy: 0.3107, Loss: 2.0730\n",
      "Epoch   0 Batch  280/538 - Train Accuracy: 0.2524, Validation Accuracy: 0.2832, Loss: 1.9380\n",
      "Epoch   0 Batch  290/538 - Train Accuracy: 0.3004, Validation Accuracy: 0.3466, Loss: 2.0788\n",
      "Epoch   0 Batch  300/538 - Train Accuracy: 0.3108, Validation Accuracy: 0.3256, Loss: 1.9853\n",
      "Epoch   0 Batch  310/538 - Train Accuracy: 0.2383, Validation Accuracy: 0.2962, Loss: 2.0800\n",
      "Epoch   0 Batch  320/538 - Train Accuracy: 0.2928, Validation Accuracy: 0.3276, Loss: 1.9652\n",
      "Epoch   0 Batch  330/538 - Train Accuracy: 0.3343, Validation Accuracy: 0.3590, Loss: 1.8921\n",
      "Epoch   0 Batch  340/538 - Train Accuracy: 0.2359, Validation Accuracy: 0.3077, Loss: 2.0124\n",
      "Epoch   0 Batch  350/538 - Train Accuracy: 0.2932, Validation Accuracy: 0.3276, Loss: 1.9409\n",
      "Epoch   0 Batch  360/538 - Train Accuracy: 0.2807, Validation Accuracy: 0.3427, Loss: 1.9822\n",
      "Epoch   0 Batch  370/538 - Train Accuracy: 0.2430, Validation Accuracy: 0.3184, Loss: 1.9583\n",
      "Epoch   0 Batch  380/538 - Train Accuracy: 0.3607, Validation Accuracy: 0.4055, Loss: 1.9133\n",
      "Epoch   0 Batch  390/538 - Train Accuracy: 0.3666, Validation Accuracy: 0.4061, Loss: 1.8371\n",
      "Epoch   0 Batch  400/538 - Train Accuracy: 0.2781, Validation Accuracy: 0.3507, Loss: 1.8737\n",
      "Epoch   0 Batch  410/538 - Train Accuracy: 0.3309, Validation Accuracy: 0.3770, Loss: 1.9008\n",
      "Epoch   0 Batch  420/538 - Train Accuracy: 0.3223, Validation Accuracy: 0.3894, Loss: 1.8959\n",
      "Epoch   0 Batch  430/538 - Train Accuracy: 0.2465, Validation Accuracy: 0.3111, Loss: 1.8843\n",
      "Epoch   0 Batch  440/538 - Train Accuracy: 0.3369, Validation Accuracy: 0.3919, Loss: 1.9024\n",
      "Epoch   0 Batch  450/538 - Train Accuracy: 0.3497, Validation Accuracy: 0.3755, Loss: 1.7991\n",
      "Epoch   0 Batch  460/538 - Train Accuracy: 0.3813, Validation Accuracy: 0.3849, Loss: 1.8097\n",
      "Epoch   0 Batch  470/538 - Train Accuracy: 0.3724, Validation Accuracy: 0.3988, Loss: 1.8089\n",
      "Epoch   0 Batch  480/538 - Train Accuracy: 0.3317, Validation Accuracy: 0.3787, Loss: 1.8074\n",
      "Epoch   0 Batch  490/538 - Train Accuracy: 0.3527, Validation Accuracy: 0.3888, Loss: 1.7878\n",
      "Epoch   0 Batch  500/538 - Train Accuracy: 0.3944, Validation Accuracy: 0.4126, Loss: 1.7066\n",
      "Epoch   0 Batch  510/538 - Train Accuracy: 0.3179, Validation Accuracy: 0.3571, Loss: 1.7683\n",
      "Epoch   0 Batch  520/538 - Train Accuracy: 0.3207, Validation Accuracy: 0.3668, Loss: 1.8653\n",
      "Epoch   0 Batch  530/538 - Train Accuracy: 0.3396, Validation Accuracy: 0.3947, Loss: 1.8148\n",
      "Epoch   1 Batch   10/538 - Train Accuracy: 0.3885, Validation Accuracy: 0.4620, Loss: 1.8596\n",
      "Epoch   1 Batch   20/538 - Train Accuracy: 0.4085, Validation Accuracy: 0.4308, Loss: 1.7384\n",
      "Epoch   1 Batch   30/538 - Train Accuracy: 0.3600, Validation Accuracy: 0.3997, Loss: 1.8078\n",
      "Epoch   1 Batch   40/538 - Train Accuracy: 0.4615, Validation Accuracy: 0.4425, Loss: 1.6323\n",
      "Epoch   1 Batch   50/538 - Train Accuracy: 0.4822, Validation Accuracy: 0.5036, Loss: 1.7711\n",
      "Epoch   1 Batch   60/538 - Train Accuracy: 0.4488, Validation Accuracy: 0.4973, Loss: 1.7648\n",
      "Epoch   1 Batch   70/538 - Train Accuracy: 0.4135, Validation Accuracy: 0.4389, Loss: 1.7242\n",
      "Epoch   1 Batch   80/538 - Train Accuracy: 0.3795, Validation Accuracy: 0.4398, Loss: 1.7748\n",
      "Epoch   1 Batch   90/538 - Train Accuracy: 0.4485, Validation Accuracy: 0.4911, Loss: 1.7612\n",
      "Epoch   1 Batch  100/538 - Train Accuracy: 0.4586, Validation Accuracy: 0.4682, Loss: 1.7645\n",
      "Epoch   1 Batch  110/538 - Train Accuracy: 0.3850, Validation Accuracy: 0.4574, Loss: 1.7962\n",
      "Epoch   1 Batch  120/538 - Train Accuracy: 0.4322, Validation Accuracy: 0.4615, Loss: 1.7273\n",
      "Epoch   1 Batch  130/538 - Train Accuracy: 0.4879, Validation Accuracy: 0.4686, Loss: 1.6941\n",
      "Epoch   1 Batch  140/538 - Train Accuracy: 0.4326, Validation Accuracy: 0.4711, Loss: 1.7569\n",
      "Epoch   1 Batch  150/538 - Train Accuracy: 0.4406, Validation Accuracy: 0.4597, Loss: 1.7472\n",
      "Epoch   1 Batch  160/538 - Train Accuracy: 0.4721, Validation Accuracy: 0.4806, Loss: 1.6687\n",
      "Epoch   1 Batch  170/538 - Train Accuracy: 0.4537, Validation Accuracy: 0.4602, Loss: 1.6999\n",
      "Epoch   1 Batch  180/538 - Train Accuracy: 0.4754, Validation Accuracy: 0.4766, Loss: 1.6925\n",
      "Epoch   1 Batch  190/538 - Train Accuracy: 0.4611, Validation Accuracy: 0.5000, Loss: 1.7337\n",
      "Epoch   1 Batch  200/538 - Train Accuracy: 0.4514, Validation Accuracy: 0.5039, Loss: 1.7052\n",
      "Epoch   1 Batch  210/538 - Train Accuracy: 0.4671, Validation Accuracy: 0.4792, Loss: 1.6730\n",
      "Epoch   1 Batch  220/538 - Train Accuracy: 0.4583, Validation Accuracy: 0.4828, Loss: 1.6577\n",
      "Epoch   1 Batch  230/538 - Train Accuracy: 0.4328, Validation Accuracy: 0.4641, Loss: 1.7337\n",
      "Epoch   1 Batch  240/538 - Train Accuracy: 0.4533, Validation Accuracy: 0.5025, Loss: 1.7102\n",
      "Epoch   1 Batch  250/538 - Train Accuracy: 0.4861, Validation Accuracy: 0.5195, Loss: 1.6925\n",
      "Epoch   1 Batch  260/538 - Train Accuracy: 0.4699, Validation Accuracy: 0.4778, Loss: 1.6526\n",
      "Epoch   1 Batch  270/538 - Train Accuracy: 0.4086, Validation Accuracy: 0.4734, Loss: 1.7195\n",
      "Epoch   1 Batch  280/538 - Train Accuracy: 0.4844, Validation Accuracy: 0.4822, Loss: 1.6198\n",
      "Epoch   1 Batch  290/538 - Train Accuracy: 0.4463, Validation Accuracy: 0.5000, Loss: 1.7237\n",
      "Epoch   1 Batch  300/538 - Train Accuracy: 0.5195, Validation Accuracy: 0.4961, Loss: 1.6127\n",
      "Epoch   1 Batch  310/538 - Train Accuracy: 0.4764, Validation Accuracy: 0.5085, Loss: 1.6910\n",
      "Epoch   1 Batch  320/538 - Train Accuracy: 0.4756, Validation Accuracy: 0.4838, Loss: 1.6516\n",
      "Epoch   1 Batch  330/538 - Train Accuracy: 0.4805, Validation Accuracy: 0.4840, Loss: 1.6010\n",
      "Epoch   1 Batch  340/538 - Train Accuracy: 0.4480, Validation Accuracy: 0.4913, Loss: 1.7042\n",
      "Epoch   1 Batch  350/538 - Train Accuracy: 0.4663, Validation Accuracy: 0.4957, Loss: 1.6448\n",
      "Epoch   1 Batch  360/538 - Train Accuracy: 0.4629, Validation Accuracy: 0.4911, Loss: 1.6817\n"
     ]
    },
    {
     "name": "stdout",
     "output_type": "stream",
     "text": [
      "Epoch   1 Batch  370/538 - Train Accuracy: 0.4293, Validation Accuracy: 0.4846, Loss: 1.6868\n",
      "Epoch   1 Batch  380/538 - Train Accuracy: 0.4879, Validation Accuracy: 0.5089, Loss: 1.6366\n",
      "Epoch   1 Batch  390/538 - Train Accuracy: 0.5119, Validation Accuracy: 0.4897, Loss: 1.5990\n",
      "Epoch   1 Batch  400/538 - Train Accuracy: 0.4312, Validation Accuracy: 0.4640, Loss: 1.6305\n",
      "Epoch   1 Batch  410/538 - Train Accuracy: 0.4609, Validation Accuracy: 0.4826, Loss: 1.6401\n",
      "Epoch   1 Batch  420/538 - Train Accuracy: 0.4693, Validation Accuracy: 0.4972, Loss: 1.6648\n",
      "Epoch   1 Batch  430/538 - Train Accuracy: 0.4686, Validation Accuracy: 0.4876, Loss: 1.6450\n",
      "Epoch   1 Batch  440/538 - Train Accuracy: 0.4854, Validation Accuracy: 0.5000, Loss: 1.6889\n",
      "Epoch   1 Batch  450/538 - Train Accuracy: 0.4989, Validation Accuracy: 0.4954, Loss: 1.5981\n",
      "Epoch   1 Batch  460/538 - Train Accuracy: 0.4942, Validation Accuracy: 0.5288, Loss: 1.5737\n",
      "Epoch   1 Batch  470/538 - Train Accuracy: 0.5275, Validation Accuracy: 0.5357, Loss: 1.6011\n",
      "Epoch   1 Batch  480/538 - Train Accuracy: 0.5307, Validation Accuracy: 0.5163, Loss: 1.5701\n",
      "Epoch   1 Batch  490/538 - Train Accuracy: 0.4833, Validation Accuracy: 0.5119, Loss: 1.5890\n",
      "Epoch   1 Batch  500/538 - Train Accuracy: 0.5433, Validation Accuracy: 0.5382, Loss: 1.5231\n",
      "Epoch   1 Batch  510/538 - Train Accuracy: 0.5415, Validation Accuracy: 0.5341, Loss: 1.5905\n",
      "Epoch   1 Batch  520/538 - Train Accuracy: 0.5164, Validation Accuracy: 0.5208, Loss: 1.6645\n",
      "Epoch   1 Batch  530/538 - Train Accuracy: 0.5168, Validation Accuracy: 0.5328, Loss: 1.6203\n",
      "Epoch   2 Batch   10/538 - Train Accuracy: 0.4904, Validation Accuracy: 0.5206, Loss: 1.6395\n",
      "Epoch   2 Batch   20/538 - Train Accuracy: 0.5413, Validation Accuracy: 0.5398, Loss: 1.5813\n",
      "Epoch   2 Batch   30/538 - Train Accuracy: 0.5217, Validation Accuracy: 0.5254, Loss: 1.6326\n",
      "Epoch   2 Batch   40/538 - Train Accuracy: 0.5609, Validation Accuracy: 0.5188, Loss: 1.4850\n",
      "Epoch   2 Batch   50/538 - Train Accuracy: 0.5311, Validation Accuracy: 0.5419, Loss: 1.5801\n",
      "Epoch   2 Batch   60/538 - Train Accuracy: 0.5367, Validation Accuracy: 0.5327, Loss: 1.6028\n",
      "Epoch   2 Batch   70/538 - Train Accuracy: 0.5326, Validation Accuracy: 0.5092, Loss: 1.5778\n",
      "Epoch   2 Batch   80/538 - Train Accuracy: 0.5061, Validation Accuracy: 0.5352, Loss: 1.6427\n",
      "Epoch   2 Batch   90/538 - Train Accuracy: 0.5584, Validation Accuracy: 0.5520, Loss: 1.5711\n",
      "Epoch   2 Batch  100/538 - Train Accuracy: 0.5396, Validation Accuracy: 0.5407, Loss: 1.5815\n",
      "Epoch   2 Batch  110/538 - Train Accuracy: 0.4916, Validation Accuracy: 0.5273, Loss: 1.6086\n",
      "Epoch   2 Batch  120/538 - Train Accuracy: 0.5738, Validation Accuracy: 0.5414, Loss: 1.5947\n",
      "Epoch   2 Batch  130/538 - Train Accuracy: 0.5536, Validation Accuracy: 0.5355, Loss: 1.5671\n",
      "Epoch   2 Batch  140/538 - Train Accuracy: 0.4928, Validation Accuracy: 0.5142, Loss: 1.6138\n",
      "Epoch   2 Batch  150/538 - Train Accuracy: 0.5455, Validation Accuracy: 0.5394, Loss: 1.6126\n",
      "Epoch   2 Batch  160/538 - Train Accuracy: 0.5491, Validation Accuracy: 0.5591, Loss: 1.5323\n",
      "Epoch   2 Batch  170/538 - Train Accuracy: 0.5612, Validation Accuracy: 0.5568, Loss: 1.5244\n",
      "Epoch   2 Batch  180/538 - Train Accuracy: 0.5748, Validation Accuracy: 0.5421, Loss: 1.5249\n",
      "Epoch   2 Batch  190/538 - Train Accuracy: 0.5171, Validation Accuracy: 0.5375, Loss: 1.5738\n",
      "Epoch   2 Batch  200/538 - Train Accuracy: 0.5463, Validation Accuracy: 0.5430, Loss: 1.5784\n",
      "Epoch   2 Batch  210/538 - Train Accuracy: 0.5350, Validation Accuracy: 0.5353, Loss: 1.5053\n",
      "Epoch   2 Batch  220/538 - Train Accuracy: 0.5035, Validation Accuracy: 0.5231, Loss: 1.5435\n",
      "Epoch   2 Batch  230/538 - Train Accuracy: 0.5244, Validation Accuracy: 0.5291, Loss: 1.5697\n",
      "Epoch   2 Batch  240/538 - Train Accuracy: 0.5020, Validation Accuracy: 0.5257, Loss: 1.5899\n",
      "Epoch   2 Batch  250/538 - Train Accuracy: 0.5506, Validation Accuracy: 0.5604, Loss: 1.5632\n",
      "Epoch   2 Batch  260/538 - Train Accuracy: 0.5569, Validation Accuracy: 0.5570, Loss: 1.5093\n",
      "Epoch   2 Batch  270/538 - Train Accuracy: 0.5275, Validation Accuracy: 0.5275, Loss: 1.5873\n",
      "Epoch   2 Batch  280/538 - Train Accuracy: 0.5614, Validation Accuracy: 0.5366, Loss: 1.4752\n",
      "Epoch   2 Batch  290/538 - Train Accuracy: 0.5258, Validation Accuracy: 0.5565, Loss: 1.5755\n",
      "Epoch   2 Batch  300/538 - Train Accuracy: 0.5675, Validation Accuracy: 0.5316, Loss: 1.5017\n",
      "Epoch   2 Batch  310/538 - Train Accuracy: 0.5521, Validation Accuracy: 0.5502, Loss: 1.5912\n",
      "Epoch   2 Batch  320/538 - Train Accuracy: 0.5366, Validation Accuracy: 0.5469, Loss: 1.5277\n",
      "Epoch   2 Batch  330/538 - Train Accuracy: 0.5463, Validation Accuracy: 0.5424, Loss: 1.5029\n",
      "Epoch   2 Batch  340/538 - Train Accuracy: 0.5180, Validation Accuracy: 0.5410, Loss: 1.5877\n",
      "Epoch   2 Batch  350/538 - Train Accuracy: 0.5476, Validation Accuracy: 0.5510, Loss: 1.5406\n",
      "Epoch   2 Batch  360/538 - Train Accuracy: 0.5342, Validation Accuracy: 0.5368, Loss: 1.5616\n",
      "Epoch   2 Batch  370/538 - Train Accuracy: 0.4912, Validation Accuracy: 0.5241, Loss: 1.5832\n",
      "Epoch   2 Batch  380/538 - Train Accuracy: 0.5244, Validation Accuracy: 0.5375, Loss: 1.5243\n",
      "Epoch   2 Batch  390/538 - Train Accuracy: 0.5924, Validation Accuracy: 0.5414, Loss: 1.5110\n",
      "Epoch   2 Batch  400/538 - Train Accuracy: 0.5272, Validation Accuracy: 0.5332, Loss: 1.5078\n",
      "Epoch   2 Batch  410/538 - Train Accuracy: 0.5047, Validation Accuracy: 0.5286, Loss: 1.5277\n",
      "Epoch   2 Batch  420/538 - Train Accuracy: 0.4996, Validation Accuracy: 0.5078, Loss: 1.5250\n",
      "Epoch   2 Batch  430/538 - Train Accuracy: 0.5367, Validation Accuracy: 0.5387, Loss: 1.5319\n",
      "Epoch   2 Batch  440/538 - Train Accuracy: 0.5666, Validation Accuracy: 0.5471, Loss: 1.5849\n",
      "Epoch   2 Batch  450/538 - Train Accuracy: 0.5415, Validation Accuracy: 0.5421, Loss: 1.4913\n",
      "Epoch   2 Batch  460/538 - Train Accuracy: 0.5262, Validation Accuracy: 0.5304, Loss: 1.5001\n",
      "Epoch   2 Batch  470/538 - Train Accuracy: 0.5402, Validation Accuracy: 0.5213, Loss: 1.4969\n",
      "Epoch   2 Batch  480/538 - Train Accuracy: 0.5619, Validation Accuracy: 0.5400, Loss: 1.4936\n",
      "Epoch   2 Batch  490/538 - Train Accuracy: 0.5117, Validation Accuracy: 0.5362, Loss: 1.4766\n",
      "Epoch   2 Batch  500/538 - Train Accuracy: 0.5732, Validation Accuracy: 0.5527, Loss: 1.4159\n",
      "Epoch   2 Batch  510/538 - Train Accuracy: 0.5538, Validation Accuracy: 0.5549, Loss: 1.4797\n",
      "Epoch   2 Batch  520/538 - Train Accuracy: 0.5273, Validation Accuracy: 0.5298, Loss: 1.5466\n",
      "Epoch   2 Batch  530/538 - Train Accuracy: 0.5172, Validation Accuracy: 0.5211, Loss: 1.5450\n",
      "Epoch   3 Batch   10/538 - Train Accuracy: 0.4920, Validation Accuracy: 0.5256, Loss: 1.5635\n",
      "Epoch   3 Batch   20/538 - Train Accuracy: 0.5366, Validation Accuracy: 0.5252, Loss: 1.4927\n",
      "Epoch   3 Batch   30/538 - Train Accuracy: 0.5332, Validation Accuracy: 0.5270, Loss: 1.5537\n",
      "Epoch   3 Batch   40/538 - Train Accuracy: 0.5987, Validation Accuracy: 0.5671, Loss: 1.3883\n",
      "Epoch   3 Batch   50/538 - Train Accuracy: 0.5387, Validation Accuracy: 0.5400, Loss: 1.4873\n",
      "Epoch   3 Batch   60/538 - Train Accuracy: 0.5633, Validation Accuracy: 0.5451, Loss: 1.5139\n",
      "Epoch   3 Batch   70/538 - Train Accuracy: 0.5562, Validation Accuracy: 0.5467, Loss: 1.4586\n",
      "Epoch   3 Batch   80/538 - Train Accuracy: 0.5180, Validation Accuracy: 0.5376, Loss: 1.5362\n",
      "Epoch   3 Batch   90/538 - Train Accuracy: 0.5588, Validation Accuracy: 0.5634, Loss: 1.4599\n",
      "Epoch   3 Batch  100/538 - Train Accuracy: 0.5467, Validation Accuracy: 0.5586, Loss: 1.4924\n",
      "Epoch   3 Batch  110/538 - Train Accuracy: 0.4980, Validation Accuracy: 0.5479, Loss: 1.5310\n",
      "Epoch   3 Batch  120/538 - Train Accuracy: 0.5836, Validation Accuracy: 0.5582, Loss: 1.4849\n",
      "Epoch   3 Batch  130/538 - Train Accuracy: 0.5430, Validation Accuracy: 0.5407, Loss: 1.4804\n",
      "Epoch   3 Batch  140/538 - Train Accuracy: 0.4984, Validation Accuracy: 0.5481, Loss: 1.5375\n",
      "Epoch   3 Batch  150/538 - Train Accuracy: 0.5693, Validation Accuracy: 0.5600, Loss: 1.5204\n",
      "Epoch   3 Batch  160/538 - Train Accuracy: 0.5761, Validation Accuracy: 0.5808, Loss: 1.4929\n",
      "Epoch   3 Batch  170/538 - Train Accuracy: 0.5519, Validation Accuracy: 0.5543, Loss: 1.4723\n",
      "Epoch   3 Batch  180/538 - Train Accuracy: 0.5874, Validation Accuracy: 0.5637, Loss: 1.4271\n",
      "Epoch   3 Batch  190/538 - Train Accuracy: 0.5197, Validation Accuracy: 0.5508, Loss: 1.5120\n"
     ]
    },
    {
     "name": "stdout",
     "output_type": "stream",
     "text": [
      "Epoch   3 Batch  200/538 - Train Accuracy: 0.5502, Validation Accuracy: 0.5691, Loss: 1.5049\n",
      "Epoch   3 Batch  210/538 - Train Accuracy: 0.5686, Validation Accuracy: 0.5600, Loss: 1.4737\n",
      "Epoch   3 Batch  220/538 - Train Accuracy: 0.5409, Validation Accuracy: 0.5678, Loss: 1.4638\n",
      "Epoch   3 Batch  230/538 - Train Accuracy: 0.5322, Validation Accuracy: 0.5616, Loss: 1.5202\n",
      "Epoch   3 Batch  240/538 - Train Accuracy: 0.5125, Validation Accuracy: 0.5550, Loss: 1.4969\n",
      "Epoch   3 Batch  250/538 - Train Accuracy: 0.5551, Validation Accuracy: 0.5748, Loss: 1.4846\n",
      "Epoch   3 Batch  260/538 - Train Accuracy: 0.5655, Validation Accuracy: 0.5767, Loss: 1.4439\n",
      "Epoch   3 Batch  270/538 - Train Accuracy: 0.5445, Validation Accuracy: 0.5471, Loss: 1.5113\n",
      "Epoch   3 Batch  280/538 - Train Accuracy: 0.5727, Validation Accuracy: 0.5620, Loss: 1.4362\n",
      "Epoch   3 Batch  290/538 - Train Accuracy: 0.5303, Validation Accuracy: 0.5579, Loss: 1.4932\n",
      "Epoch   3 Batch  300/538 - Train Accuracy: 0.5783, Validation Accuracy: 0.5542, Loss: 1.4667\n",
      "Epoch   3 Batch  310/538 - Train Accuracy: 0.5516, Validation Accuracy: 0.5504, Loss: 1.5171\n",
      "Epoch   3 Batch  320/538 - Train Accuracy: 0.5435, Validation Accuracy: 0.5518, Loss: 1.4416\n",
      "Epoch   3 Batch  330/538 - Train Accuracy: 0.5712, Validation Accuracy: 0.5684, Loss: 1.4308\n",
      "Epoch   3 Batch  340/538 - Train Accuracy: 0.5494, Validation Accuracy: 0.5691, Loss: 1.5371\n",
      "Epoch   3 Batch  350/538 - Train Accuracy: 0.5549, Validation Accuracy: 0.5568, Loss: 1.4578\n",
      "Epoch   3 Batch  360/538 - Train Accuracy: 0.5561, Validation Accuracy: 0.5566, Loss: 1.5036\n",
      "Epoch   3 Batch  370/538 - Train Accuracy: 0.5012, Validation Accuracy: 0.5558, Loss: 1.4927\n",
      "Epoch   3 Batch  380/538 - Train Accuracy: 0.5496, Validation Accuracy: 0.5714, Loss: 1.4859\n",
      "Epoch   3 Batch  390/538 - Train Accuracy: 0.6053, Validation Accuracy: 0.5655, Loss: 1.4251\n",
      "Epoch   3 Batch  400/538 - Train Accuracy: 0.5491, Validation Accuracy: 0.5609, Loss: 1.4381\n",
      "Epoch   3 Batch  410/538 - Train Accuracy: 0.5314, Validation Accuracy: 0.5600, Loss: 1.4568\n",
      "Epoch   3 Batch  420/538 - Train Accuracy: 0.5641, Validation Accuracy: 0.5682, Loss: 1.4357\n",
      "Epoch   3 Batch  430/538 - Train Accuracy: 0.5537, Validation Accuracy: 0.5678, Loss: 1.4897\n",
      "Epoch   3 Batch  440/538 - Train Accuracy: 0.5727, Validation Accuracy: 0.5710, Loss: 1.5322\n",
      "Epoch   3 Batch  450/538 - Train Accuracy: 0.5549, Validation Accuracy: 0.5772, Loss: 1.4509\n",
      "Epoch   3 Batch  460/538 - Train Accuracy: 0.5480, Validation Accuracy: 0.5664, Loss: 1.4417\n",
      "Epoch   3 Batch  470/538 - Train Accuracy: 0.5595, Validation Accuracy: 0.5787, Loss: 1.4485\n",
      "Epoch   3 Batch  480/538 - Train Accuracy: 0.5698, Validation Accuracy: 0.5554, Loss: 1.4447\n",
      "Epoch   3 Batch  490/538 - Train Accuracy: 0.5432, Validation Accuracy: 0.5685, Loss: 1.4079\n",
      "Epoch   3 Batch  500/538 - Train Accuracy: 0.5856, Validation Accuracy: 0.5774, Loss: 1.3668\n",
      "Epoch   3 Batch  510/538 - Train Accuracy: 0.5675, Validation Accuracy: 0.5710, Loss: 1.4309\n",
      "Epoch   3 Batch  520/538 - Train Accuracy: 0.5600, Validation Accuracy: 0.5691, Loss: 1.5123\n",
      "Epoch   3 Batch  530/538 - Train Accuracy: 0.5383, Validation Accuracy: 0.5602, Loss: 1.4756\n",
      "Epoch   4 Batch   10/538 - Train Accuracy: 0.5094, Validation Accuracy: 0.5620, Loss: 1.4960\n",
      "Epoch   4 Batch   20/538 - Train Accuracy: 0.5614, Validation Accuracy: 0.5597, Loss: 1.4413\n",
      "Epoch   4 Batch   30/538 - Train Accuracy: 0.5523, Validation Accuracy: 0.5692, Loss: 1.5169\n",
      "Epoch   4 Batch   40/538 - Train Accuracy: 0.6097, Validation Accuracy: 0.5845, Loss: 1.3319\n",
      "Epoch   4 Batch   50/538 - Train Accuracy: 0.5500, Validation Accuracy: 0.5680, Loss: 1.4510\n",
      "Epoch   4 Batch   60/538 - Train Accuracy: 0.5689, Validation Accuracy: 0.5806, Loss: 1.4854\n",
      "Epoch   4 Batch   70/538 - Train Accuracy: 0.5746, Validation Accuracy: 0.5749, Loss: 1.3925\n",
      "Epoch   4 Batch   80/538 - Train Accuracy: 0.5609, Validation Accuracy: 0.5810, Loss: 1.4891\n",
      "Epoch   4 Batch   90/538 - Train Accuracy: 0.5610, Validation Accuracy: 0.5664, Loss: 1.4221\n",
      "Epoch   4 Batch  100/538 - Train Accuracy: 0.5609, Validation Accuracy: 0.5692, Loss: 1.4675\n",
      "Epoch   4 Batch  110/538 - Train Accuracy: 0.5328, Validation Accuracy: 0.5842, Loss: 1.4920\n",
      "Epoch   4 Batch  120/538 - Train Accuracy: 0.5887, Validation Accuracy: 0.5801, Loss: 1.4368\n",
      "Epoch   4 Batch  130/538 - Train Accuracy: 0.5703, Validation Accuracy: 0.5824, Loss: 1.4225\n",
      "Epoch   4 Batch  140/538 - Train Accuracy: 0.5195, Validation Accuracy: 0.5614, Loss: 1.4869\n",
      "Epoch   4 Batch  150/538 - Train Accuracy: 0.5762, Validation Accuracy: 0.5891, Loss: 1.4746\n",
      "Epoch   4 Batch  160/538 - Train Accuracy: 0.5658, Validation Accuracy: 0.5797, Loss: 1.4013\n",
      "Epoch   4 Batch  170/538 - Train Accuracy: 0.5778, Validation Accuracy: 0.5847, Loss: 1.4380\n",
      "Epoch   4 Batch  180/538 - Train Accuracy: 0.5967, Validation Accuracy: 0.5849, Loss: 1.4068\n",
      "Epoch   4 Batch  190/538 - Train Accuracy: 0.5590, Validation Accuracy: 0.5811, Loss: 1.4272\n",
      "Epoch   4 Batch  200/538 - Train Accuracy: 0.5834, Validation Accuracy: 0.5932, Loss: 1.4625\n",
      "Epoch   4 Batch  210/538 - Train Accuracy: 0.5696, Validation Accuracy: 0.5881, Loss: 1.4057\n",
      "Epoch   4 Batch  220/538 - Train Accuracy: 0.5666, Validation Accuracy: 0.6014, Loss: 1.4183\n",
      "Epoch   4 Batch  230/538 - Train Accuracy: 0.5549, Validation Accuracy: 0.5827, Loss: 1.4811\n",
      "Epoch   4 Batch  240/538 - Train Accuracy: 0.5242, Validation Accuracy: 0.5691, Loss: 1.4549\n",
      "Epoch   4 Batch  250/538 - Train Accuracy: 0.5764, Validation Accuracy: 0.5950, Loss: 1.4696\n",
      "Epoch   4 Batch  260/538 - Train Accuracy: 0.5828, Validation Accuracy: 0.5925, Loss: 1.4272\n",
      "Epoch   4 Batch  270/538 - Train Accuracy: 0.5631, Validation Accuracy: 0.5787, Loss: 1.4726\n",
      "Epoch   4 Batch  280/538 - Train Accuracy: 0.5893, Validation Accuracy: 0.5792, Loss: 1.3885\n"
     ]
    },
    {
     "ename": "KeyboardInterrupt",
     "evalue": "",
     "output_type": "error",
     "traceback": [
      "\u001b[1;31m---------------------------------------------------------------------------\u001b[0m",
      "\u001b[1;31mKeyboardInterrupt\u001b[0m                         Traceback (most recent call last)",
      "\u001b[1;32m<ipython-input-83-8b554ffa681f>\u001b[0m in \u001b[0;36m<module>\u001b[1;34m()\u001b[0m\n\u001b[0;32m     46\u001b[0m                  \u001b[0mtarget_sequence_length\u001b[0m\u001b[1;33m:\u001b[0m \u001b[0mtargets_lengths\u001b[0m\u001b[1;33m,\u001b[0m\u001b[1;33m\u001b[0m\u001b[0m\n\u001b[0;32m     47\u001b[0m                  \u001b[0msource_sequence_length\u001b[0m\u001b[1;33m:\u001b[0m \u001b[0msources_lengths\u001b[0m\u001b[1;33m,\u001b[0m\u001b[1;33m\u001b[0m\u001b[0m\n\u001b[1;32m---> 48\u001b[1;33m                  keep_prob: keep_probability})\n\u001b[0m\u001b[0;32m     49\u001b[0m \u001b[1;33m\u001b[0m\u001b[0m\n\u001b[0;32m     50\u001b[0m \u001b[1;33m\u001b[0m\u001b[0m\n",
      "\u001b[1;32mC:\\Users\\Alice\\Anaconda3\\envs\\tensorflow\\lib\\site-packages\\tensorflow\\python\\client\\session.py\u001b[0m in \u001b[0;36mrun\u001b[1;34m(self, fetches, feed_dict, options, run_metadata)\u001b[0m\n\u001b[0;32m    776\u001b[0m     \u001b[1;32mtry\u001b[0m\u001b[1;33m:\u001b[0m\u001b[1;33m\u001b[0m\u001b[0m\n\u001b[0;32m    777\u001b[0m       result = self._run(None, fetches, feed_dict, options_ptr,\n\u001b[1;32m--> 778\u001b[1;33m                          run_metadata_ptr)\n\u001b[0m\u001b[0;32m    779\u001b[0m       \u001b[1;32mif\u001b[0m \u001b[0mrun_metadata\u001b[0m\u001b[1;33m:\u001b[0m\u001b[1;33m\u001b[0m\u001b[0m\n\u001b[0;32m    780\u001b[0m         \u001b[0mproto_data\u001b[0m \u001b[1;33m=\u001b[0m \u001b[0mtf_session\u001b[0m\u001b[1;33m.\u001b[0m\u001b[0mTF_GetBuffer\u001b[0m\u001b[1;33m(\u001b[0m\u001b[0mrun_metadata_ptr\u001b[0m\u001b[1;33m)\u001b[0m\u001b[1;33m\u001b[0m\u001b[0m\n",
      "\u001b[1;32mC:\\Users\\Alice\\Anaconda3\\envs\\tensorflow\\lib\\site-packages\\tensorflow\\python\\client\\session.py\u001b[0m in \u001b[0;36m_run\u001b[1;34m(self, handle, fetches, feed_dict, options, run_metadata)\u001b[0m\n\u001b[0;32m    980\u001b[0m     \u001b[1;32mif\u001b[0m \u001b[0mfinal_fetches\u001b[0m \u001b[1;32mor\u001b[0m \u001b[0mfinal_targets\u001b[0m\u001b[1;33m:\u001b[0m\u001b[1;33m\u001b[0m\u001b[0m\n\u001b[0;32m    981\u001b[0m       results = self._do_run(handle, final_targets, final_fetches,\n\u001b[1;32m--> 982\u001b[1;33m                              feed_dict_string, options, run_metadata)\n\u001b[0m\u001b[0;32m    983\u001b[0m     \u001b[1;32melse\u001b[0m\u001b[1;33m:\u001b[0m\u001b[1;33m\u001b[0m\u001b[0m\n\u001b[0;32m    984\u001b[0m       \u001b[0mresults\u001b[0m \u001b[1;33m=\u001b[0m \u001b[1;33m[\u001b[0m\u001b[1;33m]\u001b[0m\u001b[1;33m\u001b[0m\u001b[0m\n",
      "\u001b[1;32mC:\\Users\\Alice\\Anaconda3\\envs\\tensorflow\\lib\\site-packages\\tensorflow\\python\\client\\session.py\u001b[0m in \u001b[0;36m_do_run\u001b[1;34m(self, handle, target_list, fetch_list, feed_dict, options, run_metadata)\u001b[0m\n\u001b[0;32m   1030\u001b[0m     \u001b[1;32mif\u001b[0m \u001b[0mhandle\u001b[0m \u001b[1;32mis\u001b[0m \u001b[1;32mNone\u001b[0m\u001b[1;33m:\u001b[0m\u001b[1;33m\u001b[0m\u001b[0m\n\u001b[0;32m   1031\u001b[0m       return self._do_call(_run_fn, self._session, feed_dict, fetch_list,\n\u001b[1;32m-> 1032\u001b[1;33m                            target_list, options, run_metadata)\n\u001b[0m\u001b[0;32m   1033\u001b[0m     \u001b[1;32melse\u001b[0m\u001b[1;33m:\u001b[0m\u001b[1;33m\u001b[0m\u001b[0m\n\u001b[0;32m   1034\u001b[0m       return self._do_call(_prun_fn, self._session, handle, feed_dict,\n",
      "\u001b[1;32mC:\\Users\\Alice\\Anaconda3\\envs\\tensorflow\\lib\\site-packages\\tensorflow\\python\\client\\session.py\u001b[0m in \u001b[0;36m_do_call\u001b[1;34m(self, fn, *args)\u001b[0m\n\u001b[0;32m   1037\u001b[0m   \u001b[1;32mdef\u001b[0m \u001b[0m_do_call\u001b[0m\u001b[1;33m(\u001b[0m\u001b[0mself\u001b[0m\u001b[1;33m,\u001b[0m \u001b[0mfn\u001b[0m\u001b[1;33m,\u001b[0m \u001b[1;33m*\u001b[0m\u001b[0margs\u001b[0m\u001b[1;33m)\u001b[0m\u001b[1;33m:\u001b[0m\u001b[1;33m\u001b[0m\u001b[0m\n\u001b[0;32m   1038\u001b[0m     \u001b[1;32mtry\u001b[0m\u001b[1;33m:\u001b[0m\u001b[1;33m\u001b[0m\u001b[0m\n\u001b[1;32m-> 1039\u001b[1;33m       \u001b[1;32mreturn\u001b[0m \u001b[0mfn\u001b[0m\u001b[1;33m(\u001b[0m\u001b[1;33m*\u001b[0m\u001b[0margs\u001b[0m\u001b[1;33m)\u001b[0m\u001b[1;33m\u001b[0m\u001b[0m\n\u001b[0m\u001b[0;32m   1040\u001b[0m     \u001b[1;32mexcept\u001b[0m \u001b[0merrors\u001b[0m\u001b[1;33m.\u001b[0m\u001b[0mOpError\u001b[0m \u001b[1;32mas\u001b[0m \u001b[0me\u001b[0m\u001b[1;33m:\u001b[0m\u001b[1;33m\u001b[0m\u001b[0m\n\u001b[0;32m   1041\u001b[0m       \u001b[0mmessage\u001b[0m \u001b[1;33m=\u001b[0m \u001b[0mcompat\u001b[0m\u001b[1;33m.\u001b[0m\u001b[0mas_text\u001b[0m\u001b[1;33m(\u001b[0m\u001b[0me\u001b[0m\u001b[1;33m.\u001b[0m\u001b[0mmessage\u001b[0m\u001b[1;33m)\u001b[0m\u001b[1;33m\u001b[0m\u001b[0m\n",
      "\u001b[1;32mC:\\Users\\Alice\\Anaconda3\\envs\\tensorflow\\lib\\site-packages\\tensorflow\\python\\client\\session.py\u001b[0m in \u001b[0;36m_run_fn\u001b[1;34m(session, feed_dict, fetch_list, target_list, options, run_metadata)\u001b[0m\n\u001b[0;32m   1019\u001b[0m         return tf_session.TF_Run(session, options,\n\u001b[0;32m   1020\u001b[0m                                  \u001b[0mfeed_dict\u001b[0m\u001b[1;33m,\u001b[0m \u001b[0mfetch_list\u001b[0m\u001b[1;33m,\u001b[0m \u001b[0mtarget_list\u001b[0m\u001b[1;33m,\u001b[0m\u001b[1;33m\u001b[0m\u001b[0m\n\u001b[1;32m-> 1021\u001b[1;33m                                  status, run_metadata)\n\u001b[0m\u001b[0;32m   1022\u001b[0m \u001b[1;33m\u001b[0m\u001b[0m\n\u001b[0;32m   1023\u001b[0m     \u001b[1;32mdef\u001b[0m \u001b[0m_prun_fn\u001b[0m\u001b[1;33m(\u001b[0m\u001b[0msession\u001b[0m\u001b[1;33m,\u001b[0m \u001b[0mhandle\u001b[0m\u001b[1;33m,\u001b[0m \u001b[0mfeed_dict\u001b[0m\u001b[1;33m,\u001b[0m \u001b[0mfetch_list\u001b[0m\u001b[1;33m)\u001b[0m\u001b[1;33m:\u001b[0m\u001b[1;33m\u001b[0m\u001b[0m\n",
      "\u001b[1;31mKeyboardInterrupt\u001b[0m: "
     ]
    }
   ],
   "source": [
    "\"\"\"\n",
    "DON'T MODIFY ANYTHING IN THIS CELL\n",
    "\"\"\"\n",
    "def get_accuracy(target, logits):\n",
    "    \"\"\"\n",
    "    Calculate accuracy\n",
    "    \"\"\"\n",
    "    max_seq = max(target.shape[1], logits.shape[1])\n",
    "    if max_seq - target.shape[1]:\n",
    "        target = np.pad(\n",
    "            target,\n",
    "            [(0,0),(0,max_seq - target.shape[1])],\n",
    "            'constant')\n",
    "    if max_seq - logits.shape[1]:\n",
    "        logits = np.pad(\n",
    "            logits,\n",
    "            [(0,0),(0,max_seq - logits.shape[1])],\n",
    "            'constant')\n",
    "\n",
    "    return np.mean(np.equal(target, logits))\n",
    "\n",
    "# Split data to training and validation sets\n",
    "train_source = source_int_text[batch_size:]\n",
    "train_target = target_int_text[batch_size:]\n",
    "valid_source = source_int_text[:batch_size]\n",
    "valid_target = target_int_text[:batch_size]\n",
    "(valid_sources_batch, valid_targets_batch, valid_sources_lengths, valid_targets_lengths ) = next(get_batches(valid_source,\n",
    "                                                                                                             valid_target,\n",
    "                                                                                                             batch_size,\n",
    "                                                                                                             source_vocab_to_int['<PAD>'],\n",
    "                                                                                                             target_vocab_to_int['<PAD>']))                                                                                                  \n",
    "with tf.Session(graph=train_graph) as sess:\n",
    "    sess.run(tf.global_variables_initializer())\n",
    "\n",
    "    for epoch_i in range(epochs):\n",
    "        for batch_i, (source_batch, target_batch, sources_lengths, targets_lengths) in enumerate(\n",
    "                get_batches(train_source, train_target, batch_size,\n",
    "                            source_vocab_to_int['<PAD>'],\n",
    "                            target_vocab_to_int['<PAD>'])):\n",
    "\n",
    "            _, loss = sess.run(\n",
    "                [train_op, cost],\n",
    "                {input_data: source_batch,\n",
    "                 targets: target_batch,\n",
    "                 lr: learning_rate,\n",
    "                 target_sequence_length: targets_lengths,\n",
    "                 source_sequence_length: sources_lengths,\n",
    "                 keep_prob: keep_probability})\n",
    "\n",
    "\n",
    "            if batch_i % display_step == 0 and batch_i > 0:\n",
    "\n",
    "\n",
    "                batch_train_logits = sess.run(\n",
    "                    inference_logits,\n",
    "                    {input_data: source_batch,\n",
    "                     source_sequence_length: sources_lengths,\n",
    "                     target_sequence_length: targets_lengths,\n",
    "                     keep_prob: 1.0})\n",
    "\n",
    "\n",
    "                batch_valid_logits = sess.run(\n",
    "                    inference_logits,\n",
    "                    {input_data: valid_sources_batch,\n",
    "                     source_sequence_length: valid_sources_lengths,\n",
    "                     target_sequence_length: valid_targets_lengths,\n",
    "                     keep_prob: 1.0})\n",
    "\n",
    "                train_acc = get_accuracy(target_batch, batch_train_logits)\n",
    "\n",
    "                valid_acc = get_accuracy(valid_targets_batch, batch_valid_logits)\n",
    "\n",
    "                print('Epoch {:>3} Batch {:>4}/{} - Train Accuracy: {:>6.4f}, Validation Accuracy: {:>6.4f}, Loss: {:>6.4f}'\n",
    "                      .format(epoch_i, batch_i, len(source_int_text) // batch_size, train_acc, valid_acc, loss))\n",
    "\n",
    "    # Save Model\n",
    "    saver = tf.train.Saver()\n",
    "    saver.save(sess, save_path)\n",
    "    print('Model Trained and Saved')"
   ]
  },
  {
   "cell_type": "markdown",
   "metadata": {},
   "source": [
    "### Save Parameters\n",
    "Save the `batch_size` and `save_path` parameters for inference."
   ]
  },
  {
   "cell_type": "code",
   "execution_count": null,
   "metadata": {
    "collapsed": true
   },
   "outputs": [],
   "source": [
    "\"\"\"\n",
    "DON'T MODIFY ANYTHING IN THIS CELL\n",
    "\"\"\"\n",
    "# Save parameters for checkpoint\n",
    "helper.save_params(save_path)"
   ]
  },
  {
   "cell_type": "markdown",
   "metadata": {},
   "source": [
    "# Checkpoint"
   ]
  },
  {
   "cell_type": "code",
   "execution_count": null,
   "metadata": {
    "collapsed": true
   },
   "outputs": [],
   "source": [
    "\"\"\"\n",
    "DON'T MODIFY ANYTHING IN THIS CELL\n",
    "\"\"\"\n",
    "import tensorflow as tf\n",
    "import numpy as np\n",
    "import helper\n",
    "import problem_unittests as tests\n",
    "\n",
    "_, (source_vocab_to_int, target_vocab_to_int), (source_int_to_vocab, target_int_to_vocab) = helper.load_preprocess()\n",
    "load_path = helper.load_params()"
   ]
  },
  {
   "cell_type": "markdown",
   "metadata": {},
   "source": [
    "## Sentence to Sequence\n",
    "To feed a sentence into the model for translation, you first need to preprocess it.  Implement the function `sentence_to_seq()` to preprocess new sentences.\n",
    "\n",
    "- Convert the sentence to lowercase\n",
    "- Convert words into ids using `vocab_to_int`\n",
    " - Convert words not in the vocabulary, to the `<UNK>` word id."
   ]
  },
  {
   "cell_type": "code",
   "execution_count": null,
   "metadata": {
    "collapsed": true
   },
   "outputs": [],
   "source": [
    "def sentence_to_seq(sentence, vocab_to_int):\n",
    "    \"\"\"\n",
    "    Convert a sentence to a sequence of ids\n",
    "    :param sentence: String\n",
    "    :param vocab_to_int: Dictionary to go from the words to an id\n",
    "    :return: List of word ids\n",
    "    \"\"\"\n",
    "    # TODO: Implement Function\n",
    "    return None\n",
    "\n",
    "\n",
    "\"\"\"\n",
    "DON'T MODIFY ANYTHING IN THIS CELL THAT IS BELOW THIS LINE\n",
    "\"\"\"\n",
    "tests.test_sentence_to_seq(sentence_to_seq)"
   ]
  },
  {
   "cell_type": "markdown",
   "metadata": {},
   "source": [
    "## Translate\n",
    "This will translate `translate_sentence` from English to French."
   ]
  },
  {
   "cell_type": "code",
   "execution_count": null,
   "metadata": {
    "collapsed": true
   },
   "outputs": [],
   "source": [
    "translate_sentence = 'he saw a old yellow truck .'\n",
    "\n",
    "\n",
    "\"\"\"\n",
    "DON'T MODIFY ANYTHING IN THIS CELL\n",
    "\"\"\"\n",
    "translate_sentence = sentence_to_seq(translate_sentence, source_vocab_to_int)\n",
    "\n",
    "loaded_graph = tf.Graph()\n",
    "with tf.Session(graph=loaded_graph) as sess:\n",
    "    # Load saved model\n",
    "    loader = tf.train.import_meta_graph(load_path + '.meta')\n",
    "    loader.restore(sess, load_path)\n",
    "\n",
    "    input_data = loaded_graph.get_tensor_by_name('input:0')\n",
    "    logits = loaded_graph.get_tensor_by_name('predictions:0')\n",
    "    target_sequence_length = loaded_graph.get_tensor_by_name('target_sequence_length:0')\n",
    "    source_sequence_length = loaded_graph.get_tensor_by_name('source_sequence_length:0')\n",
    "    keep_prob = loaded_graph.get_tensor_by_name('keep_prob:0')\n",
    "\n",
    "    translate_logits = sess.run(logits, {input_data: [translate_sentence]*batch_size,\n",
    "                                         target_sequence_length: [len(translate_sentence)*2]*batch_size,\n",
    "                                         source_sequence_length: [len(translate_sentence)]*batch_size,\n",
    "                                         keep_prob: 1.0})[0]\n",
    "\n",
    "print('Input')\n",
    "print('  Word Ids:      {}'.format([i for i in translate_sentence]))\n",
    "print('  English Words: {}'.format([source_int_to_vocab[i] for i in translate_sentence]))\n",
    "\n",
    "print('\\nPrediction')\n",
    "print('  Word Ids:      {}'.format([i for i in translate_logits]))\n",
    "print('  French Words: {}'.format(\" \".join([target_int_to_vocab[i] for i in translate_logits])))\n"
   ]
  },
  {
   "cell_type": "markdown",
   "metadata": {},
   "source": [
    "## Imperfect Translation\n",
    "You might notice that some sentences translate better than others.  Since the dataset you're using only has a vocabulary of 227 English words of the thousands that you use, you're only going to see good results using these words.  For this project, you don't need a perfect translation. However, if you want to create a better translation model, you'll need better data.\n",
    "\n",
    "You can train on the [WMT10 French-English corpus](http://www.statmt.org/wmt10/training-giga-fren.tar).  This dataset has more vocabulary and richer in topics discussed.  However, this will take you days to train, so make sure you've a GPU and the neural network is performing well on dataset we provided.  Just make sure you play with the WMT10 corpus after you've submitted this project.\n",
    "## Submitting This Project\n",
    "When submitting this project, make sure to run all the cells before saving the notebook. Save the notebook file as \"dlnd_language_translation.ipynb\" and save it as a HTML file under \"File\" -> \"Download as\". Include the \"helper.py\" and \"problem_unittests.py\" files in your submission."
   ]
  }
 ],
 "metadata": {
  "anaconda-cloud": {},
  "kernelspec": {
   "display_name": "Python 3",
   "language": "python",
   "name": "python3"
  },
  "language_info": {
   "codemirror_mode": {
    "name": "ipython",
    "version": 3
   },
   "file_extension": ".py",
   "mimetype": "text/x-python",
   "name": "python",
   "nbconvert_exporter": "python",
   "pygments_lexer": "ipython3",
   "version": "3.5.3"
  }
 },
 "nbformat": 4,
 "nbformat_minor": 1
}
