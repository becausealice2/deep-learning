{
 "cells": [
  {
   "cell_type": "markdown",
   "metadata": {
    "collapsed": true,
    "deletable": true,
    "editable": true
   },
   "source": [
    "# Language Translation\n",
    "In this project, you’re going to take a peek into the realm of neural network machine translation.  You’ll be training a sequence to sequence model on a dataset of English and French sentences that can translate new sentences from English to French.\n",
    "## Get the Data\n",
    "Since translating the whole language of English to French will take lots of time to train, we have provided you with a small portion of the English corpus."
   ]
  },
  {
   "cell_type": "code",
   "execution_count": 1,
   "metadata": {
    "collapsed": true,
    "deletable": true,
    "editable": true
   },
   "outputs": [],
   "source": [
    "\"\"\"\n",
    "DON'T MODIFY ANYTHING IN THIS CELL\n",
    "\"\"\"\n",
    "import helper\n",
    "import problem_unittests as tests\n",
    "\n",
    "source_path = 'data/small_vocab_en'\n",
    "target_path = 'data/small_vocab_fr'\n",
    "source_text = helper.load_data(source_path)\n",
    "target_text = helper.load_data(target_path)"
   ]
  },
  {
   "cell_type": "markdown",
   "metadata": {
    "deletable": true,
    "editable": true
   },
   "source": [
    "## Explore the Data\n",
    "Play around with view_sentence_range to view different parts of the data."
   ]
  },
  {
   "cell_type": "code",
   "execution_count": 2,
   "metadata": {
    "collapsed": false,
    "deletable": true,
    "editable": true
   },
   "outputs": [
    {
     "name": "stdout",
     "output_type": "stream",
     "text": [
      "Dataset Stats\n",
      "Roughly the number of unique words: 227\n",
      "Number of sentences: 137861\n",
      "Average number of words in a sentence: 13.225277634719028\n",
      "\n",
      "English sentences 0 to 10:\n",
      "new jersey is sometimes quiet during autumn , and it is snowy in april .\n",
      "the united states is usually chilly during july , and it is usually freezing in november .\n",
      "california is usually quiet during march , and it is usually hot in june .\n",
      "the united states is sometimes mild during june , and it is cold in september .\n",
      "your least liked fruit is the grape , but my least liked is the apple .\n",
      "his favorite fruit is the orange , but my favorite is the grape .\n",
      "paris is relaxing during december , but it is usually chilly in july .\n",
      "new jersey is busy during spring , and it is never hot in march .\n",
      "our least liked fruit is the lemon , but my least liked is the grape .\n",
      "the united states is sometimes busy during january , and it is sometimes warm in november .\n",
      "\n",
      "French sentences 0 to 10:\n",
      "new jersey est parfois calme pendant l' automne , et il est neigeux en avril .\n",
      "les états-unis est généralement froid en juillet , et il gèle habituellement en novembre .\n",
      "california est généralement calme en mars , et il est généralement chaud en juin .\n",
      "les états-unis est parfois légère en juin , et il fait froid en septembre .\n",
      "votre moins aimé fruit est le raisin , mais mon moins aimé est la pomme .\n",
      "son fruit préféré est l'orange , mais mon préféré est le raisin .\n",
      "paris est relaxant en décembre , mais il est généralement froid en juillet .\n",
      "new jersey est occupé au printemps , et il est jamais chaude en mars .\n",
      "notre fruit est moins aimé le citron , mais mon moins aimé est le raisin .\n",
      "les états-unis est parfois occupé en janvier , et il est parfois chaud en novembre .\n"
     ]
    }
   ],
   "source": [
    "view_sentence_range = (0, 10)\n",
    "\n",
    "\"\"\"\n",
    "DON'T MODIFY ANYTHING IN THIS CELL\n",
    "\"\"\"\n",
    "import numpy as np\n",
    "\n",
    "print('Dataset Stats')\n",
    "print('Roughly the number of unique words: {}'.format(len({word: None for word in source_text.split()})))\n",
    "\n",
    "sentences = source_text.split('\\n')\n",
    "word_counts = [len(sentence.split()) for sentence in sentences]\n",
    "print('Number of sentences: {}'.format(len(sentences)))\n",
    "print('Average number of words in a sentence: {}'.format(np.average(word_counts)))\n",
    "\n",
    "print()\n",
    "print('English sentences {} to {}:'.format(*view_sentence_range))\n",
    "print('\\n'.join(source_text.split('\\n')[view_sentence_range[0]:view_sentence_range[1]]))\n",
    "print()\n",
    "print('French sentences {} to {}:'.format(*view_sentence_range))\n",
    "print('\\n'.join(target_text.split('\\n')[view_sentence_range[0]:view_sentence_range[1]]))"
   ]
  },
  {
   "cell_type": "markdown",
   "metadata": {
    "deletable": true,
    "editable": true
   },
   "source": [
    "## Implement Preprocessing Function\n",
    "### Text to Word Ids\n",
    "As you did with other RNNs, you must turn the text into a number so the computer can understand it. In the function `text_to_ids()`, you'll turn `source_text` and `target_text` from words to ids.  However, you need to add the `<EOS>` word id at the end of `target_text`.  This will help the neural network predict when the sentence should end.\n",
    "\n",
    "You can get the `<EOS>` word id by doing:\n",
    "```python\n",
    "target_vocab_to_int['<EOS>']\n",
    "```\n",
    "You can get other word ids using `source_vocab_to_int` and `target_vocab_to_int`."
   ]
  },
  {
   "cell_type": "code",
   "execution_count": 3,
   "metadata": {
    "collapsed": false,
    "deletable": true,
    "editable": true
   },
   "outputs": [
    {
     "name": "stdout",
     "output_type": "stream",
     "text": [
      "Tests Passed\n"
     ]
    }
   ],
   "source": [
    "def text_to_ids(source_text, target_text, source_vocab_to_int, target_vocab_to_int):\n",
    "    \"\"\"\n",
    "    Convert source and target text to proper word ids\n",
    "    :param source_text: String that contains all the source text.\n",
    "    :param target_text: String that contains all the target text.\n",
    "    :param source_vocab_to_int: Dictionary to go from the source words to an id\n",
    "    :param target_vocab_to_int: Dictionary to go from the target words to an id\n",
    "    :return: A tuple of lists (source_id_text, target_id_text)\n",
    "    \"\"\"\n",
    "    # TODO: Implement Function\n",
    "    \n",
    "    s_sentence = [sentence for sentence in source_text.split('\\n')]\n",
    "    t_sentence = [sentence+\" <EOS>\" for sentence in target_text.split('\\n')]\n",
    "    \n",
    "    source_id_text = [[source_vocab_to_int[vocab] for vocab in sentence.split()] for sentence in s_sentence]\n",
    "    target_id_text = [[target_vocab_to_int[vocab] for vocab in sentence.split()] for sentence in t_sentence]\n",
    "    \n",
    "    return source_id_text, target_id_text\n",
    "\n",
    "\"\"\"\n",
    "DON'T MODIFY ANYTHING IN THIS CELL THAT IS BELOW THIS LINE\n",
    "\"\"\"\n",
    "tests.test_text_to_ids(text_to_ids)"
   ]
  },
  {
   "cell_type": "markdown",
   "metadata": {
    "deletable": true,
    "editable": true
   },
   "source": [
    "### Preprocess all the data and save it\n",
    "Running the code cell below will preprocess all the data and save it to file."
   ]
  },
  {
   "cell_type": "code",
   "execution_count": 4,
   "metadata": {
    "collapsed": true,
    "deletable": true,
    "editable": true
   },
   "outputs": [],
   "source": [
    "\"\"\"\n",
    "DON'T MODIFY ANYTHING IN THIS CELL\n",
    "\"\"\"\n",
    "helper.preprocess_and_save_data(source_path, target_path, text_to_ids)"
   ]
  },
  {
   "cell_type": "markdown",
   "metadata": {
    "deletable": true,
    "editable": true
   },
   "source": [
    "# Check Point\n",
    "This is your first checkpoint. If you ever decide to come back to this notebook or have to restart the notebook, you can start from here. The preprocessed data has been saved to disk."
   ]
  },
  {
   "cell_type": "code",
   "execution_count": 5,
   "metadata": {
    "collapsed": true,
    "deletable": true,
    "editable": true
   },
   "outputs": [],
   "source": [
    "\"\"\"\n",
    "DON'T MODIFY ANYTHING IN THIS CELL\n",
    "\"\"\"\n",
    "import numpy as np\n",
    "import helper\n",
    "\n",
    "(source_int_text, target_int_text), (source_vocab_to_int, target_vocab_to_int), _ = helper.load_preprocess()"
   ]
  },
  {
   "cell_type": "markdown",
   "metadata": {
    "deletable": true,
    "editable": true
   },
   "source": [
    "### Check the Version of TensorFlow and Access to GPU\n",
    "This will check to make sure you have the correct version of TensorFlow and access to a GPU"
   ]
  },
  {
   "cell_type": "code",
   "execution_count": 6,
   "metadata": {
    "collapsed": false,
    "deletable": true,
    "editable": true
   },
   "outputs": [
    {
     "name": "stdout",
     "output_type": "stream",
     "text": [
      "TensorFlow Version: 1.1.0\n",
      "Default GPU Device: /gpu:0\n"
     ]
    }
   ],
   "source": [
    "\"\"\"\n",
    "DON'T MODIFY ANYTHING IN THIS CELL\n",
    "\"\"\"\n",
    "from distutils.version import LooseVersion\n",
    "import warnings\n",
    "import tensorflow as tf\n",
    "from tensorflow.python.layers.core import Dense\n",
    "\n",
    "# Check TensorFlow Version\n",
    "assert LooseVersion(tf.__version__) >= LooseVersion('1.1'), 'Please use TensorFlow version 1.1 or newer'\n",
    "print('TensorFlow Version: {}'.format(tf.__version__))\n",
    "\n",
    "# Check for a GPU\n",
    "if not tf.test.gpu_device_name():\n",
    "    warnings.warn('No GPU found. Please use a GPU to train your neural network.')\n",
    "else:\n",
    "    print('Default GPU Device: {}'.format(tf.test.gpu_device_name()))"
   ]
  },
  {
   "cell_type": "markdown",
   "metadata": {
    "deletable": true,
    "editable": true
   },
   "source": [
    "## Build the Neural Network\n",
    "You'll build the components necessary to build a Sequence-to-Sequence model by implementing the following functions below:\n",
    "- `model_inputs`\n",
    "- `process_decoder_input`\n",
    "- `encoding_layer`\n",
    "- `decoding_layer_train`\n",
    "- `decoding_layer_infer`\n",
    "- `decoding_layer`\n",
    "- `seq2seq_model`\n",
    "\n",
    "### Input\n",
    "Implement the `model_inputs()` function to create TF Placeholders for the Neural Network. It should create the following placeholders:\n",
    "\n",
    "- Input text placeholder named \"input\" using the TF Placeholder name parameter with rank 2.\n",
    "- Targets placeholder with rank 2.\n",
    "- Learning rate placeholder with rank 0.\n",
    "- Keep probability placeholder named \"keep_prob\" using the TF Placeholder name parameter with rank 0.\n",
    "- Target sequence length placeholder named \"target_sequence_length\" with rank 1\n",
    "- Max target sequence length tensor named \"max_target_len\" getting its value from applying tf.reduce_max on the target_sequence_length placeholder. Rank 0.\n",
    "- Source sequence length placeholder named \"source_sequence_length\" with rank 1\n",
    "\n",
    "Return the placeholders in the following the tuple (input, targets, learning rate, keep probability, target sequence length, max target sequence length, source sequence length)"
   ]
  },
  {
   "cell_type": "code",
   "execution_count": 7,
   "metadata": {
    "collapsed": false,
    "deletable": true,
    "editable": true
   },
   "outputs": [
    {
     "name": "stdout",
     "output_type": "stream",
     "text": [
      "Tests Passed\n"
     ]
    }
   ],
   "source": [
    "def model_inputs():\n",
    "    \"\"\"\n",
    "    Create TF Placeholders for input, targets, learning rate, and lengths of source and target sequences.\n",
    "    :return: Tuple (input, targets, learning rate, keep probability, target sequence length,\n",
    "    max target sequence length, source sequence length)\n",
    "    \"\"\"\n",
    "    # TODO: Implement Function\n",
    "    input_ = tf.placeholder(tf.int32, [None, None], name=\"input\")\n",
    "    targets = tf.placeholder(tf.int32, [None, None], name=\"targets\")\n",
    "    learning_rate = tf.placeholder(tf.float32, name=\"learning_rate\")\n",
    "    keep_prob = tf.placeholder(tf.float32, name=\"keep_prob\")\n",
    "    target_seq_len = tf.placeholder(tf.int32, (None,), name=\"target_sequence_length\")\n",
    "    max_target_len = tf.reduce_max(target_seq_len, name=\"max_target_len\")\n",
    "    source_seq_len = tf.placeholder(tf.int32, (None,), name=\"source_sequence_length\")\n",
    "    return input_, targets, learning_rate, keep_prob, target_seq_len, max_target_len, source_seq_len\n",
    "\n",
    "\n",
    "\"\"\"\n",
    "DON'T MODIFY ANYTHING IN THIS CELL THAT IS BELOW THIS LINE\n",
    "\"\"\"\n",
    "tests.test_model_inputs(model_inputs)"
   ]
  },
  {
   "cell_type": "markdown",
   "metadata": {
    "deletable": true,
    "editable": true
   },
   "source": [
    "### Process Decoder Input\n",
    "Implement `process_decoder_input` by removing the last word id from each batch in `target_data` and concat the GO ID to the begining of each batch."
   ]
  },
  {
   "cell_type": "code",
   "execution_count": 8,
   "metadata": {
    "collapsed": false,
    "deletable": true,
    "editable": true
   },
   "outputs": [
    {
     "name": "stdout",
     "output_type": "stream",
     "text": [
      "Tests Passed\n"
     ]
    }
   ],
   "source": [
    "def process_decoder_input(target_data, target_vocab_to_int, batch_size):\n",
    "    \"\"\"\n",
    "    Preprocess target data for encoding\n",
    "    :param target_data: Target Placehoder\n",
    "    :param target_vocab_to_int: Dictionary to go from the target words to an id\n",
    "    :param batch_size: Batch Size\n",
    "    :return: Preprocessed target data\n",
    "    \"\"\"\n",
    "    # TODO: Implement Function\n",
    "    ending = tf.strided_slice(target_data, [0, 0], [batch_size, -1], [1, 1])\n",
    "    dec_input = tf.concat([tf.fill([batch_size, 1], target_vocab_to_int['<GO>']), ending], 1)\n",
    "\n",
    "    return dec_input\n",
    "\n",
    "\"\"\"\n",
    "DON'T MODIFY ANYTHING IN THIS CELL THAT IS BELOW THIS LINE\n",
    "\"\"\"\n",
    "tests.test_process_encoding_input(process_decoder_input)"
   ]
  },
  {
   "cell_type": "markdown",
   "metadata": {
    "deletable": true,
    "editable": true
   },
   "source": [
    "### Encoding\n",
    "Implement `encoding_layer()` to create a Encoder RNN layer:\n",
    " * Embed the encoder input using [`tf.contrib.layers.embed_sequence`](https://www.tensorflow.org/api_docs/python/tf/contrib/layers/embed_sequence)\n",
    " * Construct a [stacked](https://github.com/tensorflow/tensorflow/blob/6947f65a374ebf29e74bb71e36fd82760056d82c/tensorflow/docs_src/tutorials/recurrent.md#stacking-multiple-lstms) [`tf.contrib.rnn.LSTMCell`](https://www.tensorflow.org/api_docs/python/tf/contrib/rnn/LSTMCell) wrapped in a [`tf.contrib.rnn.DropoutWrapper`](https://www.tensorflow.org/api_docs/python/tf/contrib/rnn/DropoutWrapper)\n",
    " * Pass cell and embedded input to [`tf.nn.dynamic_rnn()`](https://www.tensorflow.org/api_docs/python/tf/nn/dynamic_rnn)"
   ]
  },
  {
   "cell_type": "code",
   "execution_count": 9,
   "metadata": {
    "collapsed": false,
    "deletable": true,
    "editable": true,
    "scrolled": false
   },
   "outputs": [
    {
     "name": "stdout",
     "output_type": "stream",
     "text": [
      "Tests Passed\n"
     ]
    }
   ],
   "source": [
    "from imp import reload\n",
    "reload(tests)\n",
    "\n",
    "def encoding_layer(rnn_inputs, rnn_size, num_layers, keep_prob, \n",
    "                   source_sequence_length, source_vocab_size, \n",
    "                   encoding_embedding_size):\n",
    "    \"\"\"\n",
    "    Create encoding layer\n",
    "    :param rnn_inputs: Inputs for the RNN\n",
    "    :param rnn_size: RNN Size\n",
    "    :param num_layers: Number of layers\n",
    "    :param keep_prob: Dropout keep probability\n",
    "    :param source_sequence_length: a list of the lengths of each sequence in the batch\n",
    "    :param source_vocab_size: vocabulary size of source data\n",
    "    :param encoding_embedding_size: embedding size of source data\n",
    "    :return: tuple (RNN output, RNN state)\n",
    "    \"\"\"\n",
    "    # TODO: Implement Function\n",
    "    # Encoder embedding\n",
    "    enc_embed_input = tf.contrib.layers.embed_sequence(rnn_inputs,\n",
    "                                                       source_vocab_size,\n",
    "                                                       encoding_embedding_size)\n",
    "\n",
    "    # RNN cell\n",
    "    def make_cell(rnn_size):\n",
    "        enc_cell = tf.contrib.rnn.LSTMCell(rnn_size,\n",
    "                                           initializer=tf.random_uniform_initializer(-0.1, 0.1, seed=2))\n",
    "        return enc_cell\n",
    "\n",
    "    enc_cell = tf.contrib.rnn.MultiRNNCell([make_cell(rnn_size) for _ in range(num_layers)])\n",
    "    \n",
    "    enc_output, enc_state = tf.nn.dynamic_rnn(enc_cell,\n",
    "                                              enc_embed_input,\n",
    "                                              sequence_length=source_sequence_length,\n",
    "                                              dtype=tf.float32)\n",
    "    \n",
    "    return enc_output, enc_state\n",
    "\n",
    "\"\"\"\n",
    "DON'T MODIFY ANYTHING IN THIS CELL THAT IS BELOW THIS LINE\n",
    "\"\"\"\n",
    "tests.test_encoding_layer(encoding_layer)"
   ]
  },
  {
   "cell_type": "markdown",
   "metadata": {
    "deletable": true,
    "editable": true
   },
   "source": [
    "### Decoding - Training\n",
    "Create a training decoding layer:\n",
    "* Create a [`tf.contrib.seq2seq.TrainingHelper`](https://www.tensorflow.org/api_docs/python/tf/contrib/seq2seq/TrainingHelper) \n",
    "* Create a [`tf.contrib.seq2seq.BasicDecoder`](https://www.tensorflow.org/api_docs/python/tf/contrib/seq2seq/BasicDecoder)\n",
    "* Obtain the decoder outputs from [`tf.contrib.seq2seq.dynamic_decode`](https://www.tensorflow.org/api_docs/python/tf/contrib/seq2seq/dynamic_decode)"
   ]
  },
  {
   "cell_type": "code",
   "execution_count": 10,
   "metadata": {
    "collapsed": false,
    "deletable": true,
    "editable": true
   },
   "outputs": [
    {
     "name": "stdout",
     "output_type": "stream",
     "text": [
      "Tests Passed\n"
     ]
    }
   ],
   "source": [
    "def decoding_layer_train(encoder_state, dec_cell, dec_embed_input, \n",
    "                         target_sequence_length, max_summary_length, \n",
    "                         output_layer, keep_prob):\n",
    "    \"\"\"\n",
    "    Create a decoding layer for training\n",
    "    :param encoder_state: Encoder State\n",
    "    :param dec_cell: Decoder RNN Cell\n",
    "    :param dec_embed_input: Decoder embedded input\n",
    "    :param target_sequence_length: The lengths of each sequence in the target batch\n",
    "    :param max_summary_length: The length of the longest sequence in the batch\n",
    "    :param output_layer: Function to apply the output layer\n",
    "    :param keep_prob: Dropout keep probability\n",
    "    :return: BasicDecoderOutput containing training logits and sample_id\n",
    "    \"\"\"\n",
    "    # TODO: Implement Function\n",
    "    dec_cell = tf.contrib.rnn.DropoutWrapper(dec_cell,output_keep_prob=keep_prob)\n",
    "    \n",
    "    # Helper for the training process. Used by BasicDecoder to read inputs.\n",
    "    training_helper = tf.contrib.seq2seq.TrainingHelper(inputs=dec_embed_input,\n",
    "                                                        sequence_length=target_sequence_length)\n",
    "\n",
    "    # Basic decoder\n",
    "    training_decoder = tf.contrib.seq2seq.BasicDecoder(dec_cell,\n",
    "                                                       training_helper,\n",
    "                                                       encoder_state,\n",
    "                                                       output_layer) \n",
    "\n",
    "    # Perform dynamic decoding using the decoder\n",
    "    training_decoder_output, _ = tf.contrib.seq2seq.dynamic_decode(training_decoder,\n",
    "                                                                   output_time_major=False,\n",
    "                                                                   impute_finished=True,\n",
    "                                                                   maximum_iterations=max_summary_length)\n",
    "    \n",
    "    return training_decoder_output\n",
    "\n",
    "\n",
    "\"\"\"\n",
    "DON'T MODIFY ANYTHING IN THIS CELL THAT IS BELOW THIS LINE\n",
    "\"\"\"\n",
    "tests.test_decoding_layer_train(decoding_layer_train)"
   ]
  },
  {
   "cell_type": "markdown",
   "metadata": {
    "deletable": true,
    "editable": true
   },
   "source": [
    "### Decoding - Inference\n",
    "Create inference decoder:\n",
    "* Create a [`tf.contrib.seq2seq.GreedyEmbeddingHelper`](https://www.tensorflow.org/api_docs/python/tf/contrib/seq2seq/GreedyEmbeddingHelper)\n",
    "* Create a [`tf.contrib.seq2seq.BasicDecoder`](https://www.tensorflow.org/api_docs/python/tf/contrib/seq2seq/BasicDecoder)\n",
    "* Obtain the decoder outputs from [`tf.contrib.seq2seq.dynamic_decode`](https://www.tensorflow.org/api_docs/python/tf/contrib/seq2seq/dynamic_decode)"
   ]
  },
  {
   "cell_type": "code",
   "execution_count": 11,
   "metadata": {
    "collapsed": false,
    "deletable": true,
    "editable": true,
    "scrolled": true
   },
   "outputs": [
    {
     "name": "stdout",
     "output_type": "stream",
     "text": [
      "Tests Passed\n"
     ]
    }
   ],
   "source": [
    "def decoding_layer_infer(encoder_state, dec_cell, dec_embeddings, start_of_sequence_id,\n",
    "                         end_of_sequence_id, max_target_sequence_length,\n",
    "                         vocab_size, output_layer, batch_size, keep_prob):\n",
    "    \"\"\"\n",
    "    Create a decoding layer for inference\n",
    "    :param encoder_state: Encoder state\n",
    "    :param dec_cell: Decoder RNN Cell\n",
    "    :param dec_embeddings: Decoder embeddings\n",
    "    :param start_of_sequence_id: GO ID\n",
    "    :param end_of_sequence_id: EOS Id\n",
    "    :param max_target_sequence_length: Maximum length of target sequences\n",
    "    :param vocab_size: Size of decoder/target vocabulary\n",
    "    :param decoding_scope: TenorFlow Variable Scope for decoding\n",
    "    :param output_layer: Function to apply the output layer\n",
    "    :param batch_size: Batch size\n",
    "    :param keep_prob: Dropout keep probability\n",
    "    :return: BasicDecoderOutput containing inference logits and sample_id\n",
    "    \"\"\"\n",
    "    # TODO: Implement Function\n",
    "    start_tokens = tf.tile(tf.constant([start_of_sequence_id], dtype=tf.int32), [batch_size], name='start_tokens')\n",
    "    # Helper for the inference process.\n",
    "    inference_helper = tf.contrib.seq2seq.GreedyEmbeddingHelper(dec_embeddings,\n",
    "                                                                start_tokens,\n",
    "                                                                end_of_sequence_id)\n",
    "\n",
    "    # Basic decoder\n",
    "    inference_decoder = tf.contrib.seq2seq.BasicDecoder(dec_cell,\n",
    "                                                        inference_helper,\n",
    "                                                        encoder_state,\n",
    "                                                        output_layer)\n",
    "\n",
    "    # Perform dynamic decoding using the decoder\n",
    "    inference_decoder_output, _ = tf.contrib.seq2seq.dynamic_decode(inference_decoder,\n",
    "                                                                    output_time_major=False,\n",
    "                                                                    impute_finished=True,\n",
    "                                                                    maximum_iterations=max_target_sequence_length)\n",
    "    \n",
    "    return inference_decoder_output\n",
    "\n",
    "\"\"\"\n",
    "DON'T MODIFY ANYTHING IN THIS CELL THAT IS BELOW THIS LINE\n",
    "\"\"\"\n",
    "tests.test_decoding_layer_infer(decoding_layer_infer)"
   ]
  },
  {
   "cell_type": "markdown",
   "metadata": {
    "deletable": true,
    "editable": true
   },
   "source": [
    "### Build the Decoding Layer\n",
    "Implement `decoding_layer()` to create a Decoder RNN layer.\n",
    "\n",
    "* Embed the target sequences\n",
    "* Construct the decoder LSTM cell (just like you constructed the encoder cell above)\n",
    "* Create an output layer to map the outputs of the decoder to the elements of our vocabulary\n",
    "* Use the your `decoding_layer_train(encoder_state, dec_cell, dec_embed_input, target_sequence_length, max_target_sequence_length, output_layer, keep_prob)` function to get the training logits.\n",
    "* Use your `decoding_layer_infer(encoder_state, dec_cell, dec_embeddings, start_of_sequence_id, end_of_sequence_id, max_target_sequence_length, vocab_size, output_layer, batch_size, keep_prob)` function to get the inference logits.\n",
    "\n",
    "Note: You'll need to use [tf.variable_scope](https://www.tensorflow.org/api_docs/python/tf/variable_scope) to share variables between training and inference."
   ]
  },
  {
   "cell_type": "code",
   "execution_count": 12,
   "metadata": {
    "collapsed": false,
    "deletable": true,
    "editable": true
   },
   "outputs": [
    {
     "name": "stdout",
     "output_type": "stream",
     "text": [
      "Tests Passed\n"
     ]
    }
   ],
   "source": [
    "def decoding_layer(dec_input, encoder_state,\n",
    "                   target_sequence_length, max_target_sequence_length,\n",
    "                   rnn_size,\n",
    "                   num_layers, target_vocab_to_int, target_vocab_size,\n",
    "                   batch_size, keep_prob, decoding_embedding_size):\n",
    "    \"\"\"\n",
    "    Create decoding layer\n",
    "    :param dec_input: Decoder input\n",
    "    :param encoder_state: Encoder state\n",
    "    :param target_sequence_length: The lengths of each sequence in the target batch\n",
    "    :param max_target_sequence_length: Maximum length of target sequences\n",
    "    :param rnn_size: RNN Size\n",
    "    :param num_layers: Number of layers\n",
    "    :param target_vocab_to_int: Dictionary to go from the target words to an id\n",
    "    :param target_vocab_size: Size of target vocabulary\n",
    "    :param batch_size: The size of the batch\n",
    "    :param keep_prob: Dropout keep probability\n",
    "    :param decoding_embedding_size: Decoding embedding size\n",
    "    :return: Tuple of (Training BasicDecoderOutput, Inference BasicDecoderOutput)\n",
    "    \"\"\"\n",
    "    # TODO: Implement Function  \n",
    "    dec_embeddings = tf.Variable(tf.random_uniform([target_vocab_size, decoding_embedding_size]))\n",
    "    dec_embed_input = tf.nn.embedding_lookup(dec_embeddings, dec_input)\n",
    "\n",
    "    # RNN cell\n",
    "    def make_cell(rnn_size):\n",
    "        dec_cell = tf.contrib.rnn.LSTMCell(rnn_size, initializer=tf.random_uniform_initializer(-0.1, 0.1, seed=2))\n",
    "        return dec_cell\n",
    "    dec_cell = tf.contrib.rnn.MultiRNNCell([make_cell(rnn_size) for _ in range(num_layers)])\n",
    "    output_layer = Dense(target_vocab_size, kernel_initializer = tf.truncated_normal_initializer(mean = 0.0, stddev=0.1))\n",
    "    \n",
    "    with tf.variable_scope(\"decode\"):\n",
    "        training_logits = decoding_layer_train(encoder_state,\n",
    "                                               dec_cell,\n",
    "                                               dec_embed_input,\n",
    "                                               target_sequence_length,\n",
    "                                               max_target_sequence_length,\n",
    "                                               output_layer,\n",
    "                                               keep_prob)\n",
    "           \n",
    "    with tf.variable_scope(\"decode\", reuse=True):\n",
    "        start_of_sequence_id = target_vocab_to_int['<GO>']\n",
    "        end_of_sequence_id = target_vocab_to_int['<EOS>']\n",
    "        inference_logits = decoding_layer_infer(encoder_state,\n",
    "                                                dec_cell,\n",
    "                                                dec_embeddings,\n",
    "                                                start_of_sequence_id,\n",
    "                                                end_of_sequence_id,\n",
    "                                                max_target_sequence_length,\n",
    "                                                target_vocab_size,\n",
    "                                                output_layer,\n",
    "                                                batch_size,\n",
    "                                                keep_prob)\n",
    "        \n",
    "    return training_logits, inference_logits\n",
    "\n",
    "\n",
    "\n",
    "\"\"\"\n",
    "DON'T MODIFY ANYTHING IN THIS CELL THAT IS BELOW THIS LINE\n",
    "\"\"\"\n",
    "tests.test_decoding_layer(decoding_layer)"
   ]
  },
  {
   "cell_type": "markdown",
   "metadata": {
    "deletable": true,
    "editable": true
   },
   "source": [
    "### Build the Neural Network\n",
    "Apply the functions you implemented above to:\n",
    "\n",
    "- Encode the input using your `encoding_layer(rnn_inputs, rnn_size, num_layers, keep_prob,  source_sequence_length, source_vocab_size, encoding_embedding_size)`.\n",
    "- Process target data using your `process_decoder_input(target_data, target_vocab_to_int, batch_size)` function.\n",
    "- Decode the encoded input using your `decoding_layer(dec_input, enc_state, target_sequence_length, max_target_sentence_length, rnn_size, num_layers, target_vocab_to_int, target_vocab_size, batch_size, keep_prob, dec_embedding_size)` function."
   ]
  },
  {
   "cell_type": "code",
   "execution_count": 13,
   "metadata": {
    "collapsed": false,
    "deletable": true,
    "editable": true
   },
   "outputs": [
    {
     "name": "stdout",
     "output_type": "stream",
     "text": [
      "Tests Passed\n"
     ]
    }
   ],
   "source": [
    "def seq2seq_model(input_data, target_data, keep_prob, batch_size,\n",
    "                  source_sequence_length, target_sequence_length,\n",
    "                  max_target_sentence_length,\n",
    "                  source_vocab_size, target_vocab_size,\n",
    "                  enc_embedding_size, dec_embedding_size,\n",
    "                  rnn_size, num_layers, target_vocab_to_int):\n",
    "    \"\"\"\n",
    "    Build the Sequence-to-Sequence part of the neural network\n",
    "    :param input_data: Input placeholder\n",
    "    :param target_data: Target placeholder\n",
    "    :param keep_prob: Dropout keep probability placeholder\n",
    "    :param batch_size: Batch Size\n",
    "    :param source_sequence_length: Sequence Lengths of source sequences in the batch\n",
    "    :param target_sequence_length: Sequence Lengths of target sequences in the batch\n",
    "    :param source_vocab_size: Source vocabulary size\n",
    "    :param target_vocab_size: Target vocabulary size\n",
    "    :param enc_embedding_size: Decoder embedding size\n",
    "    :param dec_embedding_size: Encoder embedding size\n",
    "    :param rnn_size: RNN Size\n",
    "    :param num_layers: Number of layers\n",
    "    :param target_vocab_to_int: Dictionary to go from the target words to an id\n",
    "    :return: Tuple of (Training BasicDecoderOutput, Inference BasicDecoderOutput)\n",
    "    \"\"\"\n",
    "    # TODO: Implement Function\n",
    "    enc_output, enc_state = encoding_layer(input_data,\n",
    "                                           rnn_size,\n",
    "                                           num_layers,\n",
    "                                           keep_prob,\n",
    "                                           source_sequence_length,\n",
    "                                           source_vocab_size,\n",
    "                                           enc_embedding_size)    \n",
    "    \n",
    "    dec_input = process_decoder_input(target_data, target_vocab_to_int, batch_size)\n",
    "#   max_target_sequence_length = tf.reduce_max(target_sequence_length)\n",
    "    \n",
    "    training_decoder_output, inference_decoder_output = decoding_layer(dec_input,\n",
    "                                                                       enc_state,\n",
    "                                                                       target_sequence_length,\n",
    "                                                                       max_target_sentence_length,\n",
    "                                                                       rnn_size,\n",
    "                                                                       num_layers,\n",
    "                                                                       target_vocab_to_int,\n",
    "                                                                       target_vocab_size,\n",
    "                                                                       batch_size,\n",
    "                                                                       keep_prob,\n",
    "                                                                       dec_embedding_size) \n",
    "    \n",
    "    return training_decoder_output, inference_decoder_output\n",
    "\n",
    "\"\"\"\n",
    "DON'T MODIFY ANYTHING IN THIS CELL THAT IS BELOW THIS LINE\n",
    "\"\"\"\n",
    "tests.test_seq2seq_model(seq2seq_model)"
   ]
  },
  {
   "cell_type": "markdown",
   "metadata": {
    "deletable": true,
    "editable": true
   },
   "source": [
    "## Neural Network Training\n",
    "### Hyperparameters\n",
    "Tune the following parameters:\n",
    "\n",
    "- Set `epochs` to the number of epochs.\n",
    "- Set `batch_size` to the batch size.\n",
    "- Set `rnn_size` to the size of the RNNs.\n",
    "- Set `num_layers` to the number of layers.\n",
    "- Set `encoding_embedding_size` to the size of the embedding for the encoder.\n",
    "- Set `decoding_embedding_size` to the size of the embedding for the decoder.\n",
    "- Set `learning_rate` to the learning rate.\n",
    "- Set `keep_probability` to the Dropout keep probability\n",
    "- Set `display_step` to state how many steps between each debug output statement"
   ]
  },
  {
   "cell_type": "code",
   "execution_count": 27,
   "metadata": {
    "collapsed": true,
    "deletable": true,
    "editable": true
   },
   "outputs": [],
   "source": [
    "# Number of Epochs\n",
    "epochs = 5\n",
    "# Batch Size\n",
    "batch_size = 256\n",
    "# RNN Size\n",
    "rnn_size = 256\n",
    "# Number of Layers\n",
    "num_layers = 2\n",
    "# Embedding Size\n",
    "encoding_embedding_size = 30\n",
    "decoding_embedding_size = 30\n",
    "# Learning Rate\n",
    "learning_rate = .001\n",
    "# Dropout Keep Probability\n",
    "keep_probability = .5\n",
    "display_step = 10"
   ]
  },
  {
   "cell_type": "markdown",
   "metadata": {
    "deletable": true,
    "editable": true
   },
   "source": [
    "### Build the Graph\n",
    "Build the graph using the neural network you implemented."
   ]
  },
  {
   "cell_type": "code",
   "execution_count": 28,
   "metadata": {
    "collapsed": true,
    "deletable": true,
    "editable": true
   },
   "outputs": [],
   "source": [
    "\"\"\"\n",
    "DON'T MODIFY ANYTHING IN THIS CELL\n",
    "\"\"\"\n",
    "save_path = 'checkpoints/dev'\n",
    "(source_int_text, target_int_text), (source_vocab_to_int, target_vocab_to_int), _ = helper.load_preprocess()\n",
    "max_target_sentence_length = max([len(sentence) for sentence in source_int_text])\n",
    "\n",
    "train_graph = tf.Graph()\n",
    "with train_graph.as_default():\n",
    "    input_data, targets, lr, keep_prob, target_sequence_length, max_target_sequence_length, source_sequence_length = model_inputs()\n",
    "\n",
    "    #sequence_length = tf.placeholder_with_default(max_target_sentence_length, None, name='sequence_length')\n",
    "    input_shape = tf.shape(input_data)\n",
    "\n",
    "    train_logits, inference_logits = seq2seq_model(tf.reverse(input_data, [-1]),\n",
    "                                                   targets,\n",
    "                                                   keep_prob,\n",
    "                                                   batch_size,\n",
    "                                                   source_sequence_length,\n",
    "                                                   target_sequence_length,\n",
    "                                                   max_target_sequence_length,\n",
    "                                                   len(source_vocab_to_int),\n",
    "                                                   len(target_vocab_to_int),\n",
    "                                                   encoding_embedding_size,\n",
    "                                                   decoding_embedding_size,\n",
    "                                                   rnn_size,\n",
    "                                                   num_layers,\n",
    "                                                   target_vocab_to_int)\n",
    "\n",
    "\n",
    "    training_logits = tf.identity(train_logits.rnn_output, name='logits')\n",
    "    inference_logits = tf.identity(inference_logits.sample_id, name='predictions')\n",
    "\n",
    "    masks = tf.sequence_mask(target_sequence_length, max_target_sequence_length, dtype=tf.float32, name='masks')\n",
    "\n",
    "    with tf.name_scope(\"optimization\"):\n",
    "        # Loss function\n",
    "        cost = tf.contrib.seq2seq.sequence_loss(\n",
    "            training_logits,\n",
    "            targets,\n",
    "            masks)\n",
    "\n",
    "        # Optimizer\n",
    "        optimizer = tf.train.AdamOptimizer(lr)\n",
    "\n",
    "        # Gradient Clipping\n",
    "        gradients = optimizer.compute_gradients(cost)\n",
    "        capped_gradients = [(tf.clip_by_value(grad, -1., 1.), var) for grad, var in gradients if grad is not None]\n",
    "        train_op = optimizer.apply_gradients(capped_gradients)\n"
   ]
  },
  {
   "cell_type": "markdown",
   "metadata": {
    "deletable": true,
    "editable": true
   },
   "source": [
    "Batch and pad the source and target sequences"
   ]
  },
  {
   "cell_type": "code",
   "execution_count": 29,
   "metadata": {
    "collapsed": true,
    "deletable": true,
    "editable": true
   },
   "outputs": [],
   "source": [
    "\"\"\"\n",
    "DON'T MODIFY ANYTHING IN THIS CELL\n",
    "\"\"\"\n",
    "def pad_sentence_batch(sentence_batch, pad_int):\n",
    "    \"\"\"Pad sentences with <PAD> so that each sentence of a batch has the same length\"\"\"\n",
    "    max_sentence = max([len(sentence) for sentence in sentence_batch])\n",
    "    return [sentence + [pad_int] * (max_sentence - len(sentence)) for sentence in sentence_batch]\n",
    "\n",
    "\n",
    "def get_batches(sources, targets, batch_size, source_pad_int, target_pad_int):\n",
    "    \"\"\"Batch targets, sources, and the lengths of their sentences together\"\"\"\n",
    "    for batch_i in range(0, len(sources)//batch_size):\n",
    "        start_i = batch_i * batch_size\n",
    "\n",
    "        # Slice the right amount for the batch\n",
    "        sources_batch = sources[start_i:start_i + batch_size]\n",
    "        targets_batch = targets[start_i:start_i + batch_size]\n",
    "\n",
    "        # Pad\n",
    "        pad_sources_batch = np.array(pad_sentence_batch(sources_batch, source_pad_int))\n",
    "        pad_targets_batch = np.array(pad_sentence_batch(targets_batch, target_pad_int))\n",
    "\n",
    "        # Need the lengths for the _lengths parameters\n",
    "        pad_targets_lengths = []\n",
    "        for target in pad_targets_batch:\n",
    "            pad_targets_lengths.append(len(target))\n",
    "\n",
    "        pad_source_lengths = []\n",
    "        for source in pad_sources_batch:\n",
    "            pad_source_lengths.append(len(source))\n",
    "\n",
    "        yield pad_sources_batch, pad_targets_batch, pad_source_lengths, pad_targets_lengths\n"
   ]
  },
  {
   "cell_type": "markdown",
   "metadata": {
    "deletable": true,
    "editable": true
   },
   "source": [
    "### Train\n",
    "Train the neural network on the preprocessed data. If you have a hard time getting a good loss, check the forms to see if anyone is having the same problem."
   ]
  },
  {
   "cell_type": "code",
   "execution_count": 30,
   "metadata": {
    "collapsed": false,
    "deletable": true,
    "editable": true,
    "scrolled": true
   },
   "outputs": [
    {
     "name": "stdout",
     "output_type": "stream",
     "text": [
      "Epoch   0 Batch   10/538 - Train Accuracy: 0.2793, Validation Accuracy: 0.3612, Loss: 3.8489\n",
      "Epoch   0 Batch   20/538 - Train Accuracy: 0.3772, Validation Accuracy: 0.4185, Loss: 3.0912\n",
      "Epoch   0 Batch   30/538 - Train Accuracy: 0.3779, Validation Accuracy: 0.4498, Loss: 2.9440\n",
      "Epoch   0 Batch   40/538 - Train Accuracy: 0.4636, Validation Accuracy: 0.4672, Loss: 2.5098\n",
      "Epoch   0 Batch   50/538 - Train Accuracy: 0.4391, Validation Accuracy: 0.4847, Loss: 2.5387\n",
      "Epoch   0 Batch   60/538 - Train Accuracy: 0.4313, Validation Accuracy: 0.4799, Loss: 2.5050\n",
      "Epoch   0 Batch   70/538 - Train Accuracy: 0.4509, Validation Accuracy: 0.4790, Loss: 2.2986\n",
      "Epoch   0 Batch   80/538 - Train Accuracy: 0.4545, Validation Accuracy: 0.5075, Loss: 2.3078\n",
      "Epoch   0 Batch   90/538 - Train Accuracy: 0.4567, Validation Accuracy: 0.4817, Loss: 2.1382\n",
      "Epoch   0 Batch  100/538 - Train Accuracy: 0.4693, Validation Accuracy: 0.5124, Loss: 2.0269\n",
      "Epoch   0 Batch  110/538 - Train Accuracy: 0.4670, Validation Accuracy: 0.5195, Loss: 1.9645\n",
      "Epoch   0 Batch  120/538 - Train Accuracy: 0.4387, Validation Accuracy: 0.4904, Loss: 1.8227\n",
      "Epoch   0 Batch  130/538 - Train Accuracy: 0.4913, Validation Accuracy: 0.5265, Loss: 1.7593\n",
      "Epoch   0 Batch  140/538 - Train Accuracy: 0.4623, Validation Accuracy: 0.5229, Loss: 1.7846\n",
      "Epoch   0 Batch  150/538 - Train Accuracy: 0.4818, Validation Accuracy: 0.5202, Loss: 1.6399\n",
      "Epoch   0 Batch  160/538 - Train Accuracy: 0.4621, Validation Accuracy: 0.5115, Loss: 1.5368\n",
      "Epoch   0 Batch  170/538 - Train Accuracy: 0.4901, Validation Accuracy: 0.5199, Loss: 1.5152\n",
      "Epoch   0 Batch  180/538 - Train Accuracy: 0.5099, Validation Accuracy: 0.5197, Loss: 1.4859\n",
      "Epoch   0 Batch  190/538 - Train Accuracy: 0.4855, Validation Accuracy: 0.5169, Loss: 1.5121\n",
      "Epoch   0 Batch  200/538 - Train Accuracy: 0.4594, Validation Accuracy: 0.5183, Loss: 1.4580\n",
      "Epoch   0 Batch  210/538 - Train Accuracy: 0.4972, Validation Accuracy: 0.5291, Loss: 1.3611\n",
      "Epoch   0 Batch  220/538 - Train Accuracy: 0.4712, Validation Accuracy: 0.5252, Loss: 1.3490\n",
      "Epoch   0 Batch  230/538 - Train Accuracy: 0.4879, Validation Accuracy: 0.5263, Loss: 1.3446\n",
      "Epoch   0 Batch  240/538 - Train Accuracy: 0.5068, Validation Accuracy: 0.5394, Loss: 1.3171\n",
      "Epoch   0 Batch  250/538 - Train Accuracy: 0.5035, Validation Accuracy: 0.5479, Loss: 1.2443\n",
      "Epoch   0 Batch  260/538 - Train Accuracy: 0.5037, Validation Accuracy: 0.5217, Loss: 1.2388\n",
      "Epoch   0 Batch  270/538 - Train Accuracy: 0.4906, Validation Accuracy: 0.5366, Loss: 1.2075\n",
      "Epoch   0 Batch  280/538 - Train Accuracy: 0.5645, Validation Accuracy: 0.5623, Loss: 1.1176\n",
      "Epoch   0 Batch  290/538 - Train Accuracy: 0.5123, Validation Accuracy: 0.5629, Loss: 1.1656\n",
      "Epoch   0 Batch  300/538 - Train Accuracy: 0.5491, Validation Accuracy: 0.5453, Loss: 1.0733\n",
      "Epoch   0 Batch  310/538 - Train Accuracy: 0.5281, Validation Accuracy: 0.5708, Loss: 1.0705\n",
      "Epoch   0 Batch  320/538 - Train Accuracy: 0.5526, Validation Accuracy: 0.5707, Loss: 1.0390\n",
      "Epoch   0 Batch  330/538 - Train Accuracy: 0.5512, Validation Accuracy: 0.5661, Loss: 1.0051\n",
      "Epoch   0 Batch  340/538 - Train Accuracy: 0.5072, Validation Accuracy: 0.5536, Loss: 1.0413\n",
      "Epoch   0 Batch  350/538 - Train Accuracy: 0.5538, Validation Accuracy: 0.5618, Loss: 0.9900\n",
      "Epoch   0 Batch  360/538 - Train Accuracy: 0.5227, Validation Accuracy: 0.5639, Loss: 0.9913\n",
      "Epoch   0 Batch  370/538 - Train Accuracy: 0.5293, Validation Accuracy: 0.5657, Loss: 0.9689\n",
      "Epoch   0 Batch  380/538 - Train Accuracy: 0.5500, Validation Accuracy: 0.5760, Loss: 0.9254\n",
      "Epoch   0 Batch  390/538 - Train Accuracy: 0.5822, Validation Accuracy: 0.5717, Loss: 0.8732\n",
      "Epoch   0 Batch  400/538 - Train Accuracy: 0.5580, Validation Accuracy: 0.5692, Loss: 0.8934\n",
      "Epoch   0 Batch  410/538 - Train Accuracy: 0.5455, Validation Accuracy: 0.5753, Loss: 0.8800\n",
      "Epoch   0 Batch  420/538 - Train Accuracy: 0.5547, Validation Accuracy: 0.5744, Loss: 0.8722\n",
      "Epoch   0 Batch  430/538 - Train Accuracy: 0.5418, Validation Accuracy: 0.5740, Loss: 0.8651\n",
      "Epoch   0 Batch  440/538 - Train Accuracy: 0.5457, Validation Accuracy: 0.5650, Loss: 0.8773\n",
      "Epoch   0 Batch  450/538 - Train Accuracy: 0.5822, Validation Accuracy: 0.5760, Loss: 0.8516\n",
      "Epoch   0 Batch  460/538 - Train Accuracy: 0.5402, Validation Accuracy: 0.5723, Loss: 0.8125\n",
      "Epoch   0 Batch  470/538 - Train Accuracy: 0.6012, Validation Accuracy: 0.5849, Loss: 0.7849\n",
      "Epoch   0 Batch  480/538 - Train Accuracy: 0.5885, Validation Accuracy: 0.5792, Loss: 0.7738\n",
      "Epoch   0 Batch  490/538 - Train Accuracy: 0.5618, Validation Accuracy: 0.5817, Loss: 0.7855\n",
      "Epoch   0 Batch  500/538 - Train Accuracy: 0.6014, Validation Accuracy: 0.5849, Loss: 0.7293\n",
      "Epoch   0 Batch  510/538 - Train Accuracy: 0.5856, Validation Accuracy: 0.5760, Loss: 0.7497\n",
      "Epoch   0 Batch  520/538 - Train Accuracy: 0.5654, Validation Accuracy: 0.5907, Loss: 0.7803\n",
      "Epoch   0 Batch  530/538 - Train Accuracy: 0.5564, Validation Accuracy: 0.5852, Loss: 0.7899\n",
      "Epoch   1 Batch   10/538 - Train Accuracy: 0.5459, Validation Accuracy: 0.5929, Loss: 0.7776\n",
      "Epoch   1 Batch   20/538 - Train Accuracy: 0.5852, Validation Accuracy: 0.6094, Loss: 0.7154\n",
      "Epoch   1 Batch   30/538 - Train Accuracy: 0.5900, Validation Accuracy: 0.6001, Loss: 0.7333\n",
      "Epoch   1 Batch   40/538 - Train Accuracy: 0.6410, Validation Accuracy: 0.5895, Loss: 0.6399\n",
      "Epoch   1 Batch   50/538 - Train Accuracy: 0.5963, Validation Accuracy: 0.5989, Loss: 0.7013\n",
      "Epoch   1 Batch   60/538 - Train Accuracy: 0.6182, Validation Accuracy: 0.6170, Loss: 0.6764\n",
      "Epoch   1 Batch   70/538 - Train Accuracy: 0.6071, Validation Accuracy: 0.6026, Loss: 0.6567\n",
      "Epoch   1 Batch   80/538 - Train Accuracy: 0.5936, Validation Accuracy: 0.6179, Loss: 0.7032\n",
      "Epoch   1 Batch   90/538 - Train Accuracy: 0.6181, Validation Accuracy: 0.6177, Loss: 0.6678\n",
      "Epoch   1 Batch  100/538 - Train Accuracy: 0.6059, Validation Accuracy: 0.6223, Loss: 0.6386\n",
      "Epoch   1 Batch  110/538 - Train Accuracy: 0.6104, Validation Accuracy: 0.6232, Loss: 0.6513\n",
      "Epoch   1 Batch  120/538 - Train Accuracy: 0.6123, Validation Accuracy: 0.6333, Loss: 0.6152\n",
      "Epoch   1 Batch  130/538 - Train Accuracy: 0.6194, Validation Accuracy: 0.6255, Loss: 0.5965\n",
      "Epoch   1 Batch  140/538 - Train Accuracy: 0.5752, Validation Accuracy: 0.6257, Loss: 0.6652\n",
      "Epoch   1 Batch  150/538 - Train Accuracy: 0.6236, Validation Accuracy: 0.6410, Loss: 0.6020\n",
      "Epoch   1 Batch  160/538 - Train Accuracy: 0.6176, Validation Accuracy: 0.6284, Loss: 0.5806\n",
      "Epoch   1 Batch  170/538 - Train Accuracy: 0.6503, Validation Accuracy: 0.6493, Loss: 0.5889\n",
      "Epoch   1 Batch  180/538 - Train Accuracy: 0.6531, Validation Accuracy: 0.6408, Loss: 0.5740\n",
      "Epoch   1 Batch  190/538 - Train Accuracy: 0.6324, Validation Accuracy: 0.6484, Loss: 0.6034\n",
      "Epoch   1 Batch  200/538 - Train Accuracy: 0.6410, Validation Accuracy: 0.6523, Loss: 0.5548\n",
      "Epoch   1 Batch  210/538 - Train Accuracy: 0.6395, Validation Accuracy: 0.6509, Loss: 0.5655\n",
      "Epoch   1 Batch  220/538 - Train Accuracy: 0.6064, Validation Accuracy: 0.6465, Loss: 0.5453\n",
      "Epoch   1 Batch  230/538 - Train Accuracy: 0.6318, Validation Accuracy: 0.6490, Loss: 0.5659\n",
      "Epoch   1 Batch  240/538 - Train Accuracy: 0.6350, Validation Accuracy: 0.6676, Loss: 0.5616\n",
      "Epoch   1 Batch  250/538 - Train Accuracy: 0.6453, Validation Accuracy: 0.6623, Loss: 0.5296\n",
      "Epoch   1 Batch  260/538 - Train Accuracy: 0.6438, Validation Accuracy: 0.6676, Loss: 0.5354\n",
      "Epoch   1 Batch  270/538 - Train Accuracy: 0.6564, Validation Accuracy: 0.6800, Loss: 0.5327\n",
      "Epoch   1 Batch  280/538 - Train Accuracy: 0.6933, Validation Accuracy: 0.6866, Loss: 0.5029\n",
      "Epoch   1 Batch  290/538 - Train Accuracy: 0.6465, Validation Accuracy: 0.6795, Loss: 0.5055\n",
      "Epoch   1 Batch  300/538 - Train Accuracy: 0.6615, Validation Accuracy: 0.6632, Loss: 0.5099\n",
      "Epoch   1 Batch  310/538 - Train Accuracy: 0.6674, Validation Accuracy: 0.6824, Loss: 0.5176\n",
      "Epoch   1 Batch  320/538 - Train Accuracy: 0.6719, Validation Accuracy: 0.6813, Loss: 0.4944\n",
      "Epoch   1 Batch  330/538 - Train Accuracy: 0.6775, Validation Accuracy: 0.6843, Loss: 0.4672\n",
      "Epoch   1 Batch  340/538 - Train Accuracy: 0.6506, Validation Accuracy: 0.6870, Loss: 0.5093\n",
      "Epoch   1 Batch  350/538 - Train Accuracy: 0.6817, Validation Accuracy: 0.6891, Loss: 0.5023\n",
      "Epoch   1 Batch  360/538 - Train Accuracy: 0.6809, Validation Accuracy: 0.6847, Loss: 0.4843\n",
      "Epoch   1 Batch  370/538 - Train Accuracy: 0.6633, Validation Accuracy: 0.6855, Loss: 0.4855\n",
      "Epoch   1 Batch  380/538 - Train Accuracy: 0.6514, Validation Accuracy: 0.7031, Loss: 0.4591\n",
      "Epoch   1 Batch  390/538 - Train Accuracy: 0.7074, Validation Accuracy: 0.6896, Loss: 0.4434\n",
      "Epoch   1 Batch  400/538 - Train Accuracy: 0.6812, Validation Accuracy: 0.6951, Loss: 0.4524\n",
      "Epoch   1 Batch  410/538 - Train Accuracy: 0.6859, Validation Accuracy: 0.7028, Loss: 0.4521\n",
      "Epoch   1 Batch  420/538 - Train Accuracy: 0.6934, Validation Accuracy: 0.7124, Loss: 0.4441\n",
      "Epoch   1 Batch  430/538 - Train Accuracy: 0.7057, Validation Accuracy: 0.7065, Loss: 0.4353\n",
      "Epoch   1 Batch  440/538 - Train Accuracy: 0.6889, Validation Accuracy: 0.7085, Loss: 0.4602\n",
      "Epoch   1 Batch  450/538 - Train Accuracy: 0.7039, Validation Accuracy: 0.7095, Loss: 0.4431\n",
      "Epoch   1 Batch  460/538 - Train Accuracy: 0.6626, Validation Accuracy: 0.6871, Loss: 0.4452\n",
      "Epoch   1 Batch  470/538 - Train Accuracy: 0.7113, Validation Accuracy: 0.7152, Loss: 0.4167\n",
      "Epoch   1 Batch  480/538 - Train Accuracy: 0.7173, Validation Accuracy: 0.7209, Loss: 0.4018\n",
      "Epoch   1 Batch  490/538 - Train Accuracy: 0.7193, Validation Accuracy: 0.7264, Loss: 0.4098\n",
      "Epoch   1 Batch  500/538 - Train Accuracy: 0.7294, Validation Accuracy: 0.7166, Loss: 0.3722\n",
      "Epoch   1 Batch  510/538 - Train Accuracy: 0.7269, Validation Accuracy: 0.7385, Loss: 0.3937\n",
      "Epoch   1 Batch  520/538 - Train Accuracy: 0.7088, Validation Accuracy: 0.7255, Loss: 0.4191\n",
      "Epoch   1 Batch  530/538 - Train Accuracy: 0.7145, Validation Accuracy: 0.7243, Loss: 0.4104\n",
      "Epoch   2 Batch   10/538 - Train Accuracy: 0.6867, Validation Accuracy: 0.7267, Loss: 0.4138\n",
      "Epoch   2 Batch   20/538 - Train Accuracy: 0.7108, Validation Accuracy: 0.7328, Loss: 0.4030\n",
      "Epoch   2 Batch   30/538 - Train Accuracy: 0.6998, Validation Accuracy: 0.7296, Loss: 0.4054\n",
      "Epoch   2 Batch   40/538 - Train Accuracy: 0.7626, Validation Accuracy: 0.7271, Loss: 0.3348\n",
      "Epoch   2 Batch   50/538 - Train Accuracy: 0.7201, Validation Accuracy: 0.7314, Loss: 0.3828\n",
      "Epoch   2 Batch   60/538 - Train Accuracy: 0.7242, Validation Accuracy: 0.7244, Loss: 0.3688\n",
      "Epoch   2 Batch   70/538 - Train Accuracy: 0.7310, Validation Accuracy: 0.7262, Loss: 0.3477\n",
      "Epoch   2 Batch   80/538 - Train Accuracy: 0.7279, Validation Accuracy: 0.7376, Loss: 0.3848\n",
      "Epoch   2 Batch   90/538 - Train Accuracy: 0.7201, Validation Accuracy: 0.7292, Loss: 0.3672\n",
      "Epoch   2 Batch  100/538 - Train Accuracy: 0.7256, Validation Accuracy: 0.7354, Loss: 0.3457\n",
      "Epoch   2 Batch  110/538 - Train Accuracy: 0.7268, Validation Accuracy: 0.7525, Loss: 0.3505\n",
      "Epoch   2 Batch  120/538 - Train Accuracy: 0.7465, Validation Accuracy: 0.7464, Loss: 0.3240\n",
      "Epoch   2 Batch  130/538 - Train Accuracy: 0.7453, Validation Accuracy: 0.7392, Loss: 0.3265\n",
      "Epoch   2 Batch  140/538 - Train Accuracy: 0.7162, Validation Accuracy: 0.7564, Loss: 0.3693\n",
      "Epoch   2 Batch  150/538 - Train Accuracy: 0.7443, Validation Accuracy: 0.7457, Loss: 0.3383\n",
      "Epoch   2 Batch  160/538 - Train Accuracy: 0.7193, Validation Accuracy: 0.7544, Loss: 0.3242\n",
      "Epoch   2 Batch  170/538 - Train Accuracy: 0.7561, Validation Accuracy: 0.7397, Loss: 0.3358\n",
      "Epoch   2 Batch  180/538 - Train Accuracy: 0.7485, Validation Accuracy: 0.7456, Loss: 0.3180\n",
      "Epoch   2 Batch  190/538 - Train Accuracy: 0.7520, Validation Accuracy: 0.7623, Loss: 0.3451\n",
      "Epoch   2 Batch  200/538 - Train Accuracy: 0.7484, Validation Accuracy: 0.7638, Loss: 0.3116\n",
      "Epoch   2 Batch  210/538 - Train Accuracy: 0.7245, Validation Accuracy: 0.7635, Loss: 0.3178\n",
      "Epoch   2 Batch  220/538 - Train Accuracy: 0.7385, Validation Accuracy: 0.7672, Loss: 0.2964\n",
      "Epoch   2 Batch  230/538 - Train Accuracy: 0.7367, Validation Accuracy: 0.7649, Loss: 0.3091\n",
      "Epoch   2 Batch  240/538 - Train Accuracy: 0.7561, Validation Accuracy: 0.7733, Loss: 0.2960\n",
      "Epoch   2 Batch  250/538 - Train Accuracy: 0.7777, Validation Accuracy: 0.7706, Loss: 0.2982\n",
      "Epoch   2 Batch  260/538 - Train Accuracy: 0.7362, Validation Accuracy: 0.7713, Loss: 0.2981\n",
      "Epoch   2 Batch  270/538 - Train Accuracy: 0.7832, Validation Accuracy: 0.7738, Loss: 0.2788\n",
      "Epoch   2 Batch  280/538 - Train Accuracy: 0.8077, Validation Accuracy: 0.7626, Loss: 0.2746\n",
      "Epoch   2 Batch  290/538 - Train Accuracy: 0.7791, Validation Accuracy: 0.7828, Loss: 0.2575\n",
      "Epoch   2 Batch  300/538 - Train Accuracy: 0.8216, Validation Accuracy: 0.8070, Loss: 0.2600\n",
      "Epoch   2 Batch  310/538 - Train Accuracy: 0.8605, Validation Accuracy: 0.8278, Loss: 0.2667\n",
      "Epoch   2 Batch  320/538 - Train Accuracy: 0.7989, Validation Accuracy: 0.8464, Loss: 0.2550\n",
      "Epoch   2 Batch  330/538 - Train Accuracy: 0.8510, Validation Accuracy: 0.8187, Loss: 0.2356\n",
      "Epoch   2 Batch  340/538 - Train Accuracy: 0.8049, Validation Accuracy: 0.8230, Loss: 0.2547\n",
      "Epoch   2 Batch  350/538 - Train Accuracy: 0.8194, Validation Accuracy: 0.8058, Loss: 0.2459\n",
      "Epoch   2 Batch  360/538 - Train Accuracy: 0.8250, Validation Accuracy: 0.8253, Loss: 0.2405\n",
      "Epoch   2 Batch  370/538 - Train Accuracy: 0.8166, Validation Accuracy: 0.8058, Loss: 0.2469\n",
      "Epoch   2 Batch  380/538 - Train Accuracy: 0.8428, Validation Accuracy: 0.8217, Loss: 0.2298\n",
      "Epoch   2 Batch  390/538 - Train Accuracy: 0.8523, Validation Accuracy: 0.8045, Loss: 0.2157\n",
      "Epoch   2 Batch  400/538 - Train Accuracy: 0.8542, Validation Accuracy: 0.8352, Loss: 0.2396\n",
      "Epoch   2 Batch  410/538 - Train Accuracy: 0.8479, Validation Accuracy: 0.8329, Loss: 0.2252\n",
      "Epoch   2 Batch  420/538 - Train Accuracy: 0.8643, Validation Accuracy: 0.8214, Loss: 0.2133\n",
      "Epoch   2 Batch  430/538 - Train Accuracy: 0.8549, Validation Accuracy: 0.8459, Loss: 0.2023\n",
      "Epoch   2 Batch  440/538 - Train Accuracy: 0.8406, Validation Accuracy: 0.8248, Loss: 0.2400\n",
      "Epoch   2 Batch  450/538 - Train Accuracy: 0.8398, Validation Accuracy: 0.8443, Loss: 0.2266\n",
      "Epoch   2 Batch  460/538 - Train Accuracy: 0.8304, Validation Accuracy: 0.8482, Loss: 0.2084\n",
      "Epoch   2 Batch  470/538 - Train Accuracy: 0.8525, Validation Accuracy: 0.8466, Loss: 0.1934\n",
      "Epoch   2 Batch  480/538 - Train Accuracy: 0.8705, Validation Accuracy: 0.8434, Loss: 0.1893\n",
      "Epoch   2 Batch  490/538 - Train Accuracy: 0.8776, Validation Accuracy: 0.8615, Loss: 0.1957\n",
      "Epoch   2 Batch  500/538 - Train Accuracy: 0.8972, Validation Accuracy: 0.8659, Loss: 0.1613\n",
      "Epoch   2 Batch  510/538 - Train Accuracy: 0.8722, Validation Accuracy: 0.8732, Loss: 0.1749\n",
      "Epoch   2 Batch  520/538 - Train Accuracy: 0.8490, Validation Accuracy: 0.8691, Loss: 0.1731\n",
      "Epoch   2 Batch  530/538 - Train Accuracy: 0.8506, Validation Accuracy: 0.8736, Loss: 0.1880\n",
      "Epoch   3 Batch   10/538 - Train Accuracy: 0.8645, Validation Accuracy: 0.8526, Loss: 0.1814\n",
      "Epoch   3 Batch   20/538 - Train Accuracy: 0.8722, Validation Accuracy: 0.8707, Loss: 0.1634\n",
      "Epoch   3 Batch   30/538 - Train Accuracy: 0.8664, Validation Accuracy: 0.8572, Loss: 0.1803\n",
      "Epoch   3 Batch   40/538 - Train Accuracy: 0.8984, Validation Accuracy: 0.8716, Loss: 0.1343\n",
      "Epoch   3 Batch   50/538 - Train Accuracy: 0.8787, Validation Accuracy: 0.8757, Loss: 0.1440\n",
      "Epoch   3 Batch   60/538 - Train Accuracy: 0.8900, Validation Accuracy: 0.8803, Loss: 0.1459\n",
      "Epoch   3 Batch   70/538 - Train Accuracy: 0.8845, Validation Accuracy: 0.8477, Loss: 0.1433\n",
      "Epoch   3 Batch   80/538 - Train Accuracy: 0.9018, Validation Accuracy: 0.8704, Loss: 0.1522\n",
      "Epoch   3 Batch   90/538 - Train Accuracy: 0.8869, Validation Accuracy: 0.8821, Loss: 0.1490\n",
      "Epoch   3 Batch  100/538 - Train Accuracy: 0.8945, Validation Accuracy: 0.8754, Loss: 0.1308\n",
      "Epoch   3 Batch  110/538 - Train Accuracy: 0.8625, Validation Accuracy: 0.8746, Loss: 0.1398\n",
      "Epoch   3 Batch  120/538 - Train Accuracy: 0.8912, Validation Accuracy: 0.8871, Loss: 0.1156\n",
      "Epoch   3 Batch  130/538 - Train Accuracy: 0.9055, Validation Accuracy: 0.8839, Loss: 0.1343\n",
      "Epoch   3 Batch  140/538 - Train Accuracy: 0.9100, Validation Accuracy: 0.8704, Loss: 0.1626\n",
      "Epoch   3 Batch  150/538 - Train Accuracy: 0.8791, Validation Accuracy: 0.8723, Loss: 0.1213\n",
      "Epoch   3 Batch  160/538 - Train Accuracy: 0.8612, Validation Accuracy: 0.8738, Loss: 0.1240\n",
      "Epoch   3 Batch  170/538 - Train Accuracy: 0.8867, Validation Accuracy: 0.8791, Loss: 0.1342\n",
      "Epoch   3 Batch  180/538 - Train Accuracy: 0.8873, Validation Accuracy: 0.8723, Loss: 0.1210\n",
      "Epoch   3 Batch  190/538 - Train Accuracy: 0.8804, Validation Accuracy: 0.8812, Loss: 0.1531\n",
      "Epoch   3 Batch  200/538 - Train Accuracy: 0.8900, Validation Accuracy: 0.8720, Loss: 0.1160\n",
      "Epoch   3 Batch  210/538 - Train Accuracy: 0.8609, Validation Accuracy: 0.9011, Loss: 0.1270\n",
      "Epoch   3 Batch  220/538 - Train Accuracy: 0.8681, Validation Accuracy: 0.8668, Loss: 0.1156\n",
      "Epoch   3 Batch  230/538 - Train Accuracy: 0.8744, Validation Accuracy: 0.8738, Loss: 0.1230\n",
      "Epoch   3 Batch  240/538 - Train Accuracy: 0.8859, Validation Accuracy: 0.8858, Loss: 0.1333\n",
      "Epoch   3 Batch  250/538 - Train Accuracy: 0.9023, Validation Accuracy: 0.8770, Loss: 0.1076\n",
      "Epoch   3 Batch  260/538 - Train Accuracy: 0.8577, Validation Accuracy: 0.8896, Loss: 0.1235\n",
      "Epoch   3 Batch  270/538 - Train Accuracy: 0.8977, Validation Accuracy: 0.8727, Loss: 0.1130\n",
      "Epoch   3 Batch  280/538 - Train Accuracy: 0.9262, Validation Accuracy: 0.8789, Loss: 0.1100\n",
      "Epoch   3 Batch  290/538 - Train Accuracy: 0.9129, Validation Accuracy: 0.8786, Loss: 0.0978\n",
      "Epoch   3 Batch  300/538 - Train Accuracy: 0.8890, Validation Accuracy: 0.8915, Loss: 0.1084\n",
      "Epoch   3 Batch  310/538 - Train Accuracy: 0.9240, Validation Accuracy: 0.8759, Loss: 0.1175\n",
      "Epoch   3 Batch  320/538 - Train Accuracy: 0.9048, Validation Accuracy: 0.8917, Loss: 0.1118\n",
      "Epoch   3 Batch  330/538 - Train Accuracy: 0.9234, Validation Accuracy: 0.8897, Loss: 0.0998\n",
      "Epoch   3 Batch  340/538 - Train Accuracy: 0.8959, Validation Accuracy: 0.8888, Loss: 0.0972\n",
      "Epoch   3 Batch  350/538 - Train Accuracy: 0.9165, Validation Accuracy: 0.9018, Loss: 0.1061\n",
      "Epoch   3 Batch  360/538 - Train Accuracy: 0.8865, Validation Accuracy: 0.8885, Loss: 0.1046\n",
      "Epoch   3 Batch  370/538 - Train Accuracy: 0.9045, Validation Accuracy: 0.8821, Loss: 0.1117\n",
      "Epoch   3 Batch  380/538 - Train Accuracy: 0.8941, Validation Accuracy: 0.8926, Loss: 0.0931\n",
      "Epoch   3 Batch  390/538 - Train Accuracy: 0.9241, Validation Accuracy: 0.8924, Loss: 0.0878\n",
      "Epoch   3 Batch  400/538 - Train Accuracy: 0.9072, Validation Accuracy: 0.9100, Loss: 0.1006\n",
      "Epoch   3 Batch  410/538 - Train Accuracy: 0.8979, Validation Accuracy: 0.8849, Loss: 0.0960\n",
      "Epoch   3 Batch  420/538 - Train Accuracy: 0.9229, Validation Accuracy: 0.9009, Loss: 0.0956\n",
      "Epoch   3 Batch  430/538 - Train Accuracy: 0.9043, Validation Accuracy: 0.9007, Loss: 0.0886\n",
      "Epoch   3 Batch  440/538 - Train Accuracy: 0.8918, Validation Accuracy: 0.9000, Loss: 0.1210\n",
      "Epoch   3 Batch  450/538 - Train Accuracy: 0.8914, Validation Accuracy: 0.8963, Loss: 0.1168\n",
      "Epoch   3 Batch  460/538 - Train Accuracy: 0.8863, Validation Accuracy: 0.8919, Loss: 0.1092\n",
      "Epoch   3 Batch  470/538 - Train Accuracy: 0.9061, Validation Accuracy: 0.8984, Loss: 0.0905\n",
      "Epoch   3 Batch  480/538 - Train Accuracy: 0.9295, Validation Accuracy: 0.9025, Loss: 0.0912\n",
      "Epoch   3 Batch  490/538 - Train Accuracy: 0.9157, Validation Accuracy: 0.9022, Loss: 0.0841\n",
      "Epoch   3 Batch  500/538 - Train Accuracy: 0.9256, Validation Accuracy: 0.8993, Loss: 0.0720\n",
      "Epoch   3 Batch  510/538 - Train Accuracy: 0.9235, Validation Accuracy: 0.8983, Loss: 0.0831\n",
      "Epoch   3 Batch  520/538 - Train Accuracy: 0.9129, Validation Accuracy: 0.9071, Loss: 0.0882\n",
      "Epoch   3 Batch  530/538 - Train Accuracy: 0.8885, Validation Accuracy: 0.8933, Loss: 0.0971\n",
      "Epoch   4 Batch   10/538 - Train Accuracy: 0.9293, Validation Accuracy: 0.8988, Loss: 0.0902\n",
      "Epoch   4 Batch   20/538 - Train Accuracy: 0.9222, Validation Accuracy: 0.8952, Loss: 0.0920\n",
      "Epoch   4 Batch   30/538 - Train Accuracy: 0.9082, Validation Accuracy: 0.8977, Loss: 0.1035\n",
      "Epoch   4 Batch   40/538 - Train Accuracy: 0.9292, Validation Accuracy: 0.9110, Loss: 0.0711\n",
      "Epoch   4 Batch   50/538 - Train Accuracy: 0.9111, Validation Accuracy: 0.9059, Loss: 0.0810\n",
      "Epoch   4 Batch   60/538 - Train Accuracy: 0.9217, Validation Accuracy: 0.8931, Loss: 0.0843\n",
      "Epoch   4 Batch   70/538 - Train Accuracy: 0.9209, Validation Accuracy: 0.8787, Loss: 0.0851\n",
      "Epoch   4 Batch   80/538 - Train Accuracy: 0.9221, Validation Accuracy: 0.8983, Loss: 0.0882\n",
      "Epoch   4 Batch   90/538 - Train Accuracy: 0.9163, Validation Accuracy: 0.8874, Loss: 0.0896\n",
      "Epoch   4 Batch  100/538 - Train Accuracy: 0.9289, Validation Accuracy: 0.9070, Loss: 0.0746\n",
      "Epoch   4 Batch  110/538 - Train Accuracy: 0.9072, Validation Accuracy: 0.9132, Loss: 0.0844\n",
      "Epoch   4 Batch  120/538 - Train Accuracy: 0.9291, Validation Accuracy: 0.8885, Loss: 0.0657\n",
      "Epoch   4 Batch  130/538 - Train Accuracy: 0.9276, Validation Accuracy: 0.9116, Loss: 0.0772\n",
      "Epoch   4 Batch  140/538 - Train Accuracy: 0.9021, Validation Accuracy: 0.8990, Loss: 0.1075\n",
      "Epoch   4 Batch  150/538 - Train Accuracy: 0.8998, Validation Accuracy: 0.8997, Loss: 0.0853\n",
      "Epoch   4 Batch  160/538 - Train Accuracy: 0.8901, Validation Accuracy: 0.8853, Loss: 0.0819\n",
      "Epoch   4 Batch  170/538 - Train Accuracy: 0.9076, Validation Accuracy: 0.8691, Loss: 0.0990\n",
      "Epoch   4 Batch  180/538 - Train Accuracy: 0.9044, Validation Accuracy: 0.8828, Loss: 0.0969\n",
      "Epoch   4 Batch  190/538 - Train Accuracy: 0.8910, Validation Accuracy: 0.8892, Loss: 0.1090\n",
      "Epoch   4 Batch  200/538 - Train Accuracy: 0.9121, Validation Accuracy: 0.8975, Loss: 0.0667\n",
      "Epoch   4 Batch  210/538 - Train Accuracy: 0.8936, Validation Accuracy: 0.9126, Loss: 0.0857\n",
      "Epoch   4 Batch  220/538 - Train Accuracy: 0.8990, Validation Accuracy: 0.8979, Loss: 0.0770\n",
      "Epoch   4 Batch  230/538 - Train Accuracy: 0.9029, Validation Accuracy: 0.9084, Loss: 0.0794\n",
      "Epoch   4 Batch  240/538 - Train Accuracy: 0.9277, Validation Accuracy: 0.9018, Loss: 0.0766\n",
      "Epoch   4 Batch  250/538 - Train Accuracy: 0.9354, Validation Accuracy: 0.9047, Loss: 0.0700\n",
      "Epoch   4 Batch  260/538 - Train Accuracy: 0.8927, Validation Accuracy: 0.8919, Loss: 0.0821\n",
      "Epoch   4 Batch  270/538 - Train Accuracy: 0.9275, Validation Accuracy: 0.9025, Loss: 0.0651\n",
      "Epoch   4 Batch  280/538 - Train Accuracy: 0.9280, Validation Accuracy: 0.9045, Loss: 0.0672\n",
      "Epoch   4 Batch  290/538 - Train Accuracy: 0.9447, Validation Accuracy: 0.9169, Loss: 0.0617\n",
      "Epoch   4 Batch  300/538 - Train Accuracy: 0.9107, Validation Accuracy: 0.9105, Loss: 0.0769\n",
      "Epoch   4 Batch  310/538 - Train Accuracy: 0.9355, Validation Accuracy: 0.9192, Loss: 0.0759\n",
      "Epoch   4 Batch  320/538 - Train Accuracy: 0.9105, Validation Accuracy: 0.9162, Loss: 0.0635\n",
      "Epoch   4 Batch  330/538 - Train Accuracy: 0.9390, Validation Accuracy: 0.9023, Loss: 0.0653\n",
      "Epoch   4 Batch  340/538 - Train Accuracy: 0.9131, Validation Accuracy: 0.9141, Loss: 0.0722\n",
      "Epoch   4 Batch  350/538 - Train Accuracy: 0.9343, Validation Accuracy: 0.9078, Loss: 0.0710\n",
      "Epoch   4 Batch  360/538 - Train Accuracy: 0.9143, Validation Accuracy: 0.9130, Loss: 0.0687\n",
      "Epoch   4 Batch  370/538 - Train Accuracy: 0.9275, Validation Accuracy: 0.9066, Loss: 0.0646\n",
      "Epoch   4 Batch  380/538 - Train Accuracy: 0.9250, Validation Accuracy: 0.9071, Loss: 0.0631\n",
      "Epoch   4 Batch  390/538 - Train Accuracy: 0.9353, Validation Accuracy: 0.9192, Loss: 0.0593\n",
      "Epoch   4 Batch  400/538 - Train Accuracy: 0.9315, Validation Accuracy: 0.9185, Loss: 0.0711\n",
      "Epoch   4 Batch  410/538 - Train Accuracy: 0.9213, Validation Accuracy: 0.9148, Loss: 0.0666\n",
      "Epoch   4 Batch  420/538 - Train Accuracy: 0.9545, Validation Accuracy: 0.9178, Loss: 0.0609\n",
      "Epoch   4 Batch  430/538 - Train Accuracy: 0.9412, Validation Accuracy: 0.9181, Loss: 0.0590\n",
      "Epoch   4 Batch  440/538 - Train Accuracy: 0.9148, Validation Accuracy: 0.9068, Loss: 0.0705\n",
      "Epoch   4 Batch  450/538 - Train Accuracy: 0.9170, Validation Accuracy: 0.9087, Loss: 0.0774\n",
      "Epoch   4 Batch  460/538 - Train Accuracy: 0.9044, Validation Accuracy: 0.9137, Loss: 0.0754\n",
      "Epoch   4 Batch  470/538 - Train Accuracy: 0.9228, Validation Accuracy: 0.9139, Loss: 0.0662\n",
      "Epoch   4 Batch  480/538 - Train Accuracy: 0.9461, Validation Accuracy: 0.9224, Loss: 0.0597\n",
      "Epoch   4 Batch  490/538 - Train Accuracy: 0.9338, Validation Accuracy: 0.9228, Loss: 0.0661\n",
      "Epoch   4 Batch  500/538 - Train Accuracy: 0.9418, Validation Accuracy: 0.9194, Loss: 0.0490\n",
      "Epoch   4 Batch  510/538 - Train Accuracy: 0.9390, Validation Accuracy: 0.9135, Loss: 0.0593\n",
      "Epoch   4 Batch  520/538 - Train Accuracy: 0.9289, Validation Accuracy: 0.9043, Loss: 0.0634\n",
      "Epoch   4 Batch  530/538 - Train Accuracy: 0.9096, Validation Accuracy: 0.9158, Loss: 0.0737\n",
      "Model Trained and Saved\n"
     ]
    }
   ],
   "source": [
    "\"\"\"\n",
    "DON'T MODIFY ANYTHING IN THIS CELL\n",
    "\"\"\"\n",
    "def get_accuracy(target, logits):\n",
    "    \"\"\"\n",
    "    Calculate accuracy\n",
    "    \"\"\"\n",
    "    max_seq = max(target.shape[1], logits.shape[1])\n",
    "    if max_seq - target.shape[1]:\n",
    "        target = np.pad(\n",
    "            target,\n",
    "            [(0,0),(0,max_seq - target.shape[1])],\n",
    "            'constant')\n",
    "    if max_seq - logits.shape[1]:\n",
    "        logits = np.pad(\n",
    "            logits,\n",
    "            [(0,0),(0,max_seq - logits.shape[1])],\n",
    "            'constant')\n",
    "\n",
    "    return np.mean(np.equal(target, logits))\n",
    "\n",
    "# Split data to training and validation sets\n",
    "train_source = source_int_text[batch_size:]\n",
    "train_target = target_int_text[batch_size:]\n",
    "valid_source = source_int_text[:batch_size]\n",
    "valid_target = target_int_text[:batch_size]\n",
    "(valid_sources_batch, valid_targets_batch, valid_sources_lengths, valid_targets_lengths ) = next(get_batches(valid_source,\n",
    "                                                                                                             valid_target,\n",
    "                                                                                                             batch_size,\n",
    "                                                                                                             source_vocab_to_int['<PAD>'],\n",
    "                                                                                                             target_vocab_to_int['<PAD>']))                                                                                                  \n",
    "with tf.Session(graph=train_graph) as sess:\n",
    "    sess.run(tf.global_variables_initializer())\n",
    "\n",
    "    for epoch_i in range(epochs):\n",
    "        for batch_i, (source_batch, target_batch, sources_lengths, targets_lengths) in enumerate(\n",
    "                get_batches(train_source, train_target, batch_size,\n",
    "                            source_vocab_to_int['<PAD>'],\n",
    "                            target_vocab_to_int['<PAD>'])):\n",
    "\n",
    "            _, loss = sess.run(\n",
    "                [train_op, cost],\n",
    "                {input_data: source_batch,\n",
    "                 targets: target_batch,\n",
    "                 lr: learning_rate,\n",
    "                 target_sequence_length: targets_lengths,\n",
    "                 source_sequence_length: sources_lengths,\n",
    "                 keep_prob: keep_probability})\n",
    "\n",
    "\n",
    "            if batch_i % display_step == 0 and batch_i > 0:\n",
    "\n",
    "\n",
    "                batch_train_logits = sess.run(\n",
    "                    inference_logits,\n",
    "                    {input_data: source_batch,\n",
    "                     source_sequence_length: sources_lengths,\n",
    "                     target_sequence_length: targets_lengths,\n",
    "                     keep_prob: 1.0})\n",
    "\n",
    "\n",
    "                batch_valid_logits = sess.run(\n",
    "                    inference_logits,\n",
    "                    {input_data: valid_sources_batch,\n",
    "                     source_sequence_length: valid_sources_lengths,\n",
    "                     target_sequence_length: valid_targets_lengths,\n",
    "                     keep_prob: 1.0})\n",
    "\n",
    "                train_acc = get_accuracy(target_batch, batch_train_logits)\n",
    "\n",
    "                valid_acc = get_accuracy(valid_targets_batch, batch_valid_logits)\n",
    "\n",
    "                print('Epoch {:>3} Batch {:>4}/{} - Train Accuracy: {:>6.4f}, Validation Accuracy: {:>6.4f}, Loss: {:>6.4f}'\n",
    "                      .format(epoch_i, batch_i, len(source_int_text) // batch_size, train_acc, valid_acc, loss))\n",
    "\n",
    "    # Save Model\n",
    "    saver = tf.train.Saver()\n",
    "    saver.save(sess, save_path)\n",
    "    print('Model Trained and Saved')"
   ]
  },
  {
   "cell_type": "markdown",
   "metadata": {
    "deletable": true,
    "editable": true
   },
   "source": [
    "### Save Parameters\n",
    "Save the `batch_size` and `save_path` parameters for inference."
   ]
  },
  {
   "cell_type": "code",
   "execution_count": 31,
   "metadata": {
    "collapsed": true,
    "deletable": true,
    "editable": true
   },
   "outputs": [],
   "source": [
    "\"\"\"\n",
    "DON'T MODIFY ANYTHING IN THIS CELL\n",
    "\"\"\"\n",
    "# Save parameters for checkpoint\n",
    "helper.save_params(save_path)"
   ]
  },
  {
   "cell_type": "markdown",
   "metadata": {
    "deletable": true,
    "editable": true
   },
   "source": [
    "# Checkpoint"
   ]
  },
  {
   "cell_type": "code",
   "execution_count": 32,
   "metadata": {
    "collapsed": true,
    "deletable": true,
    "editable": true
   },
   "outputs": [],
   "source": [
    "\"\"\"\n",
    "DON'T MODIFY ANYTHING IN THIS CELL\n",
    "\"\"\"\n",
    "import tensorflow as tf\n",
    "import numpy as np\n",
    "import helper\n",
    "import problem_unittests as tests\n",
    "\n",
    "_, (source_vocab_to_int, target_vocab_to_int), (source_int_to_vocab, target_int_to_vocab) = helper.load_preprocess()\n",
    "load_path = helper.load_params()"
   ]
  },
  {
   "cell_type": "markdown",
   "metadata": {
    "deletable": true,
    "editable": true
   },
   "source": [
    "## Sentence to Sequence\n",
    "To feed a sentence into the model for translation, you first need to preprocess it.  Implement the function `sentence_to_seq()` to preprocess new sentences.\n",
    "\n",
    "- Convert the sentence to lowercase\n",
    "- Convert words into ids using `vocab_to_int`\n",
    " - Convert words not in the vocabulary, to the `<UNK>` word id."
   ]
  },
  {
   "cell_type": "code",
   "execution_count": 33,
   "metadata": {
    "collapsed": false,
    "deletable": true,
    "editable": true
   },
   "outputs": [
    {
     "name": "stdout",
     "output_type": "stream",
     "text": [
      "Tests Passed\n"
     ]
    }
   ],
   "source": [
    "def sentence_to_seq(sentence, vocab_to_int):\n",
    "    \"\"\"\n",
    "    Convert a sentence to a sequence of ids\n",
    "    :param sentence: String\n",
    "    :param vocab_to_int: Dictionary to go from the words to an id\n",
    "    :return: List of word ids\n",
    "    \"\"\"\n",
    "    sentence = sentence.lower()\n",
    "    return [vocab_to_int.get(w, vocab_to_int['<UNK>']) for w in sentence.split()]\n",
    "\n",
    "\n",
    "\"\"\"\n",
    "DON'T MODIFY ANYTHING IN THIS CELL THAT IS BELOW THIS LINE\n",
    "\"\"\"\n",
    "tests.test_sentence_to_seq(sentence_to_seq)"
   ]
  },
  {
   "cell_type": "markdown",
   "metadata": {
    "deletable": true,
    "editable": true
   },
   "source": [
    "## Translate\n",
    "This will translate `translate_sentence` from English to French."
   ]
  },
  {
   "cell_type": "code",
   "execution_count": 35,
   "metadata": {
    "collapsed": false,
    "deletable": true,
    "editable": true
   },
   "outputs": [
    {
     "name": "stdout",
     "output_type": "stream",
     "text": [
      "INFO:tensorflow:Restoring parameters from checkpoints/dev\n",
      "Input\n",
      "  Word Ids:      [122, 153, 178, 200, 34, 56, 175, 11]\n",
      "  English Words: ['the', 'united', 'states', 'is', 'sometimes', 'mild', 'during', 'june']\n",
      "\n",
      "Prediction\n",
      "  Word Ids:      [35, 332, 293, 37, 89, 336, 17, 174, 38, 201, 282, 146, 252, 140, 328, 1]\n",
      "  French Words: les états-unis parfois doux au mois de novembre , et il pleut en été . <EOS>\n"
     ]
    }
   ],
   "source": [
    "translate_sentence = 'the united states is sometimes mild during june'\n",
    "\n",
    "\n",
    "\"\"\"\n",
    "DON'T MODIFY ANYTHING IN THIS CELL\n",
    "\"\"\"\n",
    "translate_sentence = sentence_to_seq(translate_sentence, source_vocab_to_int)\n",
    "\n",
    "loaded_graph = tf.Graph()\n",
    "with tf.Session(graph=loaded_graph) as sess:\n",
    "    # Load saved model\n",
    "    loader = tf.train.import_meta_graph(load_path + '.meta')\n",
    "    loader.restore(sess, load_path)\n",
    "\n",
    "    input_data = loaded_graph.get_tensor_by_name('input:0')\n",
    "    logits = loaded_graph.get_tensor_by_name('predictions:0')\n",
    "    target_sequence_length = loaded_graph.get_tensor_by_name('target_sequence_length:0')\n",
    "    source_sequence_length = loaded_graph.get_tensor_by_name('source_sequence_length:0')\n",
    "    keep_prob = loaded_graph.get_tensor_by_name('keep_prob:0')\n",
    "\n",
    "    translate_logits = sess.run(logits, {input_data: [translate_sentence]*batch_size,\n",
    "                                         target_sequence_length: [len(translate_sentence)*2]*batch_size,\n",
    "                                         source_sequence_length: [len(translate_sentence)]*batch_size,\n",
    "                                         keep_prob: 1.0})[0]\n",
    "\n",
    "print('Input')\n",
    "print('  Word Ids:      {}'.format([i for i in translate_sentence]))\n",
    "print('  English Words: {}'.format([source_int_to_vocab[i] for i in translate_sentence]))\n",
    "\n",
    "print('\\nPrediction')\n",
    "print('  Word Ids:      {}'.format([i for i in translate_logits]))\n",
    "print('  French Words: {}'.format(\" \".join([target_int_to_vocab[i] for i in translate_logits])))\n"
   ]
  },
  {
   "cell_type": "markdown",
   "metadata": {
    "deletable": true,
    "editable": true
   },
   "source": [
    "## Imperfect Translation\n",
    "You might notice that some sentences translate better than others.  Since the dataset you're using only has a vocabulary of 227 English words of the thousands that you use, you're only going to see good results using these words.  For this project, you don't need a perfect translation. However, if you want to create a better translation model, you'll need better data.\n",
    "\n",
    "You can train on the [WMT10 French-English corpus](http://www.statmt.org/wmt10/training-giga-fren.tar).  This dataset has more vocabulary and richer in topics discussed.  However, this will take you days to train, so make sure you've a GPU and the neural network is performing well on dataset we provided.  Just make sure you play with the WMT10 corpus after you've submitted this project.\n",
    "## Submitting This Project\n",
    "When submitting this project, make sure to run all the cells before saving the notebook. Save the notebook file as \"dlnd_language_translation.ipynb\" and save it as a HTML file under \"File\" -> \"Download as\". Include the \"helper.py\" and \"problem_unittests.py\" files in your submission."
   ]
  }
 ],
 "metadata": {
  "anaconda-cloud": {},
  "kernelspec": {
   "display_name": "Python 3",
   "language": "python",
   "name": "python3"
  },
  "language_info": {
   "codemirror_mode": {
    "name": "ipython",
    "version": 3
   },
   "file_extension": ".py",
   "mimetype": "text/x-python",
   "name": "python",
   "nbconvert_exporter": "python",
   "pygments_lexer": "ipython3",
   "version": "3.5.2"
  },
  "widgets": {
   "state": {},
   "version": "1.1.2"
  }
 },
 "nbformat": 4,
 "nbformat_minor": 1
}
