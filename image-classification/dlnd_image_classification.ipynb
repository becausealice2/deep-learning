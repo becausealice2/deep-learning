{
 "cells": [
  {
   "cell_type": "markdown",
   "metadata": {
    "collapsed": true,
    "deletable": true,
    "editable": true
   },
   "source": [
    "# Image Classification\n",
    "In this project, you'll classify images from the [CIFAR-10 dataset](https://www.cs.toronto.edu/~kriz/cifar.html).  The dataset consists of airplanes, dogs, cats, and other objects. You'll preprocess the images, then train a convolutional neural network on all the samples. The images need to be normalized and the labels need to be one-hot encoded.  You'll get to apply what you learned and build a convolutional, max pooling, dropout, and fully connected layers.  At the end, you'll get to see your neural network's predictions on the sample images.\n",
    "## Get the Data\n",
    "Run the following cell to download the [CIFAR-10 dataset for python](https://www.cs.toronto.edu/~kriz/cifar-10-python.tar.gz)."
   ]
  },
  {
   "cell_type": "code",
   "execution_count": 1,
   "metadata": {
    "collapsed": false,
    "deletable": true,
    "editable": true
   },
   "outputs": [
    {
     "name": "stderr",
     "output_type": "stream",
     "text": [
      "CIFAR-10 Dataset: 171MB [00:24, 6.23MB/s]                              \n"
     ]
    },
    {
     "name": "stdout",
     "output_type": "stream",
     "text": [
      "All files found!\n"
     ]
    }
   ],
   "source": [
    "\"\"\"\n",
    "DON'T MODIFY ANYTHING IN THIS CELL THAT IS BELOW THIS LINE\n",
    "\"\"\"\n",
    "from urllib.request import urlretrieve\n",
    "from os.path import isfile, isdir\n",
    "from tqdm import tqdm\n",
    "import problem_unittests as tests\n",
    "import tarfile\n",
    "\n",
    "cifar10_dataset_folder_path = 'cifar-10-batches-py'\n",
    "\n",
    "# Use Floyd's cifar-10 dataset if present\n",
    "floyd_cifar10_location = '/input/cifar-10/python.tar.gz'\n",
    "if isfile(floyd_cifar10_location):\n",
    "    tar_gz_path = floyd_cifar10_location\n",
    "else:\n",
    "    tar_gz_path = 'cifar-10-python.tar.gz'\n",
    "\n",
    "class DLProgress(tqdm):\n",
    "    last_block = 0\n",
    "\n",
    "    def hook(self, block_num=1, block_size=1, total_size=None):\n",
    "        self.total = total_size\n",
    "        self.update((block_num - self.last_block) * block_size)\n",
    "        self.last_block = block_num\n",
    "\n",
    "if not isfile(tar_gz_path):\n",
    "    with DLProgress(unit='B', unit_scale=True, miniters=1, desc='CIFAR-10 Dataset') as pbar:\n",
    "        urlretrieve(\n",
    "            'https://www.cs.toronto.edu/~kriz/cifar-10-python.tar.gz',\n",
    "            tar_gz_path,\n",
    "            pbar.hook)\n",
    "\n",
    "if not isdir(cifar10_dataset_folder_path):\n",
    "    with tarfile.open(tar_gz_path) as tar:\n",
    "        tar.extractall()\n",
    "        tar.close()\n",
    "\n",
    "\n",
    "tests.test_folder_path(cifar10_dataset_folder_path)"
   ]
  },
  {
   "cell_type": "markdown",
   "metadata": {
    "deletable": true,
    "editable": true
   },
   "source": [
    "## Explore the Data\n",
    "The dataset is broken into batches to prevent your machine from running out of memory.  The CIFAR-10 dataset consists of 5 batches, named `data_batch_1`, `data_batch_2`, etc.. Each batch contains the labels and images that are one of the following:\n",
    "* airplane\n",
    "* automobile\n",
    "* bird\n",
    "* cat\n",
    "* deer\n",
    "* dog\n",
    "* frog\n",
    "* horse\n",
    "* ship\n",
    "* truck\n",
    "\n",
    "Understanding a dataset is part of making predictions on the data.  Play around with the code cell below by changing the `batch_id` and `sample_id`. The `batch_id` is the id for a batch (1-5). The `sample_id` is the id for a image and label pair in the batch.\n",
    "\n",
    "Ask yourself \"What are all possible labels?\", \"What is the range of values for the image data?\", \"Are the labels in order or random?\".  Answers to questions like these will help you preprocess the data and end up with better predictions."
   ]
  },
  {
   "cell_type": "code",
   "execution_count": 2,
   "metadata": {
    "collapsed": false,
    "deletable": true,
    "editable": true
   },
   "outputs": [
    {
     "name": "stdout",
     "output_type": "stream",
     "text": [
      "\n",
      "Stats of batch 3:\n",
      "Samples: 10000\n",
      "Label Counts: {0: 994, 1: 1042, 2: 965, 3: 997, 4: 990, 5: 1029, 6: 978, 7: 1015, 8: 961, 9: 1029}\n",
      "First 20 Labels: [8, 5, 0, 6, 9, 2, 8, 3, 6, 2, 7, 4, 6, 9, 0, 0, 7, 3, 7, 2]\n",
      "\n",
      "Example of Image 26:\n",
      "Image - Min Value: 33 Max Value: 219\n",
      "Image - Shape: (32, 32, 3)\n",
      "Label - Label Id: 8 Name: ship\n"
     ]
    },
    {
     "data": {
      "image/png": "[encoded data removed]",
      "text/plain": [
       "<matplotlib.figure.Figure at 0x7f979240cfd0>"
      ]
     },
     "metadata": {
      "image/png": {
       "height": 250,
       "width": 253
      }
     },
     "output_type": "display_data"
    }
   ],
   "source": [
    "%matplotlib inline\n",
    "%config InlineBackend.figure_format = 'retina'\n",
    "\n",
    "import helper\n",
    "import numpy as np\n",
    "\n",
    "# Explore the dataset\n",
    "batch_id = 3\n",
    "sample_id = 26\n",
    "helper.display_stats(cifar10_dataset_folder_path, batch_id, sample_id)"
   ]
  },
  {
   "cell_type": "markdown",
   "metadata": {
    "deletable": true,
    "editable": true
   },
   "source": [
    "## Implement Preprocess Functions\n",
    "### Normalize\n",
    "In the cell below, implement the `normalize` function to take in image data, `x`, and return it as a normalized Numpy array. The values should be in the range of 0 to 1, inclusive.  The return object should be the same shape as `x`."
   ]
  },
  {
   "cell_type": "code",
   "execution_count": 3,
   "metadata": {
    "collapsed": false,
    "deletable": true,
    "editable": true
   },
   "outputs": [
    {
     "name": "stdout",
     "output_type": "stream",
     "text": [
      "Tests Passed\n"
     ]
    }
   ],
   "source": [
    "def normalize(x):\n",
    "    \"\"\"\n",
    "    Normalize a list of sample image data in the range of 0 to 1\n",
    "    : x: List of image data.  The image shape is (32, 32, 3)\n",
    "    : return: Numpy array of normalize data\n",
    "    \"\"\"\n",
    "    # TODO: Implement Function\n",
    "    return (x-x.min())/(x.max()-x.min())\n",
    "\n",
    "\n",
    "\"\"\"\n",
    "DON'T MODIFY ANYTHING IN THIS CELL THAT IS BELOW THIS LINE\n",
    "\"\"\"\n",
    "tests.test_normalize(normalize)"
   ]
  },
  {
   "cell_type": "markdown",
   "metadata": {
    "deletable": true,
    "editable": true
   },
   "source": [
    "### One-hot encode\n",
    "Just like the previous code cell, you'll be implementing a function for preprocessing.  This time, you'll implement the `one_hot_encode` function. The input, `x`, are a list of labels.  Implement the function to return the list of labels as One-Hot encoded Numpy array.  The possible values for labels are 0 to 9. The one-hot encoding function should return the same encoding for each value between each call to `one_hot_encode`.  Make sure to save the map of encodings outside the function.\n",
    "\n",
    "Hint: Don't reinvent the wheel."
   ]
  },
  {
   "cell_type": "code",
   "execution_count": 4,
   "metadata": {
    "collapsed": false,
    "deletable": true,
    "editable": true
   },
   "outputs": [
    {
     "name": "stdout",
     "output_type": "stream",
     "text": [
      "Tests Passed\n"
     ]
    }
   ],
   "source": [
    "def one_hot_encode(x):\n",
    "    \"\"\"\n",
    "    One hot encode a list of sample labels. Return a one-hot encoded vector for each label.\n",
    "    : x: List of sample Labels\n",
    "    : return: Numpy array of one-hot encoded labels\n",
    "    \"\"\"\n",
    "    # TODO: Implement Function\n",
    "    l = len(x)\n",
    "    ohe = np.zeros((l, 10))\n",
    "    for i in range(l):\n",
    "        ohe[i][x[i]] = 1\n",
    "\n",
    "    return ohe\n",
    "\n",
    "\n",
    "\"\"\"\n",
    "DON'T MODIFY ANYTHING IN THIS CELL THAT IS BELOW THIS LINE\n",
    "\"\"\"\n",
    "tests.test_one_hot_encode(one_hot_encode)"
   ]
  },
  {
   "cell_type": "markdown",
   "metadata": {
    "deletable": true,
    "editable": true
   },
   "source": [
    "### Randomize Data\n",
    "As you saw from exploring the data above, the order of the samples are randomized.  It doesn't hurt to randomize it again, but you don't need to for this dataset."
   ]
  },
  {
   "cell_type": "markdown",
   "metadata": {
    "deletable": true,
    "editable": true
   },
   "source": [
    "## Preprocess all the data and save it\n",
    "Running the code cell below will preprocess all the CIFAR-10 data and save it to file. The code below also uses 10% of the training data for validation."
   ]
  },
  {
   "cell_type": "code",
   "execution_count": 5,
   "metadata": {
    "collapsed": true,
    "deletable": true,
    "editable": true
   },
   "outputs": [],
   "source": [
    "\"\"\"\n",
    "DON'T MODIFY ANYTHING IN THIS CELL\n",
    "\"\"\"\n",
    "# Preprocess Training, Validation, and Testing Data\n",
    "helper.preprocess_and_save_data(cifar10_dataset_folder_path, normalize, one_hot_encode)"
   ]
  },
  {
   "cell_type": "markdown",
   "metadata": {
    "deletable": true,
    "editable": true
   },
   "source": [
    "# Check Point\n",
    "This is your first checkpoint.  If you ever decide to come back to this notebook or have to restart the notebook, you can start from here.  The preprocessed data has been saved to disk."
   ]
  },
  {
   "cell_type": "code",
   "execution_count": 6,
   "metadata": {
    "collapsed": true,
    "deletable": true,
    "editable": true
   },
   "outputs": [],
   "source": [
    "\"\"\"\n",
    "DON'T MODIFY ANYTHING IN THIS CELL\n",
    "\"\"\"\n",
    "import pickle\n",
    "import problem_unittests as tests\n",
    "import helper\n",
    "\n",
    "# Load the Preprocessed Validation data\n",
    "valid_features, valid_labels = pickle.load(open('preprocess_validation.p', mode='rb'))"
   ]
  },
  {
   "cell_type": "markdown",
   "metadata": {
    "deletable": true,
    "editable": true
   },
   "source": [
    "## Build the network\n",
    "For the neural network, you'll build each layer into a function.  Most of the code you've seen has been outside of functions. To test your code more thoroughly, we require that you put each layer in a function.  This allows us to give you better feedback and test for simple mistakes using our unittests before you submit your project.\n",
    "\n",
    ">**Note:** If you're finding it hard to dedicate enough time for this course each week, we've provided a small shortcut to this part of the project. In the next couple of problems, you'll have the option to use classes from the [TensorFlow Layers](https://www.tensorflow.org/api_docs/python/tf/layers) or [TensorFlow Layers (contrib)](https://www.tensorflow.org/api_guides/python/contrib.layers) packages to build each layer, except the layers you build in the \"Convolutional and Max Pooling Layer\" section.  TF Layers is similar to Keras's and TFLearn's abstraction to layers, so it's easy to pickup.\n",
    "\n",
    ">However, if you would like to get the most out of this course, try to solve all the problems _without_ using anything from the TF Layers packages. You **can** still use classes from other packages that happen to have the same name as ones you find in TF Layers! For example, instead of using the TF Layers version of the `conv2d` class, [tf.layers.conv2d](https://www.tensorflow.org/api_docs/python/tf/layers/conv2d), you would want to use the TF Neural Network version of `conv2d`, [tf.nn.conv2d](https://www.tensorflow.org/api_docs/python/tf/nn/conv2d). \n",
    "\n",
    "Let's begin!\n",
    "\n",
    "### Input\n",
    "The neural network needs to read the image data, one-hot encoded labels, and dropout keep probability. Implement the following functions\n",
    "* Implement `neural_net_image_input`\n",
    " * Return a [TF Placeholder](https://www.tensorflow.org/api_docs/python/tf/placeholder)\n",
    " * Set the shape using `image_shape` with batch size set to `None`.\n",
    " * Name the TensorFlow placeholder \"x\" using the TensorFlow `name` parameter in the [TF Placeholder](https://www.tensorflow.org/api_docs/python/tf/placeholder).\n",
    "* Implement `neural_net_label_input`\n",
    " * Return a [TF Placeholder](https://www.tensorflow.org/api_docs/python/tf/placeholder)\n",
    " * Set the shape using `n_classes` with batch size set to `None`.\n",
    " * Name the TensorFlow placeholder \"y\" using the TensorFlow `name` parameter in the [TF Placeholder](https://www.tensorflow.org/api_docs/python/tf/placeholder).\n",
    "* Implement `neural_net_keep_prob_input`\n",
    " * Return a [TF Placeholder](https://www.tensorflow.org/api_docs/python/tf/placeholder) for dropout keep probability.\n",
    " * Name the TensorFlow placeholder \"keep_prob\" using the TensorFlow `name` parameter in the [TF Placeholder](https://www.tensorflow.org/api_docs/python/tf/placeholder).\n",
    "\n",
    "These names will be used at the end of the project to load your saved model.\n",
    "\n",
    "Note: `None` for shapes in TensorFlow allow for a dynamic size."
   ]
  },
  {
   "cell_type": "code",
   "execution_count": 7,
   "metadata": {
    "collapsed": false,
    "deletable": true,
    "editable": true
   },
   "outputs": [
    {
     "name": "stdout",
     "output_type": "stream",
     "text": [
      "Image Input Tests Passed.\n",
      "Label Input Tests Passed.\n",
      "Keep Prob Tests Passed.\n"
     ]
    }
   ],
   "source": [
    "import tensorflow as tf\n",
    "\n",
    "def neural_net_image_input(image_shape):\n",
    "    \"\"\"\n",
    "    Return a Tensor for a batch of image input\n",
    "    : image_shape: Shape of the images\n",
    "    : return: Tensor for image input.\n",
    "    \"\"\"\n",
    "    # TODO: Implement Function\n",
    "    return tf.placeholder(tf.float32,shape=[None,*image_shape],name=\"x\")\n",
    "\n",
    "\n",
    "def neural_net_label_input(n_classes):\n",
    "    \"\"\"\n",
    "    Return a Tensor for a batch of label input\n",
    "    : n_classes: Number of classes\n",
    "    : return: Tensor for label input.\n",
    "    \"\"\"\n",
    "    # TODO: Implement Function\n",
    "    return tf.placeholder(tf.float32,shape=[None,n_classes],name=\"y\")\n",
    "\n",
    "\n",
    "def neural_net_keep_prob_input():\n",
    "    \"\"\"\n",
    "    Return a Tensor for keep probability\n",
    "    : return: Tensor for keep probability.\n",
    "    \"\"\"\n",
    "    # TODO: Implement Function\n",
    "    return tf.placeholder(tf.float32,shape=None,name=\"keep_prob\")\n",
    "\n",
    "\n",
    "\"\"\"\n",
    "DON'T MODIFY ANYTHING IN THIS CELL THAT IS BELOW THIS LINE\n",
    "\"\"\"\n",
    "tf.reset_default_graph()\n",
    "tests.test_nn_image_inputs(neural_net_image_input)\n",
    "tests.test_nn_label_inputs(neural_net_label_input)\n",
    "tests.test_nn_keep_prob_inputs(neural_net_keep_prob_input)"
   ]
  },
  {
   "cell_type": "markdown",
   "metadata": {
    "deletable": true,
    "editable": true
   },
   "source": [
    "### Convolution and Max Pooling Layer\n",
    "Convolution layers have a lot of success with images. For this code cell, you should implement the function `conv2d_maxpool` to apply convolution then max pooling:\n",
    "* Create the weight and bias using `conv_ksize`, `conv_num_outputs` and the shape of `x_tensor`.\n",
    "* Apply a convolution to `x_tensor` using weight and `conv_strides`.\n",
    " * We recommend you use same padding, but you're welcome to use any padding.\n",
    "* Add bias\n",
    "* Add a nonlinear activation to the convolution.\n",
    "* Apply Max Pooling using `pool_ksize` and `pool_strides`.\n",
    " * We recommend you use same padding, but you're welcome to use any padding.\n",
    "\n",
    "**Note:** You **can't** use [TensorFlow Layers](https://www.tensorflow.org/api_docs/python/tf/layers) or [TensorFlow Layers (contrib)](https://www.tensorflow.org/api_guides/python/contrib.layers) for **this** layer, but you can still use TensorFlow's [Neural Network](https://www.tensorflow.org/api_docs/python/tf/nn) package. You may still use the shortcut option for all the **other** layers."
   ]
  },
  {
   "cell_type": "code",
   "execution_count": 8,
   "metadata": {
    "collapsed": false,
    "deletable": true,
    "editable": true
   },
   "outputs": [
    {
     "name": "stdout",
     "output_type": "stream",
     "text": [
      "Tests Passed\n"
     ]
    }
   ],
   "source": [
    "def conv2d_maxpool(x_tensor, conv_num_outputs, conv_ksize, conv_strides, pool_ksize, pool_strides):\n",
    "    \"\"\"\n",
    "    Apply convolution then max pooling to x_tensor\n",
    "    :param x_tensor: TensorFlow Tensor\n",
    "    :param conv_num_outputs: Number of outputs for the convolutional layer\n",
    "    :param conv_ksize: kernal size 2-D Tuple for the convolutional layer\n",
    "    :param conv_strides: Stride 2-D Tuple for convolution\n",
    "    :param pool_ksize: kernal size 2-D Tuple for pool\n",
    "    :param pool_strides: Stride 2-D Tuple for pool\n",
    "    : return: A tensor that represents convolution and max pooling of x_tensor\n",
    "    \"\"\"\n",
    "    # TODO: Implement Function\n",
    "    W = tf.Variable(tf.truncated_normal([conv_ksize[0],conv_ksize[1],x_tensor.shape.as_list()[3],conv_num_outputs],stddev=0.1)) \n",
    "    b = tf.Variable(tf.zeros([conv_num_outputs]))\n",
    "    \n",
    "    x = tf.nn.conv2d(x_tensor,W,strides=[1,conv_strides[0],conv_strides[1],1],padding='SAME')\n",
    "    x = tf.nn.bias_add(x,b)\n",
    "    x = tf.nn.relu(x)\n",
    "    \n",
    "    return tf.nn.max_pool(x,ksize=[1,pool_ksize[0],pool_ksize[1],1],strides=[1,pool_strides[0],pool_strides[1],1],padding='SAME')\n",
    "\n",
    "\n",
    "\"\"\"\n",
    "DON'T MODIFY ANYTHING IN THIS CELL THAT IS BELOW THIS LINE\n",
    "\"\"\"\n",
    "tests.test_con_pool(conv2d_maxpool)"
   ]
  },
  {
   "cell_type": "markdown",
   "metadata": {
    "deletable": true,
    "editable": true
   },
   "source": [
    "### Flatten Layer\n",
    "Implement the `flatten` function to change the dimension of `x_tensor` from a 4-D tensor to a 2-D tensor.  The output should be the shape (*Batch Size*, *Flattened Image Size*). Shortcut option: you can use classes from the [TensorFlow Layers](https://www.tensorflow.org/api_docs/python/tf/layers) or [TensorFlow Layers (contrib)](https://www.tensorflow.org/api_guides/python/contrib.layers) packages for this layer. For more of a challenge, only use other TensorFlow packages."
   ]
  },
  {
   "cell_type": "code",
   "execution_count": 9,
   "metadata": {
    "collapsed": false,
    "deletable": true,
    "editable": true
   },
   "outputs": [
    {
     "name": "stdout",
     "output_type": "stream",
     "text": [
      "Tests Passed\n"
     ]
    }
   ],
   "source": [
    "def flatten(x_tensor):\n",
    "    \"\"\"\n",
    "    Flatten x_tensor to (Batch Size, Flattened Image Size)\n",
    "    : x_tensor: A tensor of size (Batch Size, ...), where ... are the image dimensions.\n",
    "    : return: A tensor of size (Batch Size, Flattened Image Size).\n",
    "    \"\"\"\n",
    "    # TODO: Implement Function\n",
    "    tshape = x_tensor.shape.as_list()\n",
    "    return tf.reshape(x_tensor,[-1,tshape[1]*tshape[2]*tshape[3]])\n",
    "\n",
    "\n",
    "\"\"\"\n",
    "DON'T MODIFY ANYTHING IN THIS CELL THAT IS BELOW THIS LINE\n",
    "\"\"\"\n",
    "tests.test_flatten(flatten)"
   ]
  },
  {
   "cell_type": "markdown",
   "metadata": {
    "deletable": true,
    "editable": true
   },
   "source": [
    "### Fully-Connected Layer\n",
    "Implement the `fully_conn` function to apply a fully connected layer to `x_tensor` with the shape (*Batch Size*, *num_outputs*). Shortcut option: you can use classes from the [TensorFlow Layers](https://www.tensorflow.org/api_docs/python/tf/layers) or [TensorFlow Layers (contrib)](https://www.tensorflow.org/api_guides/python/contrib.layers) packages for this layer. For more of a challenge, only use other TensorFlow packages."
   ]
  },
  {
   "cell_type": "code",
   "execution_count": 10,
   "metadata": {
    "collapsed": false,
    "deletable": true,
    "editable": true
   },
   "outputs": [
    {
     "name": "stdout",
     "output_type": "stream",
     "text": [
      "Tests Passed\n"
     ]
    }
   ],
   "source": [
    "def fully_conn(x_tensor, num_outputs):\n",
    "    \"\"\"\n",
    "    Apply a fully connected layer to x_tensor using weight and bias\n",
    "    : x_tensor: A 2-D tensor where the first dimension is batch size.\n",
    "    : num_outputs: The number of output that the new tensor should be.\n",
    "    : return: A 2-D tensor where the second dimension is num_outputs.\n",
    "    \"\"\"\n",
    "    # TODO: Implement Function\n",
    "    W = tf.Variable(tf.truncated_normal([x_tensor.shape.as_list()[1],num_outputs],stddev=0.1)) \n",
    "    b = tf.Variable(tf.zeros([num_outputs]))\n",
    "    \n",
    "    fcl = tf.add(tf.matmul(x_tensor, W),b)\n",
    "    fcl = tf.nn.relu(fcl)\n",
    "    \n",
    "    return fcl\n",
    "\n",
    "\n",
    "\"\"\"\n",
    "DON'T MODIFY ANYTHING IN THIS CELL THAT IS BELOW THIS LINE\n",
    "\"\"\"\n",
    "tests.test_fully_conn(fully_conn)"
   ]
  },
  {
   "cell_type": "markdown",
   "metadata": {
    "deletable": true,
    "editable": true
   },
   "source": [
    "### Output Layer\n",
    "Implement the `output` function to apply a fully connected layer to `x_tensor` with the shape (*Batch Size*, *num_outputs*). Shortcut option: you can use classes from the [TensorFlow Layers](https://www.tensorflow.org/api_docs/python/tf/layers) or [TensorFlow Layers (contrib)](https://www.tensorflow.org/api_guides/python/contrib.layers) packages for this layer. For more of a challenge, only use other TensorFlow packages.\n",
    "\n",
    "**Note:** Activation, softmax, or cross entropy should **not** be applied to this."
   ]
  },
  {
   "cell_type": "code",
   "execution_count": 11,
   "metadata": {
    "collapsed": false,
    "deletable": true,
    "editable": true
   },
   "outputs": [
    {
     "name": "stdout",
     "output_type": "stream",
     "text": [
      "Tests Passed\n"
     ]
    }
   ],
   "source": [
    "def output(x_tensor, num_outputs):\n",
    "    \"\"\"\n",
    "    Apply a output layer to x_tensor using weight and bias\n",
    "    : x_tensor: A 2-D tensor where the first dimension is batch size.\n",
    "    : num_outputs: The number of output that the new tensor should be.\n",
    "    : return: A 2-D tensor where the second dimension is num_outputs.\n",
    "    \"\"\"\n",
    "    # TODO: Implement Function\n",
    "    W = tf.Variable(tf.truncated_normal([x_tensor.shape.as_list()[1],num_outputs])) \n",
    "    b = tf.Variable(tf.truncated_normal([num_outputs]))\n",
    "    \n",
    "    out = tf.add(tf.matmul(x_tensor,W),b)\n",
    "    return out\n",
    "\n",
    "\n",
    "\"\"\"\n",
    "DON'T MODIFY ANYTHING IN THIS CELL THAT IS BELOW THIS LINE\n",
    "\"\"\"\n",
    "tests.test_output(output)"
   ]
  },
  {
   "cell_type": "markdown",
   "metadata": {
    "deletable": true,
    "editable": true
   },
   "source": [
    "### Create Convolutional Model\n",
    "Implement the function `conv_net` to create a convolutional neural network model. The function takes in a batch of images, `x`, and outputs logits.  Use the layers you created above to create this model:\n",
    "\n",
    "* Apply 1, 2, or 3 Convolution and Max Pool layers\n",
    "* Apply a Flatten Layer\n",
    "* Apply 1, 2, or 3 Fully Connected Layers\n",
    "* Apply an Output Layer\n",
    "* Return the output\n",
    "* Apply [TensorFlow's Dropout](https://www.tensorflow.org/api_docs/python/tf/nn/dropout) to one or more layers in the model using `keep_prob`. "
   ]
  },
  {
   "cell_type": "code",
   "execution_count": 12,
   "metadata": {
    "collapsed": false,
    "deletable": true,
    "editable": true
   },
   "outputs": [
    {
     "name": "stdout",
     "output_type": "stream",
     "text": [
      "Neural Network Built!\n"
     ]
    }
   ],
   "source": [
    "def conv_net(x, keep_prob):\n",
    "    \"\"\"\n",
    "    Create a convolutional neural network model\n",
    "    : x: Placeholder tensor that holds image data.\n",
    "    : keep_prob: Placeholder tensor that hold dropout keep probability.\n",
    "    : return: Tensor that represents logits\n",
    "    \"\"\"\n",
    "    # TODO: Apply 1, 2, or 3 Convolution and Max Pool layers\n",
    "    #    Play around with different number of outputs, kernel size and stride\n",
    "    # Function Definition from Above:\n",
    "    #    conv2d_maxpool(x_tensor, conv_num_outputs, conv_ksize, conv_strides, pool_ksize, pool_strides)\n",
    "    net = conv2d_maxpool(x,25,(3,3),(1,1),(2,2),(2,2))\n",
    "\n",
    "    # TODO: Apply a Flatten Layer\n",
    "    # Function Definition from Above:\n",
    "    #   flatten(x_tensor)\n",
    "    net = flatten(net)\n",
    "\n",
    "    # TODO: Apply 1, 2, or 3 Fully Connected Layers\n",
    "    #    Play around with different number of outputs\n",
    "    # Function Definition from Above:\n",
    "    #   fully_conn(x_tensor, num_outputs)\n",
    "    net = fully_conn(net,250)\n",
    "    net = tf.nn.dropout(net,keep_prob)\n",
    "    net = fully_conn(net,125)\n",
    "    \n",
    "    # TODO: Apply an Output Layer\n",
    "    #    Set this to the number of classes\n",
    "    # Function Definition from Above:\n",
    "    #   output(x_tensor, num_outputs)\n",
    "    net = output(net,10)\n",
    "    \n",
    "    # TODO: return output\n",
    "    return net\n",
    "\n",
    "\n",
    "\"\"\"\n",
    "DON'T MODIFY ANYTHING IN THIS CELL THAT IS BELOW THIS LINE\n",
    "\"\"\"\n",
    "\n",
    "##############################\n",
    "## Build the Neural Network ##\n",
    "##############################\n",
    "\n",
    "# Remove previous weights, bias, inputs, etc..\n",
    "tf.reset_default_graph()\n",
    "\n",
    "# Inputs\n",
    "x = neural_net_image_input((32, 32, 3))\n",
    "y = neural_net_label_input(10)\n",
    "keep_prob = neural_net_keep_prob_input()\n",
    "\n",
    "# Model\n",
    "logits = conv_net(x, keep_prob)\n",
    "\n",
    "# Name logits Tensor, so that is can be loaded from disk after training\n",
    "logits = tf.identity(logits, name='logits')\n",
    "\n",
    "# Loss and Optimizer\n",
    "cost = tf.reduce_mean(tf.nn.softmax_cross_entropy_with_logits(logits=logits, labels=y))\n",
    "optimizer = tf.train.AdamOptimizer().minimize(cost)\n",
    "\n",
    "# Accuracy\n",
    "correct_pred = tf.equal(tf.argmax(logits, 1), tf.argmax(y, 1))\n",
    "accuracy = tf.reduce_mean(tf.cast(correct_pred, tf.float32), name='accuracy')\n",
    "\n",
    "tests.test_conv_net(conv_net)"
   ]
  },
  {
   "cell_type": "markdown",
   "metadata": {
    "deletable": true,
    "editable": true
   },
   "source": [
    "## Train the Neural Network\n",
    "### Single Optimization\n",
    "Implement the function `train_neural_network` to do a single optimization.  The optimization should use `optimizer` to optimize in `session` with a `feed_dict` of the following:\n",
    "* `x` for image input\n",
    "* `y` for labels\n",
    "* `keep_prob` for keep probability for dropout\n",
    "\n",
    "This function will be called for each batch, so `tf.global_variables_initializer()` has already been called.\n",
    "\n",
    "Note: Nothing needs to be returned. This function is only optimizing the neural network."
   ]
  },
  {
   "cell_type": "code",
   "execution_count": 13,
   "metadata": {
    "collapsed": false,
    "deletable": true,
    "editable": true
   },
   "outputs": [
    {
     "name": "stdout",
     "output_type": "stream",
     "text": [
      "Tests Passed\n"
     ]
    }
   ],
   "source": [
    "def train_neural_network(session, optimizer, keep_probability, feature_batch, label_batch):\n",
    "    \"\"\"\n",
    "    Optimize the session on a batch of images and labels\n",
    "    : session: Current TensorFlow session\n",
    "    : optimizer: TensorFlow optimizer function\n",
    "    : keep_probability: keep probability\n",
    "    : feature_batch: Batch of Numpy image data\n",
    "    : label_batch: Batch of Numpy label data\n",
    "    \"\"\"\n",
    "    # TODO: Implement Function\n",
    "    session.run(optimizer, feed_dict={x:feature_batch,y:label_batch,keep_prob:keep_probability})\n",
    "\n",
    "\"\"\"\n",
    "DON'T MODIFY ANYTHING IN THIS CELL THAT IS BELOW THIS LINE\n",
    "\"\"\"\n",
    "tests.test_train_nn(train_neural_network)"
   ]
  },
  {
   "cell_type": "markdown",
   "metadata": {
    "deletable": true,
    "editable": true
   },
   "source": [
    "### Show Stats\n",
    "Implement the function `print_stats` to print loss and validation accuracy.  Use the global variables `valid_features` and `valid_labels` to calculate validation accuracy.  Use a keep probability of `1.0` to calculate the loss and validation accuracy."
   ]
  },
  {
   "cell_type": "code",
   "execution_count": 14,
   "metadata": {
    "collapsed": true,
    "deletable": true,
    "editable": true
   },
   "outputs": [],
   "source": [
    "def print_stats(session, feature_batch, label_batch, cost, accuracy):\n",
    "    \"\"\"\n",
    "    Print information about loss and validation accuracy\n",
    "    : session: Current TensorFlow session\n",
    "    : feature_batch: Batch of Numpy image data\n",
    "    : label_batch: Batch of Numpy label data\n",
    "    : cost: TensorFlow cost function\n",
    "    : accuracy: TensorFlow accuracy function\n",
    "    \"\"\"\n",
    "    # TODO: Implement Function\n",
    "    loss = session.run(cost,feed_dict={x:feature_batch,y:label_batch,keep_prob:1.0})\n",
    "    valid_acc = session.run(accuracy,feed_dict={x:valid_features,y:valid_labels,keep_prob:1.0})\n",
    "    \n",
    "    print('Loss: {:>10.4f} Validation Accuracy: {:.6f}'.format(loss,valid_acc))"
   ]
  },
  {
   "cell_type": "markdown",
   "metadata": {
    "deletable": true,
    "editable": true
   },
   "source": [
    "### Hyperparameters\n",
    "Tune the following parameters:\n",
    "* Set `epochs` to the number of iterations until the network stops learning or start overfitting\n",
    "* Set `batch_size` to the highest number that your machine has memory for.  Most people set them to common sizes of memory:\n",
    " * 64\n",
    " * 128\n",
    " * 256\n",
    " * ...\n",
    "* Set `keep_probability` to the probability of keeping a node using dropout"
   ]
  },
  {
   "cell_type": "code",
   "execution_count": 15,
   "metadata": {
    "collapsed": true,
    "deletable": true,
    "editable": true
   },
   "outputs": [],
   "source": [
    "# TODO: Tune Parameters\n",
    "epochs = 50\n",
    "batch_size = 128\n",
    "keep_probability = 0.4"
   ]
  },
  {
   "cell_type": "markdown",
   "metadata": {
    "deletable": true,
    "editable": true
   },
   "source": [
    "### Train on a Single CIFAR-10 Batch\n",
    "Instead of training the neural network on all the CIFAR-10 batches of data, let's use a single batch. This should save time while you iterate on the model to get a better accuracy.  Once the final validation accuracy is 50% or greater, run the model on all the data in the next section."
   ]
  },
  {
   "cell_type": "code",
   "execution_count": 16,
   "metadata": {
    "collapsed": false,
    "deletable": true,
    "editable": true
   },
   "outputs": [
    {
     "name": "stdout",
     "output_type": "stream",
     "text": [
      "Checking the Training on a Single Batch...\n",
      "Epoch  1, CIFAR-10 Batch 1:  Loss:     2.3265 Validation Accuracy: 0.161000\n",
      "Epoch  2, CIFAR-10 Batch 1:  Loss:     2.1356 Validation Accuracy: 0.248200\n",
      "Epoch  3, CIFAR-10 Batch 1:  Loss:     2.0156 Validation Accuracy: 0.296600\n",
      "Epoch  4, CIFAR-10 Batch 1:  Loss:     1.9760 Validation Accuracy: 0.317000\n",
      "Epoch  5, CIFAR-10 Batch 1:  Loss:     1.8188 Validation Accuracy: 0.355000\n",
      "Epoch  6, CIFAR-10 Batch 1:  Loss:     1.8183 Validation Accuracy: 0.363200\n",
      "Epoch  7, CIFAR-10 Batch 1:  Loss:     1.7472 Validation Accuracy: 0.374000\n",
      "Epoch  8, CIFAR-10 Batch 1:  Loss:     1.6497 Validation Accuracy: 0.387000\n",
      "Epoch  9, CIFAR-10 Batch 1:  Loss:     1.6104 Validation Accuracy: 0.406400\n",
      "Epoch 10, CIFAR-10 Batch 1:  Loss:     1.4934 Validation Accuracy: 0.432200\n",
      "Epoch 11, CIFAR-10 Batch 1:  Loss:     1.4814 Validation Accuracy: 0.420400\n",
      "Epoch 12, CIFAR-10 Batch 1:  Loss:     1.3902 Validation Accuracy: 0.455800\n",
      "Epoch 13, CIFAR-10 Batch 1:  Loss:     1.2572 Validation Accuracy: 0.457000\n",
      "Epoch 14, CIFAR-10 Batch 1:  Loss:     1.1746 Validation Accuracy: 0.476400\n",
      "Epoch 15, CIFAR-10 Batch 1:  Loss:     1.1230 Validation Accuracy: 0.479200\n",
      "Epoch 16, CIFAR-10 Batch 1:  Loss:     1.0319 Validation Accuracy: 0.491400\n",
      "Epoch 17, CIFAR-10 Batch 1:  Loss:     0.9683 Validation Accuracy: 0.493200\n",
      "Epoch 18, CIFAR-10 Batch 1:  Loss:     0.9282 Validation Accuracy: 0.503000\n",
      "Epoch 19, CIFAR-10 Batch 1:  Loss:     0.8661 Validation Accuracy: 0.497600\n",
      "Epoch 20, CIFAR-10 Batch 1:  Loss:     0.8190 Validation Accuracy: 0.507600\n",
      "Epoch 21, CIFAR-10 Batch 1:  Loss:     0.7430 Validation Accuracy: 0.506800\n",
      "Epoch 22, CIFAR-10 Batch 1:  Loss:     0.6765 Validation Accuracy: 0.508000\n",
      "Epoch 23, CIFAR-10 Batch 1:  Loss:     0.5736 Validation Accuracy: 0.527200\n",
      "Epoch 24, CIFAR-10 Batch 1:  Loss:     0.6139 Validation Accuracy: 0.508600\n",
      "Epoch 25, CIFAR-10 Batch 1:  Loss:     0.5341 Validation Accuracy: 0.527800\n",
      "Epoch 26, CIFAR-10 Batch 1:  Loss:     0.4742 Validation Accuracy: 0.521800\n",
      "Epoch 27, CIFAR-10 Batch 1:  Loss:     0.4355 Validation Accuracy: 0.510000\n",
      "Epoch 28, CIFAR-10 Batch 1:  Loss:     0.3507 Validation Accuracy: 0.507600\n",
      "Epoch 29, CIFAR-10 Batch 1:  Loss:     0.3261 Validation Accuracy: 0.524000\n",
      "Epoch 30, CIFAR-10 Batch 1:  Loss:     0.3179 Validation Accuracy: 0.530200\n",
      "Epoch 31, CIFAR-10 Batch 1:  Loss:     0.3243 Validation Accuracy: 0.526400\n",
      "Epoch 32, CIFAR-10 Batch 1:  Loss:     0.2560 Validation Accuracy: 0.536800\n",
      "Epoch 33, CIFAR-10 Batch 1:  Loss:     0.2527 Validation Accuracy: 0.531200\n",
      "Epoch 34, CIFAR-10 Batch 1:  Loss:     0.2192 Validation Accuracy: 0.530400\n",
      "Epoch 35, CIFAR-10 Batch 1:  Loss:     0.1949 Validation Accuracy: 0.526600\n",
      "Epoch 36, CIFAR-10 Batch 1:  Loss:     0.1726 Validation Accuracy: 0.533600\n",
      "Epoch 37, CIFAR-10 Batch 1:  Loss:     0.1684 Validation Accuracy: 0.539400\n",
      "Epoch 38, CIFAR-10 Batch 1:  Loss:     0.1539 Validation Accuracy: 0.531200\n",
      "Epoch 39, CIFAR-10 Batch 1:  Loss:     0.1388 Validation Accuracy: 0.529200\n",
      "Epoch 40, CIFAR-10 Batch 1:  Loss:     0.1396 Validation Accuracy: 0.527600\n",
      "Epoch 41, CIFAR-10 Batch 1:  Loss:     0.1368 Validation Accuracy: 0.525600\n",
      "Epoch 42, CIFAR-10 Batch 1:  Loss:     0.1260 Validation Accuracy: 0.530200\n",
      "Epoch 43, CIFAR-10 Batch 1:  Loss:     0.1459 Validation Accuracy: 0.522200\n",
      "Epoch 44, CIFAR-10 Batch 1:  Loss:     0.1253 Validation Accuracy: 0.520800\n",
      "Epoch 45, CIFAR-10 Batch 1:  Loss:     0.1357 Validation Accuracy: 0.522000\n",
      "Epoch 46, CIFAR-10 Batch 1:  Loss:     0.1103 Validation Accuracy: 0.535000\n",
      "Epoch 47, CIFAR-10 Batch 1:  Loss:     0.1055 Validation Accuracy: 0.526600\n",
      "Epoch 48, CIFAR-10 Batch 1:  Loss:     0.1079 Validation Accuracy: 0.527200\n",
      "Epoch 49, CIFAR-10 Batch 1:  Loss:     0.0699 Validation Accuracy: 0.522600\n",
      "Epoch 50, CIFAR-10 Batch 1:  Loss:     0.0892 Validation Accuracy: 0.530000\n"
     ]
    }
   ],
   "source": [
    "\"\"\"\n",
    "DON'T MODIFY ANYTHING IN THIS CELL\n",
    "\"\"\"\n",
    "print('Checking the Training on a Single Batch...')\n",
    "with tf.Session() as sess:\n",
    "    # Initializing the variables\n",
    "    sess.run(tf.global_variables_initializer())\n",
    "    \n",
    "    # Training cycle\n",
    "    for epoch in range(epochs):\n",
    "        batch_i = 1\n",
    "        for batch_features, batch_labels in helper.load_preprocess_training_batch(batch_i, batch_size):\n",
    "            train_neural_network(sess, optimizer, keep_probability, batch_features, batch_labels)\n",
    "        print('Epoch {:>2}, CIFAR-10 Batch {}:  '.format(epoch + 1, batch_i), end='')\n",
    "        print_stats(sess, batch_features, batch_labels, cost, accuracy)"
   ]
  },
  {
   "cell_type": "markdown",
   "metadata": {
    "deletable": true,
    "editable": true
   },
   "source": [
    "### Fully Train the Model\n",
    "Now that you got a good accuracy with a single CIFAR-10 batch, try it with all five batches."
   ]
  },
  {
   "cell_type": "code",
   "execution_count": 17,
   "metadata": {
    "collapsed": false,
    "deletable": true,
    "editable": true
   },
   "outputs": [
    {
     "name": "stdout",
     "output_type": "stream",
     "text": [
      "Training...\n",
      "Epoch  1, CIFAR-10 Batch 1:  Loss:     2.2248 Validation Accuracy: 0.214400\n",
      "Epoch  1, CIFAR-10 Batch 2:  Loss:     2.0617 Validation Accuracy: 0.260400\n",
      "Epoch  1, CIFAR-10 Batch 3:  Loss:     1.8082 Validation Accuracy: 0.313000\n",
      "Epoch  1, CIFAR-10 Batch 4:  Loss:     1.6319 Validation Accuracy: 0.357600\n",
      "Epoch  1, CIFAR-10 Batch 5:  Loss:     1.7076 Validation Accuracy: 0.380600\n",
      "Epoch  2, CIFAR-10 Batch 1:  Loss:     1.7426 Validation Accuracy: 0.407000\n",
      "Epoch  2, CIFAR-10 Batch 2:  Loss:     1.6311 Validation Accuracy: 0.421600\n",
      "Epoch  2, CIFAR-10 Batch 3:  Loss:     1.4287 Validation Accuracy: 0.405800\n",
      "Epoch  2, CIFAR-10 Batch 4:  Loss:     1.4514 Validation Accuracy: 0.448000\n",
      "Epoch  2, CIFAR-10 Batch 5:  Loss:     1.4544 Validation Accuracy: 0.461600\n",
      "Epoch  3, CIFAR-10 Batch 1:  Loss:     1.4739 Validation Accuracy: 0.476000\n",
      "Epoch  3, CIFAR-10 Batch 2:  Loss:     1.3505 Validation Accuracy: 0.479000\n",
      "Epoch  3, CIFAR-10 Batch 3:  Loss:     1.2058 Validation Accuracy: 0.468600\n",
      "Epoch  3, CIFAR-10 Batch 4:  Loss:     1.2238 Validation Accuracy: 0.496800\n",
      "Epoch  3, CIFAR-10 Batch 5:  Loss:     1.3385 Validation Accuracy: 0.498600\n",
      "Epoch  4, CIFAR-10 Batch 1:  Loss:     1.3642 Validation Accuracy: 0.510400\n",
      "Epoch  4, CIFAR-10 Batch 2:  Loss:     1.1621 Validation Accuracy: 0.515000\n",
      "Epoch  4, CIFAR-10 Batch 3:  Loss:     1.1052 Validation Accuracy: 0.491800\n",
      "Epoch  4, CIFAR-10 Batch 4:  Loss:     1.1580 Validation Accuracy: 0.526600\n",
      "Epoch  4, CIFAR-10 Batch 5:  Loss:     1.2886 Validation Accuracy: 0.500600\n",
      "Epoch  5, CIFAR-10 Batch 1:  Loss:     1.2720 Validation Accuracy: 0.535600\n",
      "Epoch  5, CIFAR-10 Batch 2:  Loss:     1.0981 Validation Accuracy: 0.534200\n",
      "Epoch  5, CIFAR-10 Batch 3:  Loss:     0.9314 Validation Accuracy: 0.527200\n",
      "Epoch  5, CIFAR-10 Batch 4:  Loss:     1.0572 Validation Accuracy: 0.548800\n",
      "Epoch  5, CIFAR-10 Batch 5:  Loss:     1.1806 Validation Accuracy: 0.520400\n",
      "Epoch  6, CIFAR-10 Batch 1:  Loss:     1.1704 Validation Accuracy: 0.544800\n",
      "Epoch  6, CIFAR-10 Batch 2:  Loss:     0.9477 Validation Accuracy: 0.556000\n",
      "Epoch  6, CIFAR-10 Batch 3:  Loss:     0.8034 Validation Accuracy: 0.549200\n",
      "Epoch  6, CIFAR-10 Batch 4:  Loss:     0.8743 Validation Accuracy: 0.553600\n",
      "Epoch  6, CIFAR-10 Batch 5:  Loss:     1.0815 Validation Accuracy: 0.551200\n",
      "Epoch  7, CIFAR-10 Batch 1:  Loss:     1.1200 Validation Accuracy: 0.565800\n",
      "Epoch  7, CIFAR-10 Batch 2:  Loss:     0.8755 Validation Accuracy: 0.552200\n",
      "Epoch  7, CIFAR-10 Batch 3:  Loss:     0.7225 Validation Accuracy: 0.559600\n",
      "Epoch  7, CIFAR-10 Batch 4:  Loss:     0.8733 Validation Accuracy: 0.566800\n",
      "Epoch  7, CIFAR-10 Batch 5:  Loss:     0.9181 Validation Accuracy: 0.557600\n",
      "Epoch  8, CIFAR-10 Batch 1:  Loss:     0.9350 Validation Accuracy: 0.577000\n",
      "Epoch  8, CIFAR-10 Batch 2:  Loss:     0.8608 Validation Accuracy: 0.579000\n",
      "Epoch  8, CIFAR-10 Batch 3:  Loss:     0.6996 Validation Accuracy: 0.582200\n",
      "Epoch  8, CIFAR-10 Batch 4:  Loss:     0.7689 Validation Accuracy: 0.591200\n",
      "Epoch  8, CIFAR-10 Batch 5:  Loss:     0.8291 Validation Accuracy: 0.569400\n",
      "Epoch  9, CIFAR-10 Batch 1:  Loss:     0.9498 Validation Accuracy: 0.577200\n",
      "Epoch  9, CIFAR-10 Batch 2:  Loss:     0.7700 Validation Accuracy: 0.578800\n",
      "Epoch  9, CIFAR-10 Batch 3:  Loss:     0.5692 Validation Accuracy: 0.582400\n",
      "Epoch  9, CIFAR-10 Batch 4:  Loss:     0.6904 Validation Accuracy: 0.578000\n",
      "Epoch  9, CIFAR-10 Batch 5:  Loss:     0.6852 Validation Accuracy: 0.589800\n",
      "Epoch 10, CIFAR-10 Batch 1:  Loss:     0.8564 Validation Accuracy: 0.594200\n",
      "Epoch 10, CIFAR-10 Batch 2:  Loss:     0.7378 Validation Accuracy: 0.588800\n",
      "Epoch 10, CIFAR-10 Batch 3:  Loss:     0.5767 Validation Accuracy: 0.598000\n",
      "Epoch 10, CIFAR-10 Batch 4:  Loss:     0.6526 Validation Accuracy: 0.599400\n",
      "Epoch 10, CIFAR-10 Batch 5:  Loss:     0.7105 Validation Accuracy: 0.588800\n",
      "Epoch 11, CIFAR-10 Batch 1:  Loss:     0.8540 Validation Accuracy: 0.591400\n",
      "Epoch 11, CIFAR-10 Batch 2:  Loss:     0.6060 Validation Accuracy: 0.582000\n",
      "Epoch 11, CIFAR-10 Batch 3:  Loss:     0.5350 Validation Accuracy: 0.571400\n",
      "Epoch 11, CIFAR-10 Batch 4:  Loss:     0.5709 Validation Accuracy: 0.603800\n",
      "Epoch 11, CIFAR-10 Batch 5:  Loss:     0.6499 Validation Accuracy: 0.595600\n",
      "Epoch 12, CIFAR-10 Batch 1:  Loss:     0.7923 Validation Accuracy: 0.594800\n",
      "Epoch 12, CIFAR-10 Batch 2:  Loss:     0.5896 Validation Accuracy: 0.598800\n",
      "Epoch 12, CIFAR-10 Batch 3:  Loss:     0.4407 Validation Accuracy: 0.605200\n",
      "Epoch 12, CIFAR-10 Batch 4:  Loss:     0.5158 Validation Accuracy: 0.596800\n",
      "Epoch 12, CIFAR-10 Batch 5:  Loss:     0.5279 Validation Accuracy: 0.602000\n",
      "Epoch 13, CIFAR-10 Batch 1:  Loss:     0.7041 Validation Accuracy: 0.609200\n",
      "Epoch 13, CIFAR-10 Batch 2:  Loss:     0.5018 Validation Accuracy: 0.576600\n",
      "Epoch 13, CIFAR-10 Batch 3:  Loss:     0.4344 Validation Accuracy: 0.602000\n",
      "Epoch 13, CIFAR-10 Batch 4:  Loss:     0.4894 Validation Accuracy: 0.613200\n",
      "Epoch 13, CIFAR-10 Batch 5:  Loss:     0.5114 Validation Accuracy: 0.608600\n",
      "Epoch 14, CIFAR-10 Batch 1:  Loss:     0.6560 Validation Accuracy: 0.610200\n",
      "Epoch 14, CIFAR-10 Batch 2:  Loss:     0.5200 Validation Accuracy: 0.595400\n",
      "Epoch 14, CIFAR-10 Batch 3:  Loss:     0.4334 Validation Accuracy: 0.601800\n",
      "Epoch 14, CIFAR-10 Batch 4:  Loss:     0.4593 Validation Accuracy: 0.614400\n",
      "Epoch 14, CIFAR-10 Batch 5:  Loss:     0.4071 Validation Accuracy: 0.613800\n",
      "Epoch 15, CIFAR-10 Batch 1:  Loss:     0.6238 Validation Accuracy: 0.611200\n",
      "Epoch 15, CIFAR-10 Batch 2:  Loss:     0.5193 Validation Accuracy: 0.604600\n",
      "Epoch 15, CIFAR-10 Batch 3:  Loss:     0.3964 Validation Accuracy: 0.613400\n",
      "Epoch 15, CIFAR-10 Batch 4:  Loss:     0.3911 Validation Accuracy: 0.618000\n",
      "Epoch 15, CIFAR-10 Batch 5:  Loss:     0.3755 Validation Accuracy: 0.611800\n",
      "Epoch 16, CIFAR-10 Batch 1:  Loss:     0.5617 Validation Accuracy: 0.606400\n",
      "Epoch 16, CIFAR-10 Batch 2:  Loss:     0.4723 Validation Accuracy: 0.604600\n",
      "Epoch 16, CIFAR-10 Batch 3:  Loss:     0.3890 Validation Accuracy: 0.602600\n",
      "Epoch 16, CIFAR-10 Batch 4:  Loss:     0.4445 Validation Accuracy: 0.616200\n",
      "Epoch 16, CIFAR-10 Batch 5:  Loss:     0.3768 Validation Accuracy: 0.621200\n",
      "Epoch 17, CIFAR-10 Batch 1:  Loss:     0.6182 Validation Accuracy: 0.603800\n",
      "Epoch 17, CIFAR-10 Batch 2:  Loss:     0.4696 Validation Accuracy: 0.604600\n",
      "Epoch 17, CIFAR-10 Batch 3:  Loss:     0.3291 Validation Accuracy: 0.613000\n",
      "Epoch 17, CIFAR-10 Batch 4:  Loss:     0.3737 Validation Accuracy: 0.620000\n",
      "Epoch 17, CIFAR-10 Batch 5:  Loss:     0.3340 Validation Accuracy: 0.626800\n",
      "Epoch 18, CIFAR-10 Batch 1:  Loss:     0.4431 Validation Accuracy: 0.611000\n",
      "Epoch 18, CIFAR-10 Batch 2:  Loss:     0.4666 Validation Accuracy: 0.611400\n",
      "Epoch 18, CIFAR-10 Batch 3:  Loss:     0.3341 Validation Accuracy: 0.614600\n",
      "Epoch 18, CIFAR-10 Batch 4:  Loss:     0.3462 Validation Accuracy: 0.623600\n",
      "Epoch 18, CIFAR-10 Batch 5:  Loss:     0.2717 Validation Accuracy: 0.623600\n",
      "Epoch 19, CIFAR-10 Batch 1:  Loss:     0.4596 Validation Accuracy: 0.598600\n",
      "Epoch 19, CIFAR-10 Batch 2:  Loss:     0.4265 Validation Accuracy: 0.615000\n",
      "Epoch 19, CIFAR-10 Batch 3:  Loss:     0.2919 Validation Accuracy: 0.609800\n",
      "Epoch 19, CIFAR-10 Batch 4:  Loss:     0.2886 Validation Accuracy: 0.613600\n",
      "Epoch 19, CIFAR-10 Batch 5:  Loss:     0.2636 Validation Accuracy: 0.619000\n",
      "Epoch 20, CIFAR-10 Batch 1:  Loss:     0.4174 Validation Accuracy: 0.617800\n",
      "Epoch 20, CIFAR-10 Batch 2:  Loss:     0.3661 Validation Accuracy: 0.612000\n",
      "Epoch 20, CIFAR-10 Batch 3:  Loss:     0.3026 Validation Accuracy: 0.627200\n",
      "Epoch 20, CIFAR-10 Batch 4:  Loss:     0.3011 Validation Accuracy: 0.628800\n",
      "Epoch 20, CIFAR-10 Batch 5:  Loss:     0.2748 Validation Accuracy: 0.621200\n",
      "Epoch 21, CIFAR-10 Batch 1:  Loss:     0.4199 Validation Accuracy: 0.609400\n",
      "Epoch 21, CIFAR-10 Batch 2:  Loss:     0.3242 Validation Accuracy: 0.619600\n",
      "Epoch 21, CIFAR-10 Batch 3:  Loss:     0.2409 Validation Accuracy: 0.621400\n",
      "Epoch 21, CIFAR-10 Batch 4:  Loss:     0.2859 Validation Accuracy: 0.624800\n",
      "Epoch 21, CIFAR-10 Batch 5:  Loss:     0.2260 Validation Accuracy: 0.619400\n",
      "Epoch 22, CIFAR-10 Batch 1:  Loss:     0.4199 Validation Accuracy: 0.621000\n",
      "Epoch 22, CIFAR-10 Batch 2:  Loss:     0.3230 Validation Accuracy: 0.612400\n",
      "Epoch 22, CIFAR-10 Batch 3:  Loss:     0.2611 Validation Accuracy: 0.609600\n",
      "Epoch 22, CIFAR-10 Batch 4:  Loss:     0.2574 Validation Accuracy: 0.610000\n",
      "Epoch 22, CIFAR-10 Batch 5:  Loss:     0.2357 Validation Accuracy: 0.615200\n",
      "Epoch 23, CIFAR-10 Batch 1:  Loss:     0.3439 Validation Accuracy: 0.614400\n",
      "Epoch 23, CIFAR-10 Batch 2:  Loss:     0.3205 Validation Accuracy: 0.610400\n",
      "Epoch 23, CIFAR-10 Batch 3:  Loss:     0.2537 Validation Accuracy: 0.610800\n",
      "Epoch 23, CIFAR-10 Batch 4:  Loss:     0.2011 Validation Accuracy: 0.628000\n",
      "Epoch 23, CIFAR-10 Batch 5:  Loss:     0.2392 Validation Accuracy: 0.628000\n",
      "Epoch 24, CIFAR-10 Batch 1:  Loss:     0.2783 Validation Accuracy: 0.625400\n",
      "Epoch 24, CIFAR-10 Batch 2:  Loss:     0.2705 Validation Accuracy: 0.624600\n",
      "Epoch 24, CIFAR-10 Batch 3:  Loss:     0.2423 Validation Accuracy: 0.611600\n",
      "Epoch 24, CIFAR-10 Batch 4:  Loss:     0.1471 Validation Accuracy: 0.626600\n",
      "Epoch 24, CIFAR-10 Batch 5:  Loss:     0.2210 Validation Accuracy: 0.623200\n",
      "Epoch 25, CIFAR-10 Batch 1:  Loss:     0.3022 Validation Accuracy: 0.610200\n",
      "Epoch 25, CIFAR-10 Batch 2:  Loss:     0.2527 Validation Accuracy: 0.624400\n",
      "Epoch 25, CIFAR-10 Batch 3:  Loss:     0.1780 Validation Accuracy: 0.623600\n",
      "Epoch 25, CIFAR-10 Batch 4:  Loss:     0.1375 Validation Accuracy: 0.626400\n",
      "Epoch 25, CIFAR-10 Batch 5:  Loss:     0.2198 Validation Accuracy: 0.621200\n",
      "Epoch 26, CIFAR-10 Batch 1:  Loss:     0.2321 Validation Accuracy: 0.619600\n",
      "Epoch 26, CIFAR-10 Batch 2:  Loss:     0.2640 Validation Accuracy: 0.618400\n",
      "Epoch 26, CIFAR-10 Batch 3:  Loss:     0.1468 Validation Accuracy: 0.617600\n",
      "Epoch 26, CIFAR-10 Batch 4:  Loss:     0.1464 Validation Accuracy: 0.619200\n",
      "Epoch 26, CIFAR-10 Batch 5:  Loss:     0.2133 Validation Accuracy: 0.626600\n",
      "Epoch 27, CIFAR-10 Batch 1:  Loss:     0.2376 Validation Accuracy: 0.618200\n",
      "Epoch 27, CIFAR-10 Batch 2:  Loss:     0.2118 Validation Accuracy: 0.626400\n",
      "Epoch 27, CIFAR-10 Batch 3:  Loss:     0.1272 Validation Accuracy: 0.624800\n",
      "Epoch 27, CIFAR-10 Batch 4:  Loss:     0.1371 Validation Accuracy: 0.623800\n",
      "Epoch 27, CIFAR-10 Batch 5:  Loss:     0.2095 Validation Accuracy: 0.616800\n",
      "Epoch 28, CIFAR-10 Batch 1:  Loss:     0.2282 Validation Accuracy: 0.619000\n",
      "Epoch 28, CIFAR-10 Batch 2:  Loss:     0.2592 Validation Accuracy: 0.617600\n",
      "Epoch 28, CIFAR-10 Batch 3:  Loss:     0.1373 Validation Accuracy: 0.622800\n",
      "Epoch 28, CIFAR-10 Batch 4:  Loss:     0.1165 Validation Accuracy: 0.624800\n",
      "Epoch 28, CIFAR-10 Batch 5:  Loss:     0.1834 Validation Accuracy: 0.625200\n",
      "Epoch 29, CIFAR-10 Batch 1:  Loss:     0.1841 Validation Accuracy: 0.617000\n",
      "Epoch 29, CIFAR-10 Batch 2:  Loss:     0.2134 Validation Accuracy: 0.623400\n",
      "Epoch 29, CIFAR-10 Batch 3:  Loss:     0.1104 Validation Accuracy: 0.626000\n",
      "Epoch 29, CIFAR-10 Batch 4:  Loss:     0.1046 Validation Accuracy: 0.628400\n",
      "Epoch 29, CIFAR-10 Batch 5:  Loss:     0.1732 Validation Accuracy: 0.612600\n",
      "Epoch 30, CIFAR-10 Batch 1:  Loss:     0.1786 Validation Accuracy: 0.608800\n",
      "Epoch 30, CIFAR-10 Batch 2:  Loss:     0.1682 Validation Accuracy: 0.621600\n",
      "Epoch 30, CIFAR-10 Batch 3:  Loss:     0.1110 Validation Accuracy: 0.621600\n",
      "Epoch 30, CIFAR-10 Batch 4:  Loss:     0.0971 Validation Accuracy: 0.621400\n",
      "Epoch 30, CIFAR-10 Batch 5:  Loss:     0.1336 Validation Accuracy: 0.622400\n",
      "Epoch 31, CIFAR-10 Batch 1:  Loss:     0.1738 Validation Accuracy: 0.608800\n",
      "Epoch 31, CIFAR-10 Batch 2:  Loss:     0.2050 Validation Accuracy: 0.625600\n",
      "Epoch 31, CIFAR-10 Batch 3:  Loss:     0.0960 Validation Accuracy: 0.628000\n",
      "Epoch 31, CIFAR-10 Batch 4:  Loss:     0.1019 Validation Accuracy: 0.617600\n",
      "Epoch 31, CIFAR-10 Batch 5:  Loss:     0.1392 Validation Accuracy: 0.626000\n",
      "Epoch 32, CIFAR-10 Batch 1:  Loss:     0.1634 Validation Accuracy: 0.620400\n",
      "Epoch 32, CIFAR-10 Batch 2:  Loss:     0.2142 Validation Accuracy: 0.619800\n",
      "Epoch 32, CIFAR-10 Batch 3:  Loss:     0.0937 Validation Accuracy: 0.630400\n",
      "Epoch 32, CIFAR-10 Batch 4:  Loss:     0.1069 Validation Accuracy: 0.619600\n",
      "Epoch 32, CIFAR-10 Batch 5:  Loss:     0.1402 Validation Accuracy: 0.628600\n",
      "Epoch 33, CIFAR-10 Batch 1:  Loss:     0.1211 Validation Accuracy: 0.621400\n",
      "Epoch 33, CIFAR-10 Batch 2:  Loss:     0.1912 Validation Accuracy: 0.615400\n",
      "Epoch 33, CIFAR-10 Batch 3:  Loss:     0.0870 Validation Accuracy: 0.625000\n",
      "Epoch 33, CIFAR-10 Batch 4:  Loss:     0.0681 Validation Accuracy: 0.612800\n",
      "Epoch 33, CIFAR-10 Batch 5:  Loss:     0.1497 Validation Accuracy: 0.619200\n",
      "Epoch 34, CIFAR-10 Batch 1:  Loss:     0.1518 Validation Accuracy: 0.620200\n",
      "Epoch 34, CIFAR-10 Batch 2:  Loss:     0.1758 Validation Accuracy: 0.619600\n",
      "Epoch 34, CIFAR-10 Batch 3:  Loss:     0.0881 Validation Accuracy: 0.626800\n",
      "Epoch 34, CIFAR-10 Batch 4:  Loss:     0.0838 Validation Accuracy: 0.623400\n",
      "Epoch 34, CIFAR-10 Batch 5:  Loss:     0.1160 Validation Accuracy: 0.626200\n",
      "Epoch 35, CIFAR-10 Batch 1:  Loss:     0.1363 Validation Accuracy: 0.613600\n",
      "Epoch 35, CIFAR-10 Batch 2:  Loss:     0.1297 Validation Accuracy: 0.605600\n",
      "Epoch 35, CIFAR-10 Batch 3:  Loss:     0.0845 Validation Accuracy: 0.629600\n",
      "Epoch 35, CIFAR-10 Batch 4:  Loss:     0.0742 Validation Accuracy: 0.623800\n",
      "Epoch 35, CIFAR-10 Batch 5:  Loss:     0.1443 Validation Accuracy: 0.622200\n",
      "Epoch 36, CIFAR-10 Batch 1:  Loss:     0.1240 Validation Accuracy: 0.618600\n",
      "Epoch 36, CIFAR-10 Batch 2:  Loss:     0.1476 Validation Accuracy: 0.611000\n",
      "Epoch 36, CIFAR-10 Batch 3:  Loss:     0.0909 Validation Accuracy: 0.628200\n",
      "Epoch 36, CIFAR-10 Batch 4:  Loss:     0.0841 Validation Accuracy: 0.609200\n",
      "Epoch 36, CIFAR-10 Batch 5:  Loss:     0.1435 Validation Accuracy: 0.629600\n",
      "Epoch 37, CIFAR-10 Batch 1:  Loss:     0.0899 Validation Accuracy: 0.621600\n",
      "Epoch 37, CIFAR-10 Batch 2:  Loss:     0.1826 Validation Accuracy: 0.588000\n",
      "Epoch 37, CIFAR-10 Batch 3:  Loss:     0.0895 Validation Accuracy: 0.620400\n",
      "Epoch 37, CIFAR-10 Batch 4:  Loss:     0.0842 Validation Accuracy: 0.611600\n",
      "Epoch 37, CIFAR-10 Batch 5:  Loss:     0.0972 Validation Accuracy: 0.627000\n",
      "Epoch 38, CIFAR-10 Batch 1:  Loss:     0.1126 Validation Accuracy: 0.619600\n",
      "Epoch 38, CIFAR-10 Batch 2:  Loss:     0.1357 Validation Accuracy: 0.609400\n",
      "Epoch 38, CIFAR-10 Batch 3:  Loss:     0.0603 Validation Accuracy: 0.626400\n",
      "Epoch 38, CIFAR-10 Batch 4:  Loss:     0.0552 Validation Accuracy: 0.614000\n",
      "Epoch 38, CIFAR-10 Batch 5:  Loss:     0.0902 Validation Accuracy: 0.620200\n",
      "Epoch 39, CIFAR-10 Batch 1:  Loss:     0.0862 Validation Accuracy: 0.618400\n",
      "Epoch 39, CIFAR-10 Batch 2:  Loss:     0.1080 Validation Accuracy: 0.605400\n",
      "Epoch 39, CIFAR-10 Batch 3:  Loss:     0.0605 Validation Accuracy: 0.615000\n",
      "Epoch 39, CIFAR-10 Batch 4:  Loss:     0.0715 Validation Accuracy: 0.620000\n",
      "Epoch 39, CIFAR-10 Batch 5:  Loss:     0.1168 Validation Accuracy: 0.624400\n",
      "Epoch 40, CIFAR-10 Batch 1:  Loss:     0.0696 Validation Accuracy: 0.616400\n",
      "Epoch 40, CIFAR-10 Batch 2:  Loss:     0.1160 Validation Accuracy: 0.600800\n",
      "Epoch 40, CIFAR-10 Batch 3:  Loss:     0.0578 Validation Accuracy: 0.629400\n",
      "Epoch 40, CIFAR-10 Batch 4:  Loss:     0.0601 Validation Accuracy: 0.617000\n",
      "Epoch 40, CIFAR-10 Batch 5:  Loss:     0.1187 Validation Accuracy: 0.615200\n",
      "Epoch 41, CIFAR-10 Batch 1:  Loss:     0.0835 Validation Accuracy: 0.617600\n",
      "Epoch 41, CIFAR-10 Batch 2:  Loss:     0.1110 Validation Accuracy: 0.605000\n",
      "Epoch 41, CIFAR-10 Batch 3:  Loss:     0.0536 Validation Accuracy: 0.621200\n",
      "Epoch 41, CIFAR-10 Batch 4:  Loss:     0.0475 Validation Accuracy: 0.628000\n",
      "Epoch 41, CIFAR-10 Batch 5:  Loss:     0.0756 Validation Accuracy: 0.612000\n",
      "Epoch 42, CIFAR-10 Batch 1:  Loss:     0.0543 Validation Accuracy: 0.614200\n",
      "Epoch 42, CIFAR-10 Batch 2:  Loss:     0.1036 Validation Accuracy: 0.598000\n",
      "Epoch 42, CIFAR-10 Batch 3:  Loss:     0.0506 Validation Accuracy: 0.628400\n",
      "Epoch 42, CIFAR-10 Batch 4:  Loss:     0.0607 Validation Accuracy: 0.614600\n",
      "Epoch 42, CIFAR-10 Batch 5:  Loss:     0.0565 Validation Accuracy: 0.624800\n",
      "Epoch 43, CIFAR-10 Batch 1:  Loss:     0.0858 Validation Accuracy: 0.619600\n",
      "Epoch 43, CIFAR-10 Batch 2:  Loss:     0.1012 Validation Accuracy: 0.614400\n",
      "Epoch 43, CIFAR-10 Batch 3:  Loss:     0.0641 Validation Accuracy: 0.627200\n",
      "Epoch 43, CIFAR-10 Batch 4:  Loss:     0.0507 Validation Accuracy: 0.618600\n",
      "Epoch 43, CIFAR-10 Batch 5:  Loss:     0.0710 Validation Accuracy: 0.619800\n",
      "Epoch 44, CIFAR-10 Batch 1:  Loss:     0.0562 Validation Accuracy: 0.614600\n",
      "Epoch 44, CIFAR-10 Batch 2:  Loss:     0.0873 Validation Accuracy: 0.603000\n",
      "Epoch 44, CIFAR-10 Batch 3:  Loss:     0.0481 Validation Accuracy: 0.623000\n",
      "Epoch 44, CIFAR-10 Batch 4:  Loss:     0.0403 Validation Accuracy: 0.618200\n",
      "Epoch 44, CIFAR-10 Batch 5:  Loss:     0.0996 Validation Accuracy: 0.620000\n",
      "Epoch 45, CIFAR-10 Batch 1:  Loss:     0.0773 Validation Accuracy: 0.616400\n",
      "Epoch 45, CIFAR-10 Batch 2:  Loss:     0.0767 Validation Accuracy: 0.605200\n",
      "Epoch 45, CIFAR-10 Batch 3:  Loss:     0.0559 Validation Accuracy: 0.626000\n",
      "Epoch 45, CIFAR-10 Batch 4:  Loss:     0.0360 Validation Accuracy: 0.620800\n",
      "Epoch 45, CIFAR-10 Batch 5:  Loss:     0.0847 Validation Accuracy: 0.628000\n",
      "Epoch 46, CIFAR-10 Batch 1:  Loss:     0.0591 Validation Accuracy: 0.616400\n",
      "Epoch 46, CIFAR-10 Batch 2:  Loss:     0.0866 Validation Accuracy: 0.606400\n",
      "Epoch 46, CIFAR-10 Batch 3:  Loss:     0.0703 Validation Accuracy: 0.624000\n",
      "Epoch 46, CIFAR-10 Batch 4:  Loss:     0.0372 Validation Accuracy: 0.626200\n",
      "Epoch 46, CIFAR-10 Batch 5:  Loss:     0.0877 Validation Accuracy: 0.621000\n",
      "Epoch 47, CIFAR-10 Batch 1:  Loss:     0.0480 Validation Accuracy: 0.616800\n",
      "Epoch 47, CIFAR-10 Batch 2:  Loss:     0.0942 Validation Accuracy: 0.612600\n",
      "Epoch 47, CIFAR-10 Batch 3:  Loss:     0.0640 Validation Accuracy: 0.618200\n",
      "Epoch 47, CIFAR-10 Batch 4:  Loss:     0.0420 Validation Accuracy: 0.627400\n",
      "Epoch 47, CIFAR-10 Batch 5:  Loss:     0.0594 Validation Accuracy: 0.621000\n",
      "Epoch 48, CIFAR-10 Batch 1:  Loss:     0.0701 Validation Accuracy: 0.613400\n",
      "Epoch 48, CIFAR-10 Batch 2:  Loss:     0.0850 Validation Accuracy: 0.608200\n",
      "Epoch 48, CIFAR-10 Batch 3:  Loss:     0.0483 Validation Accuracy: 0.624000\n",
      "Epoch 48, CIFAR-10 Batch 4:  Loss:     0.0343 Validation Accuracy: 0.623200\n",
      "Epoch 48, CIFAR-10 Batch 5:  Loss:     0.0824 Validation Accuracy: 0.620000\n",
      "Epoch 49, CIFAR-10 Batch 1:  Loss:     0.0826 Validation Accuracy: 0.610200\n",
      "Epoch 49, CIFAR-10 Batch 2:  Loss:     0.0925 Validation Accuracy: 0.613000\n",
      "Epoch 49, CIFAR-10 Batch 3:  Loss:     0.0432 Validation Accuracy: 0.618400\n",
      "Epoch 49, CIFAR-10 Batch 4:  Loss:     0.0364 Validation Accuracy: 0.619200\n",
      "Epoch 49, CIFAR-10 Batch 5:  Loss:     0.0674 Validation Accuracy: 0.620800\n",
      "Epoch 50, CIFAR-10 Batch 1:  Loss:     0.0576 Validation Accuracy: 0.611400\n",
      "Epoch 50, CIFAR-10 Batch 2:  Loss:     0.0855 Validation Accuracy: 0.609000\n",
      "Epoch 50, CIFAR-10 Batch 3:  Loss:     0.0517 Validation Accuracy: 0.612400\n",
      "Epoch 50, CIFAR-10 Batch 4:  Loss:     0.0586 Validation Accuracy: 0.602400\n",
      "Epoch 50, CIFAR-10 Batch 5:  Loss:     0.0623 Validation Accuracy: 0.626800\n"
     ]
    }
   ],
   "source": [
    "\"\"\"\n",
    "DON'T MODIFY ANYTHING IN THIS CELL\n",
    "\"\"\"\n",
    "save_model_path = './image_classification'\n",
    "\n",
    "print('Training...')\n",
    "with tf.Session() as sess:\n",
    "    # Initializing the variables\n",
    "    sess.run(tf.global_variables_initializer())\n",
    "    \n",
    "    # Training cycle\n",
    "    for epoch in range(epochs):\n",
    "        # Loop over all batches\n",
    "        n_batches = 5\n",
    "        for batch_i in range(1, n_batches + 1):\n",
    "            for batch_features, batch_labels in helper.load_preprocess_training_batch(batch_i, batch_size):\n",
    "                train_neural_network(sess, optimizer, keep_probability, batch_features, batch_labels)\n",
    "            print('Epoch {:>2}, CIFAR-10 Batch {}:  '.format(epoch + 1, batch_i), end='')\n",
    "            print_stats(sess, batch_features, batch_labels, cost, accuracy)\n",
    "            \n",
    "    # Save Model\n",
    "    saver = tf.train.Saver()\n",
    "    save_path = saver.save(sess, save_model_path)"
   ]
  },
  {
   "cell_type": "markdown",
   "metadata": {
    "deletable": true,
    "editable": true
   },
   "source": [
    "# Checkpoint\n",
    "The model has been saved to disk.\n",
    "## Test Model\n",
    "Test your model against the test dataset.  This will be your final accuracy. You should have an accuracy greater than 50%. If you don't, keep tweaking the model architecture and parameters."
   ]
  },
  {
   "cell_type": "code",
   "execution_count": 18,
   "metadata": {
    "collapsed": false,
    "deletable": true,
    "editable": true
   },
   "outputs": [
    {
     "name": "stdout",
     "output_type": "stream",
     "text": [
      "Testing Accuracy: 0.6206487341772152\n",
      "\n"
     ]
    },
    {
     "data": {
      "image/png": "[encoded data removed]",
      "text/plain": [
       "<matplotlib.figure.Figure at 0x7f97fc62df60>"
      ]
     },
     "metadata": {
      "image/png": {
       "height": 319,
       "width": 355
      }
     },
     "output_type": "display_data"
    }
   ],
   "source": [
    "\"\"\"\n",
    "DON'T MODIFY ANYTHING IN THIS CELL\n",
    "\"\"\"\n",
    "%matplotlib inline\n",
    "%config InlineBackend.figure_format = 'retina'\n",
    "\n",
    "import tensorflow as tf\n",
    "import pickle\n",
    "import helper\n",
    "import random\n",
    "\n",
    "# Set batch size if not already set\n",
    "try:\n",
    "    if batch_size:\n",
    "        pass\n",
    "except NameError:\n",
    "    batch_size = 64\n",
    "\n",
    "save_model_path = './image_classification'\n",
    "n_samples = 4\n",
    "top_n_predictions = 3\n",
    "\n",
    "def test_model():\n",
    "    \"\"\"\n",
    "    Test the saved model against the test dataset\n",
    "    \"\"\"\n",
    "\n",
    "    test_features, test_labels = pickle.load(open('preprocess_test.p', mode='rb'))\n",
    "    loaded_graph = tf.Graph()\n",
    "\n",
    "    with tf.Session(graph=loaded_graph) as sess:\n",
    "        # Load model\n",
    "        loader = tf.train.import_meta_graph(save_model_path + '.meta')\n",
    "        loader.restore(sess, save_model_path)\n",
    "\n",
    "        # Get Tensors from loaded model\n",
    "        loaded_x = loaded_graph.get_tensor_by_name('x:0')\n",
    "        loaded_y = loaded_graph.get_tensor_by_name('y:0')\n",
    "        loaded_keep_prob = loaded_graph.get_tensor_by_name('keep_prob:0')\n",
    "        loaded_logits = loaded_graph.get_tensor_by_name('logits:0')\n",
    "        loaded_acc = loaded_graph.get_tensor_by_name('accuracy:0')\n",
    "        \n",
    "        # Get accuracy in batches for memory limitations\n",
    "        test_batch_acc_total = 0\n",
    "        test_batch_count = 0\n",
    "        \n",
    "        for test_feature_batch, test_label_batch in helper.batch_features_labels(test_features, test_labels, batch_size):\n",
    "            test_batch_acc_total += sess.run(\n",
    "                loaded_acc,\n",
    "                feed_dict={loaded_x: test_feature_batch, loaded_y: test_label_batch, loaded_keep_prob: 1.0})\n",
    "            test_batch_count += 1\n",
    "\n",
    "        print('Testing Accuracy: {}\\n'.format(test_batch_acc_total/test_batch_count))\n",
    "\n",
    "        # Print Random Samples\n",
    "        random_test_features, random_test_labels = tuple(zip(*random.sample(list(zip(test_features, test_labels)), n_samples)))\n",
    "        random_test_predictions = sess.run(\n",
    "            tf.nn.top_k(tf.nn.softmax(loaded_logits), top_n_predictions),\n",
    "            feed_dict={loaded_x: random_test_features, loaded_y: random_test_labels, loaded_keep_prob: 1.0})\n",
    "        helper.display_image_predictions(random_test_features, random_test_labels, random_test_predictions)\n",
    "\n",
    "\n",
    "test_model()"
   ]
  },
  {
   "cell_type": "markdown",
   "metadata": {
    "deletable": true,
    "editable": true
   },
   "source": [
    "## Why 50-80% Accuracy?\n",
    "You might be wondering why you can't get an accuracy any higher. First things first, 50% isn't bad for a simple CNN.  Pure guessing would get you 10% accuracy. However, you might notice people are getting scores [well above 80%](http://rodrigob.github.io/are_we_there_yet/build/classification_datasets_results.html#43494641522d3130).  That's because we haven't taught you all there is to know about neural networks. We still need to cover a few more techniques.\n",
    "## Submitting This Project\n",
    "When submitting this project, make sure to run all the cells before saving the notebook.  Save the notebook file as \"dlnd_image_classification.ipynb\" and save it as a HTML file under \"File\" -> \"Download as\".  Include the \"helper.py\" and \"problem_unittests.py\" files in your submission."
   ]
  }
 ],
 "metadata": {
  "kernelspec": {
   "display_name": "Python 3",
   "language": "python",
   "name": "python3"
  },
  "language_info": {
   "codemirror_mode": {
    "name": "ipython",
    "version": 3
   },
   "file_extension": ".py",
   "mimetype": "text/x-python",
   "name": "python",
   "nbconvert_exporter": "python",
   "pygments_lexer": "ipython3",
   "version": "3.5.2"
  },
  "widgets": {
   "state": {},
   "version": "1.1.2"
  }
 },
 "nbformat": 4,
 "nbformat_minor": 1
}
